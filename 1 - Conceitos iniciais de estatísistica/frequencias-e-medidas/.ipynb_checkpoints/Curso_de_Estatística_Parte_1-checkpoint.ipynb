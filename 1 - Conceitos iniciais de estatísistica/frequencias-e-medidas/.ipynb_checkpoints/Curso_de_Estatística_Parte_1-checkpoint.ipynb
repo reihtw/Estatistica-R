{
 "cells": [
  {
   "cell_type": "markdown",
   "metadata": {
    "colab_type": "text",
    "id": "WvMflodMjQKe"
   },
   "source": [
    "***\n",
    "# <font color=green size=10>CURSO DE ESTATÍSTICA - PARTE 1</font>\n",
    "***"
   ]
  },
  {
   "cell_type": "markdown",
   "metadata": {
    "colab_type": "text",
    "id": "cVgsZ_E3jQKg"
   },
   "source": [
    "# <font color=green>1 CONHECENDO OS DADOS</font>\n",
    "***"
   ]
  },
  {
   "cell_type": "markdown",
   "metadata": {
    "colab_type": "text",
    "id": "TDjqYYNojQKh"
   },
   "source": [
    "## <font color=green>1.1 Dataset do projeto</font>\n",
    "***"
   ]
  },
  {
   "cell_type": "markdown",
   "metadata": {
    "colab_type": "text",
    "id": "iN1gIbaKjQKh"
   },
   "source": [
    "### Pesquisa Nacional por Amostra de Domicílios - 2015\n",
    "\n",
    "A <b>Pesquisa Nacional por Amostra de Domicílios - PNAD</b> investiga anualmente, de forma permanente, características gerais da população, de educação, trabalho, rendimento e habitação e outras, com periodicidade variável, de acordo com as necessidades de informação para o país, como as características sobre migração, fecundidade, nupcialidade, saúde, segurança alimentar, entre outros temas. O levantamento dessas estatísticas constitui, ao longo dos 49 anos de realização da pesquisa, um importante instrumento para formulação, validação e avaliação de políticas orientadas para o desenvolvimento socioeconômico e a melhoria das condições de vida no Brasil."
   ]
  },
  {
   "cell_type": "markdown",
   "metadata": {
    "colab_type": "text",
    "id": "U6V7br1RjQKi"
   },
   "source": [
    "### Fonte dos Dados\n",
    "\n",
    "https://ww2.ibge.gov.br/home/estatistica/populacao/trabalhoerendimento/pnad2015/microdados.shtm"
   ]
  },
  {
   "cell_type": "markdown",
   "metadata": {
    "colab_type": "text",
    "id": "r0Fe_qnzjQKj"
   },
   "source": [
    "### Variáveis utilizadas\n",
    "\n",
    "> ### Renda\n",
    "> ***\n",
    "\n",
    "Rendimento mensal do trabalho principal para pessoas de 10 anos ou mais de idade.\n",
    "\n",
    "> ### Idade\n",
    "> ***\n",
    "\n",
    "Idade do morador na data de referência em anos.\n",
    "\n",
    "> ### Altura (elaboração própria)\n",
    "> ***\n",
    "\n",
    "Altura do morador em metros.\n",
    "\n",
    "> ### UF\n",
    "> ***\n",
    "\n",
    "|Código|Descrição|\n",
    "|---|---|\n",
    "|11|Rondônia|\n",
    "|12|Acre|\n",
    "|13|Amazonas|\n",
    "|14|Roraima|\n",
    "|15|Pará|\n",
    "|16|Amapá|\n",
    "|17|Tocantins|\n",
    "|21|Maranhão|\n",
    "|22|Piauí|\n",
    "|23|Ceará|\n",
    "|24|Rio Grande do Norte|\n",
    "|25|Paraíba|\n",
    "|26|Pernambuco|\n",
    "|27|Alagoas|\n",
    "|28|Sergipe|\n",
    "|29|Bahia|\n",
    "|31|Minas Gerais|\n",
    "|32|Espírito Santo|\n",
    "|33|Rio de Janeiro|\n",
    "|35|São Paulo|\n",
    "|41|Paraná|\n",
    "|42|Santa Catarina|\n",
    "|43|Rio Grande do Sul|\n",
    "|50|Mato Grosso do Sul|\n",
    "|51|Mato Grosso|\n",
    "|52|Goiás|\n",
    "|53|Distrito Federal|\n",
    "\n",
    "> ### Sexo\t\n",
    "> ***\n",
    "\n",
    "|Código|Descrição|\n",
    "|---|---|\n",
    "|0|Masculino|\n",
    "|1|Feminino|\n",
    "\n",
    "> ### Anos de Estudo\n",
    "> ***\n",
    "\n",
    "|Código|Descrição|\n",
    "|---|---|\n",
    "|1|Sem instrução e menos de 1 ano|\n",
    "|2|1 ano|\n",
    "|3|2 anos|\n",
    "|4|3 anos|\n",
    "|5|4 anos|\n",
    "|6|5 anos|\n",
    "|7|6 anos|\n",
    "|8|7 anos|\n",
    "|9|8 anos|\n",
    "|10|9 anos|\n",
    "|11|10 anos|\n",
    "|12|11 anos|\n",
    "|13|12 anos|\n",
    "|14|13 anos|\n",
    "|15|14 anos|\n",
    "|16|15 anos ou mais|\n",
    "|17|Não determinados| \n",
    "||Não aplicável|\n",
    "\n",
    "> ### Cor\n",
    "> ***\n",
    "\n",
    "|Código|Descrição|\n",
    "|---|---|\n",
    "|0|Indígena|\n",
    "|2|Branca|\n",
    "|4|Preta|\n",
    "|6|Amarela|\n",
    "|8|Parda|\n",
    "|9|Sem declaração|"
   ]
  },
  {
   "cell_type": "markdown",
   "metadata": {
    "colab_type": "text",
    "id": "OK1IQH5cX7Gb"
   },
   "source": [
    "#### <font color='red'>Observação</font>\n",
    "***\n",
    "> Os seguintes tratamentos foram realizados nos dados originais:\n",
    "> 1. Foram eliminados os registros onde a <b>Renda</b> era inválida (999 999 999 999);\n",
    "> 2. Foram eliminados os registros onde a <b>Renda</b> era missing;\n",
    "> 3. Foram considerados somente os registros das <b>Pessoas de Referência</b> de cada domicílio (responsável pelo domicílio)."
   ]
  },
  {
   "cell_type": "markdown",
   "metadata": {},
   "source": [
    "### R (informações básicas)"
   ]
  },
  {
   "cell_type": "code",
   "execution_count": 1,
   "metadata": {},
   "outputs": [
    {
     "data": {
      "text/plain": [
       "R version 4.1.1 (2021-08-10)\n",
       "Platform: x86_64-w64-mingw32/x64 (64-bit)\n",
       "Running under: Windows 10 x64 (build 22000)\n",
       "\n",
       "Matrix products: default\n",
       "\n",
       "locale:\n",
       "[1] LC_COLLATE=English_Australia.1252  LC_CTYPE=English_Australia.1252   \n",
       "[3] LC_MONETARY=English_Australia.1252 LC_NUMERIC=C                      \n",
       "[5] LC_TIME=English_Australia.1252    \n",
       "\n",
       "attached base packages:\n",
       "[1] stats     graphics  grDevices utils     datasets  methods   base     \n",
       "\n",
       "loaded via a namespace (and not attached):\n",
       " [1] fansi_0.5.0         digest_0.6.27       utf8_1.2.2         \n",
       " [4] crayon_1.4.1        IRdisplay_1.0       repr_1.1.3         \n",
       " [7] lifecycle_1.0.0     jsonlite_1.7.2      evaluate_0.14      \n",
       "[10] pillar_1.6.2        rlang_0.4.11        uuid_0.1-4         \n",
       "[13] vctrs_0.3.8         ellipsis_0.3.2      IRkernel_1.2.0.9000\n",
       "[16] tools_4.1.1         fastmap_1.1.0       compiler_4.1.1     \n",
       "[19] base64enc_0.1-3     pbdZMQ_0.3-5        htmltools_0.5.2    "
      ]
     },
     "metadata": {},
     "output_type": "display_data"
    }
   ],
   "source": [
    "sessionInfo()"
   ]
  },
  {
   "cell_type": "markdown",
   "metadata": {},
   "source": [
    "### Importando bibliotecas \n",
    "#### A bilioteca dplyr\n",
    "https://www.rdocumentation.org/packages/dplyr"
   ]
  },
  {
   "cell_type": "code",
   "execution_count": 2,
   "metadata": {},
   "outputs": [
    {
     "name": "stderr",
     "output_type": "stream",
     "text": [
      "\n",
      "Attaching package: 'dplyr'\n",
      "\n",
      "\n",
      "The following objects are masked from 'package:stats':\n",
      "\n",
      "    filter, lag\n",
      "\n",
      "\n",
      "The following objects are masked from 'package:base':\n",
      "\n",
      "    intersect, setdiff, setequal, union\n",
      "\n",
      "\n"
     ]
    }
   ],
   "source": [
    "library(dplyr)"
   ]
  },
  {
   "cell_type": "markdown",
   "metadata": {},
   "source": [
    "### <font color=red>Documentações:\n",
    "\n",
    "- [**select**](https://www.rdocumentation.org/packages/dplyr/versions/0.7.8/topics/select)\n",
    "- [**arrange**](https://www.rdocumentation.org/packages/dplyr/versions/0.7.8/topics/arrange)\n",
    "- [**read.csv**](https://www.rdocumentation.org/packages/utils/versions/3.6.1/topics/read.table)\n",
    "- [**head**](https://www.rdocumentation.org/packages/utils/versions/3.6.1/topics/head)"
   ]
  },
  {
   "cell_type": "markdown",
   "metadata": {},
   "source": [
    "### Acessando a ajuda"
   ]
  },
  {
   "cell_type": "code",
   "execution_count": 3,
   "metadata": {},
   "outputs": [
    {
     "name": "stderr",
     "output_type": "stream",
     "text": [
      "Warning message in seq_len(head.end.idx):\n",
      "\"first element used of 'length.out' argument\"\n",
      "ERROR while rich displaying an object: Error in seq_len(head.end.idx): argument must be coercible to non-negative integer\n",
      "\n",
      "Traceback:\n",
      "1. FUN(X[[i]], ...)\n",
      "2. tryCatch(withCallingHandlers({\n",
      " .     if (!mime %in% names(repr::mime2repr)) \n",
      " .         stop(\"No repr_* for mimetype \", mime, \" in repr::mime2repr\")\n",
      " .     rpr <- repr::mime2repr[[mime]](obj)\n",
      " .     if (is.null(rpr)) \n",
      " .         return(NULL)\n",
      " .     prepare_content(is.raw(rpr), rpr)\n",
      " . }, error = error_handler), error = outer_handler)\n",
      "3. tryCatchList(expr, classes, parentenv, handlers)\n",
      "4. tryCatchOne(expr, names, parentenv, handlers[[1L]])\n",
      "5. doTryCatch(return(expr), name, parentenv, handler)\n",
      "6. withCallingHandlers({\n",
      " .     if (!mime %in% names(repr::mime2repr)) \n",
      " .         stop(\"No repr_* for mimetype \", mime, \" in repr::mime2repr\")\n",
      " .     rpr <- repr::mime2repr[[mime]](obj)\n",
      " .     if (is.null(rpr)) \n",
      " .         return(NULL)\n",
      " .     prepare_content(is.raw(rpr), rpr)\n",
      " . }, error = error_handler)\n",
      "7. repr::mime2repr[[mime]](obj)\n",
      "8. repr_html.help_files_with_topic(obj)\n",
      "9. repr_help_files_with_topic_generic(obj, Rd2HTML)\n"
     ]
    },
    {
     "data": {
      "text/latex": [
       "\\inputencoding{utf8}\n",
       "\\HeaderA{select}{Subset columns using their names and types}{select}\n",
       "\\keyword{single table verbs}{select}\n",
       "%\n",
       "\\begin{Description}\\relax\n",
       "Select (and optionally rename) variables in a data frame, using a concise\n",
       "mini-language that makes it easy to refer to variables based on their name\n",
       "(e.g. \\code{a:f} selects all columns from \\code{a} on the left to \\code{f} on the\n",
       "right). You can also use predicate functions like \\LinkA{is.numeric}{is.numeric} to select\n",
       "variables based on their properties.\n",
       "%\n",
       "\\begin{SubSection}{Overview of selection features}\n",
       "\n",
       "Tidyverse selections implement a dialect of R where operators make\n",
       "it easy to select variables:\n",
       "\\begin{itemize}\n",
       "\n",
       "\\item{} \\code{:} for selecting a range of consecutive variables.\n",
       "\\item{} \\code{!} for taking the complement of a set of variables.\n",
       "\\item{} \\code{\\&} and \\code{|} for selecting the intersection or the union of two\n",
       "sets of variables.\n",
       "\\item{} \\code{c()} for combining selections.\n",
       "\n",
       "\\end{itemize}\n",
       "\n",
       "\n",
       "In addition, you can use \\strong{selection helpers}. Some helpers select specific\n",
       "columns:\n",
       "\\begin{itemize}\n",
       "\n",
       "\\item{} \\code{\\LinkA{everything()}{everything()}}: Matches all variables.\n",
       "\\item{} \\code{\\LinkA{last\\_col()}{last.Rul.col()}}: Select last variable, possibly with an offset.\n",
       "\n",
       "\\end{itemize}\n",
       "\n",
       "\n",
       "These helpers select variables by matching patterns in their names:\n",
       "\\begin{itemize}\n",
       "\n",
       "\\item{} \\code{\\LinkA{starts\\_with()}{starts.Rul.with()}}: Starts with a prefix.\n",
       "\\item{} \\code{\\LinkA{ends\\_with()}{ends.Rul.with()}}: Ends with a suffix.\n",
       "\\item{} \\code{\\LinkA{contains()}{contains()}}: Contains a literal string.\n",
       "\\item{} \\code{\\LinkA{matches()}{matches()}}: Matches a regular expression.\n",
       "\\item{} \\code{\\LinkA{num\\_range()}{num.Rul.range()}}: Matches a numerical range like x01, x02, x03.\n",
       "\n",
       "\\end{itemize}\n",
       "\n",
       "\n",
       "These helpers select variables from a character vector:\n",
       "\\begin{itemize}\n",
       "\n",
       "\\item{} \\code{\\LinkA{all\\_of()}{all.Rul.of()}}: Matches variable names in a character vector. All\n",
       "names must be present, otherwise an out-of-bounds error is\n",
       "thrown.\n",
       "\\item{} \\code{\\LinkA{any\\_of()}{any.Rul.of()}}: Same as \\code{all\\_of()}, except that no error is thrown\n",
       "for names that don't exist.\n",
       "\n",
       "\\end{itemize}\n",
       "\n",
       "\n",
       "This helper selects variables with a function:\n",
       "\\begin{itemize}\n",
       "\n",
       "\\item{} \\code{\\LinkA{where()}{where()}}: Applies a function to all variables and selects those\n",
       "for which the function returns \\code{TRUE}.\n",
       "\n",
       "\\end{itemize}\n",
       "\n",
       "\\end{SubSection}\n",
       "\n",
       "\\end{Description}\n",
       "%\n",
       "\\begin{Usage}\n",
       "\\begin{verbatim}\n",
       "select(.data, ...)\n",
       "\\end{verbatim}\n",
       "\\end{Usage}\n",
       "%\n",
       "\\begin{Arguments}\n",
       "\\begin{ldescription}\n",
       "\\item[\\code{.data}] A data frame, data frame extension (e.g. a tibble), or a\n",
       "lazy data frame (e.g. from dbplyr or dtplyr). See \\emph{Methods}, below, for\n",
       "more details.\n",
       "\n",
       "\\item[\\code{...}] <\\code{\\LinkA{tidy-select}{dplyr.Rul.tidy.Rul.select}}> One or more unquoted\n",
       "expressions separated by commas. Variable names can be used as if they\n",
       "were positions in the data frame, so expressions like \\code{x:y} can\n",
       "be used to select a range of variables.\n",
       "\\end{ldescription}\n",
       "\\end{Arguments}\n",
       "%\n",
       "\\begin{Value}\n",
       "An object of the same type as \\code{.data}. The output has the following\n",
       "properties:\n",
       "\\begin{itemize}\n",
       "\n",
       "\\item{} Rows are not affected.\n",
       "\\item{} Output columns are a subset of input columns, potentially with a different\n",
       "order. Columns will be renamed if \\code{new\\_name = old\\_name} form is used.\n",
       "\\item{} Data frame attributes are preserved.\n",
       "\\item{} Groups are maintained; you can't select off grouping variables.\n",
       "\n",
       "\\end{itemize}\n",
       "\n",
       "\\end{Value}\n",
       "%\n",
       "\\begin{Section}{Methods}\n",
       "\n",
       "This function is a \\strong{generic}, which means that packages can provide\n",
       "implementations (methods) for other classes. See the documentation of\n",
       "individual methods for extra arguments and differences in behaviour.\n",
       "\n",
       "The following methods are currently available in loaded packages:\n",
       "dplyr (\\code{data.frame}), utils (\\code{\\LinkA{list}{list}}).\n",
       "\\end{Section}\n",
       "%\n",
       "\\begin{Section}{Examples}\n",
       "\n",
       "\n",
       "Here we show the usage for the basic selection operators. See the\n",
       "specific help pages to learn about helpers like \\code{\\LinkA{starts\\_with()}{starts.Rul.with}}.\n",
       "\n",
       "The selection language can be used in functions like\n",
       "\\code{dplyr::select()} or \\code{tidyr::pivot\\_longer()}. Let's first attach\n",
       "the tidyverse:\\begin{alltt}library(tidyverse)\n",
       "\n",
       "# For better printing\n",
       "iris <- as_tibble(iris)\n",
       "\\end{alltt}\n",
       "\n",
       "\n",
       "Select variables by name:\\begin{alltt}starwars %>% select(height)\n",
       "#> # A tibble: 87 x 1\n",
       "#>   height\n",
       "#>    <int>\n",
       "#> 1    172\n",
       "#> 2    167\n",
       "#> 3     96\n",
       "#> 4    202\n",
       "#> # ... with 83 more rows\n",
       "\n",
       "iris %>% pivot_longer(Sepal.Length)\n",
       "#> # A tibble: 150 x 6\n",
       "#>   Sepal.Width Petal.Length Petal.Width Species name         value\n",
       "#>         <dbl>        <dbl>       <dbl> <fct>   <chr>        <dbl>\n",
       "#> 1         3.5          1.4         0.2 setosa  Sepal.Length   5.1\n",
       "#> 2         3            1.4         0.2 setosa  Sepal.Length   4.9\n",
       "#> 3         3.2          1.3         0.2 setosa  Sepal.Length   4.7\n",
       "#> 4         3.1          1.5         0.2 setosa  Sepal.Length   4.6\n",
       "#> # ... with 146 more rows\n",
       "\\end{alltt}\n",
       "\n",
       "\n",
       "Select multiple variables by separating them with commas. Note how\n",
       "the order of columns is determined by the order of inputs:\\begin{alltt}starwars %>% select(homeworld, height, mass)\n",
       "#> # A tibble: 87 x 3\n",
       "#>   homeworld height  mass\n",
       "#>   <chr>      <int> <dbl>\n",
       "#> 1 Tatooine     172    77\n",
       "#> 2 Tatooine     167    75\n",
       "#> 3 Naboo         96    32\n",
       "#> 4 Tatooine     202   136\n",
       "#> # ... with 83 more rows\n",
       "\\end{alltt}\n",
       "\n",
       "\n",
       "Functions like \\code{tidyr::pivot\\_longer()} don't take variables with\n",
       "dots. In this case use \\code{c()} to select multiple variables:\\begin{alltt}iris %>% pivot_longer(c(Sepal.Length, Petal.Length))\n",
       "#> # A tibble: 300 x 5\n",
       "#>   Sepal.Width Petal.Width Species name         value\n",
       "#>         <dbl>       <dbl> <fct>   <chr>        <dbl>\n",
       "#> 1         3.5         0.2 setosa  Sepal.Length   5.1\n",
       "#> 2         3.5         0.2 setosa  Petal.Length   1.4\n",
       "#> 3         3           0.2 setosa  Sepal.Length   4.9\n",
       "#> 4         3           0.2 setosa  Petal.Length   1.4\n",
       "#> # ... with 296 more rows\n",
       "\\end{alltt}\n",
       "\n",
       "%\n",
       "\\begin{SubSection}{Operators:}\n",
       "\n",
       "The \\code{:} operator selects a range of consecutive variables:\\begin{alltt}starwars %>% select(name:mass)\n",
       "#> # A tibble: 87 x 3\n",
       "#>   name           height  mass\n",
       "#>   <chr>           <int> <dbl>\n",
       "#> 1 Luke Skywalker    172    77\n",
       "#> 2 C-3PO             167    75\n",
       "#> 3 R2-D2              96    32\n",
       "#> 4 Darth Vader       202   136\n",
       "#> # ... with 83 more rows\n",
       "\\end{alltt}\n",
       "\n",
       "\n",
       "The \\code{!} operator negates a selection:\\begin{alltt}starwars %>% select(!(name:mass))\n",
       "#> # A tibble: 87 x 11\n",
       "#>   hair_color skin_color  eye_color birth_year sex   gender    homeworld species\n",
       "#>   <chr>      <chr>       <chr>          <dbl> <chr> <chr>     <chr>     <chr>  \n",
       "#> 1 blond      fair        blue            19   male  masculine Tatooine  Human  \n",
       "#> 2 <NA>       gold        yellow         112   none  masculine Tatooine  Droid  \n",
       "#> 3 <NA>       white, blue red             33   none  masculine Naboo     Droid  \n",
       "#> 4 none       white       yellow          41.9 male  masculine Tatooine  Human  \n",
       "#> # ... with 83 more rows, and 3 more variables: films <list>, vehicles <list>,\n",
       "#> #   starships <list>\n",
       "\n",
       "iris %>% select(!c(Sepal.Length, Petal.Length))\n",
       "#> # A tibble: 150 x 3\n",
       "#>   Sepal.Width Petal.Width Species\n",
       "#>         <dbl>       <dbl> <fct>  \n",
       "#> 1         3.5         0.2 setosa \n",
       "#> 2         3           0.2 setosa \n",
       "#> 3         3.2         0.2 setosa \n",
       "#> 4         3.1         0.2 setosa \n",
       "#> # ... with 146 more rows\n",
       "\n",
       "iris %>% select(!ends_with(\"Width\"))\n",
       "#> # A tibble: 150 x 3\n",
       "#>   Sepal.Length Petal.Length Species\n",
       "#>          <dbl>        <dbl> <fct>  \n",
       "#> 1          5.1          1.4 setosa \n",
       "#> 2          4.9          1.4 setosa \n",
       "#> 3          4.7          1.3 setosa \n",
       "#> 4          4.6          1.5 setosa \n",
       "#> # ... with 146 more rows\n",
       "\\end{alltt}\n",
       "\n",
       "\n",
       "\\code{\\&} and \\code{|} take the intersection or the union of two selections:\\begin{alltt}iris %>% select(starts_with(\"Petal\") & ends_with(\"Width\"))\n",
       "#> # A tibble: 150 x 1\n",
       "#>   Petal.Width\n",
       "#>         <dbl>\n",
       "#> 1         0.2\n",
       "#> 2         0.2\n",
       "#> 3         0.2\n",
       "#> 4         0.2\n",
       "#> # ... with 146 more rows\n",
       "\n",
       "iris %>% select(starts_with(\"Petal\") | ends_with(\"Width\"))\n",
       "#> # A tibble: 150 x 3\n",
       "#>   Petal.Length Petal.Width Sepal.Width\n",
       "#>          <dbl>       <dbl>       <dbl>\n",
       "#> 1          1.4         0.2         3.5\n",
       "#> 2          1.4         0.2         3  \n",
       "#> 3          1.3         0.2         3.2\n",
       "#> 4          1.5         0.2         3.1\n",
       "#> # ... with 146 more rows\n",
       "\\end{alltt}\n",
       "\n",
       "\n",
       "To take the difference between two selections, combine the \\code{\\&} and\n",
       "\\code{!} operators:\\begin{alltt}iris %>% select(starts_with(\"Petal\") & !ends_with(\"Width\"))\n",
       "#> # A tibble: 150 x 1\n",
       "#>   Petal.Length\n",
       "#>          <dbl>\n",
       "#> 1          1.4\n",
       "#> 2          1.4\n",
       "#> 3          1.3\n",
       "#> 4          1.5\n",
       "#> # ... with 146 more rows\n",
       "\\end{alltt}\n",
       "\n",
       "\\end{SubSection}\n",
       "\n",
       "\\end{Section}\n",
       "%\n",
       "\\begin{SeeAlso}\\relax\n",
       "Other single table verbs: \n",
       "\\code{\\LinkA{arrange}{arrange}()},\n",
       "\\code{\\LinkA{filter}{filter}()},\n",
       "\\code{\\LinkA{mutate}{mutate}()},\n",
       "\\code{\\LinkA{rename}{rename}()},\n",
       "\\code{\\LinkA{slice}{slice}()},\n",
       "\\code{\\LinkA{summarise}{summarise}()}\n",
       "\\end{SeeAlso}"
      ],
      "text/plain": [
       "select                  package:dplyr                  R Documentation\n",
       "\n",
       "_\bS_\bu_\bb_\bs_\be_\bt _\bc_\bo_\bl_\bu_\bm_\bn_\bs _\bu_\bs_\bi_\bn_\bg _\bt_\bh_\be_\bi_\br _\bn_\ba_\bm_\be_\bs _\ba_\bn_\bd _\bt_\by_\bp_\be_\bs\n",
       "\n",
       "_\bD_\be_\bs_\bc_\br_\bi_\bp_\bt_\bi_\bo_\bn:\n",
       "\n",
       "     Select (and optionally rename) variables in a data frame, using a\n",
       "     concise mini-language that makes it easy to refer to variables\n",
       "     based on their name (e.g. 'a:f' selects all columns from 'a' on\n",
       "     the left to 'f' on the right). You can also use predicate\n",
       "     functions like is.numeric to select variables based on their\n",
       "     properties.\n",
       "\n",
       "  _\bO_\bv_\be_\br_\bv_\bi_\be_\bw _\bo_\bf _\bs_\be_\bl_\be_\bc_\bt_\bi_\bo_\bn _\bf_\be_\ba_\bt_\bu_\br_\be_\bs:\n",
       "\n",
       "       Tidyverse selections implement a dialect of R where operators\n",
       "       make it easy to select variables:\n",
       "\n",
       "         â€¢ ':' for selecting a range of consecutive variables.\n",
       "\n",
       "         â€¢ '!' for taking the complement of a set of variables.\n",
       "\n",
       "         â€¢ '&' and '|' for selecting the intersection or the union of\n",
       "           two sets of variables.\n",
       "\n",
       "         â€¢ 'c()' for combining selections.\n",
       "\n",
       "       In addition, you can use *selection helpers*. Some helpers\n",
       "       select specific columns:\n",
       "\n",
       "         â€¢ 'everything()': Matches all variables.\n",
       "\n",
       "         â€¢ 'last_col()': Select last variable, possibly with an offset.\n",
       "\n",
       "       These helpers select variables by matching patterns in their\n",
       "       names:\n",
       "\n",
       "         â€¢ 'starts_with()': Starts with a prefix.\n",
       "\n",
       "         â€¢ 'ends_with()': Ends with a suffix.\n",
       "\n",
       "         â€¢ 'contains()': Contains a literal string.\n",
       "\n",
       "         â€¢ 'matches()': Matches a regular expression.\n",
       "\n",
       "         â€¢ 'num_range()': Matches a numerical range like x01, x02, x03.\n",
       "\n",
       "       These helpers select variables from a character vector:\n",
       "\n",
       "         â€¢ 'all_of()': Matches variable names in a character vector.\n",
       "           All names must be present, otherwise an out-of-bounds error\n",
       "           is thrown.\n",
       "\n",
       "         â€¢ 'any_of()': Same as 'all_of()', except that no error is\n",
       "           thrown for names that don't exist.\n",
       "\n",
       "       This helper selects variables with a function:\n",
       "\n",
       "         â€¢ 'where()': Applies a function to all variables and selects\n",
       "           those for which the function returns 'TRUE'.\n",
       "\n",
       "\n",
       "_\bU_\bs_\ba_\bg_\be:\n",
       "\n",
       "     select(.data, ...)\n",
       "     \n",
       "_\bA_\br_\bg_\bu_\bm_\be_\bn_\bt_\bs:\n",
       "\n",
       "   .data: A data frame, data frame extension (e.g. a tibble), or a lazy\n",
       "          data frame (e.g. from dbplyr or dtplyr). See _Methods_,\n",
       "          below, for more details.\n",
       "\n",
       "     ...: <'tidy-select'> One or more unquoted expressions separated by\n",
       "          commas. Variable names can be used as if they were positions\n",
       "          in the data frame, so expressions like 'x:y' can be used to\n",
       "          select a range of variables.\n",
       "\n",
       "_\bV_\ba_\bl_\bu_\be:\n",
       "\n",
       "     An object of the same type as '.data'. The output has the\n",
       "     following properties:\n",
       "\n",
       "        â€¢ Rows are not affected.\n",
       "\n",
       "        â€¢ Output columns are a subset of input columns, potentially\n",
       "          with a different order. Columns will be renamed if 'new_name\n",
       "          = old_name' form is used.\n",
       "\n",
       "        â€¢ Data frame attributes are preserved.\n",
       "\n",
       "        â€¢ Groups are maintained; you can't select off grouping\n",
       "          variables.\n",
       "\n",
       "_\bM_\be_\bt_\bh_\bo_\bd_\bs:\n",
       "\n",
       "     This function is a *generic*, which means that packages can\n",
       "     provide implementations (methods) for other classes. See the\n",
       "     documentation of individual methods for extra arguments and\n",
       "     differences in behaviour.\n",
       "\n",
       "     The following methods are currently available in loaded packages:\n",
       "     dplyr ('data.frame'), utils ('list').\n",
       "\n",
       "_\bE_\bx_\ba_\bm_\bp_\bl_\be_\bs:\n",
       "\n",
       "     Here we show the usage for the basic selection operators. See the\n",
       "     specific help pages to learn about helpers like 'starts_with()'.\n",
       "\n",
       "     The selection language can be used in functions like\n",
       "     'dplyr::select()' or 'tidyr::pivot_longer()'. Let's first attach\n",
       "     the tidyverse:\n",
       "\n",
       "     library(tidyverse)\n",
       "     \n",
       "     # For better printing\n",
       "     iris <- as_tibble(iris)\n",
       "     \n",
       "     Select variables by name:\n",
       "\n",
       "     starwars %>% select(height)\n",
       "     #> # A tibble: 87 x 1\n",
       "     #>   height\n",
       "     #>    <int>\n",
       "     #> 1    172\n",
       "     #> 2    167\n",
       "     #> 3     96\n",
       "     #> 4    202\n",
       "     #> # ... with 83 more rows\n",
       "     \n",
       "     iris %>% pivot_longer(Sepal.Length)\n",
       "     #> # A tibble: 150 x 6\n",
       "     #>   Sepal.Width Petal.Length Petal.Width Species name         value\n",
       "     #>         <dbl>        <dbl>       <dbl> <fct>   <chr>        <dbl>\n",
       "     #> 1         3.5          1.4         0.2 setosa  Sepal.Length   5.1\n",
       "     #> 2         3            1.4         0.2 setosa  Sepal.Length   4.9\n",
       "     #> 3         3.2          1.3         0.2 setosa  Sepal.Length   4.7\n",
       "     #> 4         3.1          1.5         0.2 setosa  Sepal.Length   4.6\n",
       "     #> # ... with 146 more rows\n",
       "     \n",
       "     Select multiple variables by separating them with commas. Note how\n",
       "     the order of columns is determined by the order of inputs:\n",
       "\n",
       "     starwars %>% select(homeworld, height, mass)\n",
       "     #> # A tibble: 87 x 3\n",
       "     #>   homeworld height  mass\n",
       "     #>   <chr>      <int> <dbl>\n",
       "     #> 1 Tatooine     172    77\n",
       "     #> 2 Tatooine     167    75\n",
       "     #> 3 Naboo         96    32\n",
       "     #> 4 Tatooine     202   136\n",
       "     #> # ... with 83 more rows\n",
       "     \n",
       "     Functions like 'tidyr::pivot_longer()' don't take variables with\n",
       "     dots. In this case use 'c()' to select multiple variables:\n",
       "\n",
       "     iris %>% pivot_longer(c(Sepal.Length, Petal.Length))\n",
       "     #> # A tibble: 300 x 5\n",
       "     #>   Sepal.Width Petal.Width Species name         value\n",
       "     #>         <dbl>       <dbl> <fct>   <chr>        <dbl>\n",
       "     #> 1         3.5         0.2 setosa  Sepal.Length   5.1\n",
       "     #> 2         3.5         0.2 setosa  Petal.Length   1.4\n",
       "     #> 3         3           0.2 setosa  Sepal.Length   4.9\n",
       "     #> 4         3           0.2 setosa  Petal.Length   1.4\n",
       "     #> # ... with 296 more rows\n",
       "     \n",
       "  _\bO_\bp_\be_\br_\ba_\bt_\bo_\br_\bs::\n",
       "\n",
       "       The ':' operator selects a range of consecutive variables:\n",
       "\n",
       "       starwars %>% select(name:mass)\n",
       "       #> # A tibble: 87 x 3\n",
       "       #>   name           height  mass\n",
       "       #>   <chr>           <int> <dbl>\n",
       "       #> 1 Luke Skywalker    172    77\n",
       "       #> 2 C-3PO             167    75\n",
       "       #> 3 R2-D2              96    32\n",
       "       #> 4 Darth Vader       202   136\n",
       "       #> # ... with 83 more rows\n",
       "       \n",
       "       The '!' operator negates a selection:\n",
       "\n",
       "       starwars %>% select(!(name:mass))\n",
       "       #> # A tibble: 87 x 11\n",
       "       #>   hair_color skin_color  eye_color birth_year sex   gender    homeworld species\n",
       "       #>   <chr>      <chr>       <chr>          <dbl> <chr> <chr>     <chr>     <chr>  \n",
       "       #> 1 blond      fair        blue            19   male  masculine Tatooine  Human  \n",
       "       #> 2 <NA>       gold        yellow         112   none  masculine Tatooine  Droid  \n",
       "       #> 3 <NA>       white, blue red             33   none  masculine Naboo     Droid  \n",
       "       #> 4 none       white       yellow          41.9 male  masculine Tatooine  Human  \n",
       "       #> # ... with 83 more rows, and 3 more variables: films <list>, vehicles <list>,\n",
       "       #> #   starships <list>\n",
       "       \n",
       "       iris %>% select(!c(Sepal.Length, Petal.Length))\n",
       "       #> # A tibble: 150 x 3\n",
       "       #>   Sepal.Width Petal.Width Species\n",
       "       #>         <dbl>       <dbl> <fct>  \n",
       "       #> 1         3.5         0.2 setosa \n",
       "       #> 2         3           0.2 setosa \n",
       "       #> 3         3.2         0.2 setosa \n",
       "       #> 4         3.1         0.2 setosa \n",
       "       #> # ... with 146 more rows\n",
       "       \n",
       "       iris %>% select(!ends_with(\"Width\"))\n",
       "       #> # A tibble: 150 x 3\n",
       "       #>   Sepal.Length Petal.Length Species\n",
       "       #>          <dbl>        <dbl> <fct>  \n",
       "       #> 1          5.1          1.4 setosa \n",
       "       #> 2          4.9          1.4 setosa \n",
       "       #> 3          4.7          1.3 setosa \n",
       "       #> 4          4.6          1.5 setosa \n",
       "       #> # ... with 146 more rows\n",
       "       \n",
       "       '&' and '|' take the intersection or the union of two\n",
       "       selections:\n",
       "\n",
       "       iris %>% select(starts_with(\"Petal\") & ends_with(\"Width\"))\n",
       "       #> # A tibble: 150 x 1\n",
       "       #>   Petal.Width\n",
       "       #>         <dbl>\n",
       "       #> 1         0.2\n",
       "       #> 2         0.2\n",
       "       #> 3         0.2\n",
       "       #> 4         0.2\n",
       "       #> # ... with 146 more rows\n",
       "       \n",
       "       iris %>% select(starts_with(\"Petal\") | ends_with(\"Width\"))\n",
       "       #> # A tibble: 150 x 3\n",
       "       #>   Petal.Length Petal.Width Sepal.Width\n",
       "       #>          <dbl>       <dbl>       <dbl>\n",
       "       #> 1          1.4         0.2         3.5\n",
       "       #> 2          1.4         0.2         3  \n",
       "       #> 3          1.3         0.2         3.2\n",
       "       #> 4          1.5         0.2         3.1\n",
       "       #> # ... with 146 more rows\n",
       "       \n",
       "       To take the difference between two selections, combine the '&'\n",
       "       and '!' operators:\n",
       "\n",
       "       iris %>% select(starts_with(\"Petal\") & !ends_with(\"Width\"))\n",
       "       #> # A tibble: 150 x 1\n",
       "       #>   Petal.Length\n",
       "       #>          <dbl>\n",
       "       #> 1          1.4\n",
       "       #> 2          1.4\n",
       "       #> 3          1.3\n",
       "       #> 4          1.5\n",
       "       #> # ... with 146 more rows\n",
       "       \n",
       "_\bS_\be_\be _\bA_\bl_\bs_\bo:\n",
       "\n",
       "     Other single table verbs: 'arrange()', 'filter()', 'mutate()',\n",
       "     'rename()', 'slice()', 'summarise()'\n"
      ]
     },
     "metadata": {},
     "output_type": "display_data"
    }
   ],
   "source": [
    "?select"
   ]
  },
  {
   "cell_type": "code",
   "execution_count": 4,
   "metadata": {},
   "outputs": [
    {
     "name": "stderr",
     "output_type": "stream",
     "text": [
      "Warning message in seq_len(head.end.idx):\n",
      "\"first element used of 'length.out' argument\"\n",
      "ERROR while rich displaying an object: Error in seq_len(head.end.idx): argument must be coercible to non-negative integer\n",
      "\n",
      "Traceback:\n",
      "1. FUN(X[[i]], ...)\n",
      "2. tryCatch(withCallingHandlers({\n",
      " .     if (!mime %in% names(repr::mime2repr)) \n",
      " .         stop(\"No repr_* for mimetype \", mime, \" in repr::mime2repr\")\n",
      " .     rpr <- repr::mime2repr[[mime]](obj)\n",
      " .     if (is.null(rpr)) \n",
      " .         return(NULL)\n",
      " .     prepare_content(is.raw(rpr), rpr)\n",
      " . }, error = error_handler), error = outer_handler)\n",
      "3. tryCatchList(expr, classes, parentenv, handlers)\n",
      "4. tryCatchOne(expr, names, parentenv, handlers[[1L]])\n",
      "5. doTryCatch(return(expr), name, parentenv, handler)\n",
      "6. withCallingHandlers({\n",
      " .     if (!mime %in% names(repr::mime2repr)) \n",
      " .         stop(\"No repr_* for mimetype \", mime, \" in repr::mime2repr\")\n",
      " .     rpr <- repr::mime2repr[[mime]](obj)\n",
      " .     if (is.null(rpr)) \n",
      " .         return(NULL)\n",
      " .     prepare_content(is.raw(rpr), rpr)\n",
      " . }, error = error_handler)\n",
      "7. repr::mime2repr[[mime]](obj)\n",
      "8. repr_html.help_files_with_topic(obj)\n",
      "9. repr_help_files_with_topic_generic(obj, Rd2HTML)\n"
     ]
    },
    {
     "data": {
      "text/latex": [
       "\\inputencoding{utf8}\n",
       "\\HeaderA{arrange}{Arrange rows by column values}{arrange}\n",
       "\\methaliasA{arrange.data.frame}{arrange}{arrange.data.frame}\n",
       "\\keyword{single table verbs}{arrange}\n",
       "%\n",
       "\\begin{Description}\\relax\n",
       "\\code{arrange()} orders the rows of a data frame by the values of selected\n",
       "columns.\n",
       "\n",
       "Unlike other dplyr verbs, \\code{arrange()} largely ignores grouping; you\n",
       "need to explicitly mention grouping variables (or use  \\code{.by\\_group = TRUE})\n",
       "in order to group by them, and functions of variables are evaluated\n",
       "once per data frame, not once per group.\n",
       "\\end{Description}\n",
       "%\n",
       "\\begin{Usage}\n",
       "\\begin{verbatim}\n",
       "arrange(.data, ..., .by_group = FALSE)\n",
       "\n",
       "## S3 method for class 'data.frame'\n",
       "arrange(.data, ..., .by_group = FALSE)\n",
       "\\end{verbatim}\n",
       "\\end{Usage}\n",
       "%\n",
       "\\begin{Arguments}\n",
       "\\begin{ldescription}\n",
       "\\item[\\code{.data}] A data frame, data frame extension (e.g. a tibble), or a\n",
       "lazy data frame (e.g. from dbplyr or dtplyr). See \\emph{Methods}, below, for\n",
       "more details.\n",
       "\n",
       "\\item[\\code{...}] <\\code{\\LinkA{data-masking}{dplyr.Rul.data.Rul.masking}}> Variables, or functions of\n",
       "variables. Use \\code{\\LinkA{desc()}{desc}} to sort a variable in descending order.\n",
       "\n",
       "\\item[\\code{.by\\_group}] If \\code{TRUE}, will sort first by grouping variable. Applies to\n",
       "grouped data frames only.\n",
       "\\end{ldescription}\n",
       "\\end{Arguments}\n",
       "%\n",
       "\\begin{Details}\\relax\n",
       "%\n",
       "\\begin{SubSection}{Locales}\n",
       "\n",
       "The sort order for character vectors will depend on the collating sequence\n",
       "of the locale in use: see \\code{\\LinkA{locales()}{locales}}.\n",
       "\\end{SubSection}\n",
       "\n",
       "\n",
       "%\n",
       "\\begin{SubSection}{Missing values}\n",
       "\n",
       "Unlike base sorting with \\code{sort()}, \\code{NA} are:\n",
       "\\begin{itemize}\n",
       "\n",
       "\\item{} always sorted to the end for local data, even when wrapped with \\code{desc()}.\n",
       "\\item{} treated differently for remote data, depending on the backend.\n",
       "\n",
       "\\end{itemize}\n",
       "\n",
       "\\end{SubSection}\n",
       "\n",
       "\\end{Details}\n",
       "%\n",
       "\\begin{Value}\n",
       "An object of the same type as \\code{.data}. The output has the following\n",
       "properties:\n",
       "\\begin{itemize}\n",
       "\n",
       "\\item{} All rows appear in the output, but (usually) in a different place.\n",
       "\\item{} Columns are not modified.\n",
       "\\item{} Groups are not modified.\n",
       "\\item{} Data frame attributes are preserved.\n",
       "\n",
       "\\end{itemize}\n",
       "\n",
       "\\end{Value}\n",
       "%\n",
       "\\begin{Section}{Methods}\n",
       "\n",
       "This function is a \\strong{generic}, which means that packages can provide\n",
       "implementations (methods) for other classes. See the documentation of\n",
       "individual methods for extra arguments and differences in behaviour.\n",
       "\n",
       "The following methods are currently available in loaded packages:\n",
       "dplyr (\\code{data.frame}).\n",
       "\\end{Section}\n",
       "%\n",
       "\\begin{SeeAlso}\\relax\n",
       "Other single table verbs: \n",
       "\\code{\\LinkA{filter}{filter}()},\n",
       "\\code{\\LinkA{mutate}{mutate}()},\n",
       "\\code{\\LinkA{rename}{rename}()},\n",
       "\\code{\\LinkA{select}{select}()},\n",
       "\\code{\\LinkA{slice}{slice}()},\n",
       "\\code{\\LinkA{summarise}{summarise}()}\n",
       "\\end{SeeAlso}\n",
       "%\n",
       "\\begin{Examples}\n",
       "\\begin{ExampleCode}\n",
       "arrange(mtcars, cyl, disp)\n",
       "arrange(mtcars, desc(disp))\n",
       "\n",
       "# grouped arrange ignores groups\n",
       "by_cyl <- mtcars %>% group_by(cyl)\n",
       "by_cyl %>% arrange(desc(wt))\n",
       "# Unless you specifically ask:\n",
       "by_cyl %>% arrange(desc(wt), .by_group = TRUE)\n",
       "\n",
       "# use embracing when wrapping in a function;\n",
       "# see ?dplyr_data_masking for more details\n",
       "tidy_eval_arrange <- function(.data, var) {\n",
       "  .data %>%\n",
       "    arrange({{ var }})\n",
       "}\n",
       "tidy_eval_arrange(mtcars, mpg)\n",
       "\n",
       "# use across() access select()-style semantics\n",
       "iris %>% arrange(across(starts_with(\"Sepal\")))\n",
       "iris %>% arrange(across(starts_with(\"Sepal\"), desc))\n",
       "\\end{ExampleCode}\n",
       "\\end{Examples}"
      ],
      "text/plain": [
       "arrange                 package:dplyr                  R Documentation\n",
       "\n",
       "_\bA_\br_\br_\ba_\bn_\bg_\be _\br_\bo_\bw_\bs _\bb_\by _\bc_\bo_\bl_\bu_\bm_\bn _\bv_\ba_\bl_\bu_\be_\bs\n",
       "\n",
       "_\bD_\be_\bs_\bc_\br_\bi_\bp_\bt_\bi_\bo_\bn:\n",
       "\n",
       "     'arrange()' orders the rows of a data frame by the values of\n",
       "     selected columns.\n",
       "\n",
       "     Unlike other dplyr verbs, 'arrange()' largely ignores grouping;\n",
       "     you need to explicitly mention grouping variables (or use\n",
       "     '.by_group = TRUE') in order to group by them, and functions of\n",
       "     variables are evaluated once per data frame, not once per group.\n",
       "\n",
       "_\bU_\bs_\ba_\bg_\be:\n",
       "\n",
       "     arrange(.data, ..., .by_group = FALSE)\n",
       "     \n",
       "     ## S3 method for class 'data.frame'\n",
       "     arrange(.data, ..., .by_group = FALSE)\n",
       "     \n",
       "_\bA_\br_\bg_\bu_\bm_\be_\bn_\bt_\bs:\n",
       "\n",
       "   .data: A data frame, data frame extension (e.g. a tibble), or a lazy\n",
       "          data frame (e.g. from dbplyr or dtplyr). See _Methods_,\n",
       "          below, for more details.\n",
       "\n",
       "     ...: <'data-masking'> Variables, or functions of variables. Use\n",
       "          'desc()' to sort a variable in descending order.\n",
       "\n",
       ".by_group: If 'TRUE', will sort first by grouping variable. Applies to\n",
       "          grouped data frames only.\n",
       "\n",
       "_\bD_\be_\bt_\ba_\bi_\bl_\bs:\n",
       "\n",
       "  _\bL_\bo_\bc_\ba_\bl_\be_\bs:\n",
       "\n",
       "       The sort order for character vectors will depend on the\n",
       "       collating sequence of the locale in use: see 'locales()'.\n",
       "\n",
       "  _\bM_\bi_\bs_\bs_\bi_\bn_\bg _\bv_\ba_\bl_\bu_\be_\bs:\n",
       "\n",
       "       Unlike base sorting with 'sort()', 'NA' are:\n",
       "\n",
       "         â€¢ always sorted to the end for local data, even when wrapped\n",
       "           with 'desc()'.\n",
       "\n",
       "         â€¢ treated differently for remote data, depending on the\n",
       "           backend.\n",
       "\n",
       "_\bV_\ba_\bl_\bu_\be:\n",
       "\n",
       "     An object of the same type as '.data'. The output has the\n",
       "     following properties:\n",
       "\n",
       "        â€¢ All rows appear in the output, but (usually) in a different\n",
       "          place.\n",
       "\n",
       "        â€¢ Columns are not modified.\n",
       "\n",
       "        â€¢ Groups are not modified.\n",
       "\n",
       "        â€¢ Data frame attributes are preserved.\n",
       "\n",
       "_\bM_\be_\bt_\bh_\bo_\bd_\bs:\n",
       "\n",
       "     This function is a *generic*, which means that packages can\n",
       "     provide implementations (methods) for other classes. See the\n",
       "     documentation of individual methods for extra arguments and\n",
       "     differences in behaviour.\n",
       "\n",
       "     The following methods are currently available in loaded packages:\n",
       "     dplyr ('data.frame').\n",
       "\n",
       "_\bS_\be_\be _\bA_\bl_\bs_\bo:\n",
       "\n",
       "     Other single table verbs: 'filter()', 'mutate()', 'rename()',\n",
       "     'select()', 'slice()', 'summarise()'\n",
       "\n",
       "_\bE_\bx_\ba_\bm_\bp_\bl_\be_\bs:\n",
       "\n",
       "     arrange(mtcars, cyl, disp)\n",
       "     arrange(mtcars, desc(disp))\n",
       "     \n",
       "     # grouped arrange ignores groups\n",
       "     by_cyl <- mtcars %>% group_by(cyl)\n",
       "     by_cyl %>% arrange(desc(wt))\n",
       "     # Unless you specifically ask:\n",
       "     by_cyl %>% arrange(desc(wt), .by_group = TRUE)\n",
       "     \n",
       "     # use embracing when wrapping in a function;\n",
       "     # see ?dplyr_data_masking for more details\n",
       "     tidy_eval_arrange <- function(.data, var) {\n",
       "       .data %>%\n",
       "         arrange({{ var }})\n",
       "     }\n",
       "     tidy_eval_arrange(mtcars, mpg)\n",
       "     \n",
       "     # use across() access select()-style semantics\n",
       "     iris %>% arrange(across(starts_with(\"Sepal\")))\n",
       "     iris %>% arrange(across(starts_with(\"Sepal\"), desc))\n",
       "     "
      ]
     },
     "metadata": {},
     "output_type": "display_data"
    }
   ],
   "source": [
    "?arrange"
   ]
  },
  {
   "cell_type": "markdown",
   "metadata": {
    "colab_type": "text",
    "id": "8Rw70V6ojQKk"
   },
   "source": [
    "---\n",
    "### Importando o dataset do projeto"
   ]
  },
  {
   "cell_type": "code",
   "execution_count": 5,
   "metadata": {
    "colab": {},
    "colab_type": "code",
    "id": "8QgOpE-wjQKl"
   },
   "outputs": [],
   "source": [
    "dados <- read.csv(\"dados.csv\")"
   ]
  },
  {
   "cell_type": "code",
   "execution_count": 6,
   "metadata": {
    "colab": {},
    "colab_type": "code",
    "id": "ufRZ7TLwjQKo",
    "scrolled": true
   },
   "outputs": [
    {
     "data": {
      "text/html": [
       "<table class=\"dataframe\">\n",
       "<caption>A data.frame: 76840 × 7</caption>\n",
       "<thead>\n",
       "\t<tr><th scope=col>UF</th><th scope=col>Sexo</th><th scope=col>Idade</th><th scope=col>Cor</th><th scope=col>Anos.de.Estudo</th><th scope=col>Renda</th><th scope=col>Altura</th></tr>\n",
       "\t<tr><th scope=col>&lt;int&gt;</th><th scope=col>&lt;int&gt;</th><th scope=col>&lt;int&gt;</th><th scope=col>&lt;int&gt;</th><th scope=col>&lt;int&gt;</th><th scope=col>&lt;int&gt;</th><th scope=col>&lt;dbl&gt;</th></tr>\n",
       "</thead>\n",
       "<tbody>\n",
       "\t<tr><td>11</td><td>0</td><td>23</td><td>8</td><td>12</td><td> 800</td><td>1.603808</td></tr>\n",
       "\t<tr><td>11</td><td>1</td><td>23</td><td>2</td><td>12</td><td>1150</td><td>1.739790</td></tr>\n",
       "\t<tr><td>11</td><td>1</td><td>35</td><td>8</td><td>15</td><td> 880</td><td>1.760444</td></tr>\n",
       "\t<tr><td>11</td><td>0</td><td>46</td><td>2</td><td> 6</td><td>3500</td><td>1.783158</td></tr>\n",
       "\t<tr><td>11</td><td>1</td><td>47</td><td>8</td><td> 9</td><td> 150</td><td>1.690631</td></tr>\n",
       "\t<tr><td>11</td><td>1</td><td>34</td><td>8</td><td>12</td><td> 790</td><td>1.637906</td></tr>\n",
       "\t<tr><td>11</td><td>0</td><td>57</td><td>8</td><td>12</td><td>3150</td><td>1.570078</td></tr>\n",
       "\t<tr><td>11</td><td>1</td><td>60</td><td>8</td><td>12</td><td>1700</td><td>1.608495</td></tr>\n",
       "\t<tr><td>11</td><td>1</td><td>50</td><td>4</td><td>14</td><td>1800</td><td>1.780329</td></tr>\n",
       "\t<tr><td>11</td><td>0</td><td>26</td><td>8</td><td>12</td><td>1150</td><td>1.793203</td></tr>\n",
       "\t<tr><td>11</td><td>1</td><td>46</td><td>8</td><td>12</td><td>3000</td><td>1.787003</td></tr>\n",
       "\t<tr><td>11</td><td>1</td><td>49</td><td>8</td><td> 6</td><td>2500</td><td>1.712912</td></tr>\n",
       "\t<tr><td>11</td><td>1</td><td>52</td><td>2</td><td> 6</td><td>1200</td><td>1.736442</td></tr>\n",
       "\t<tr><td>11</td><td>0</td><td>38</td><td>8</td><td>12</td><td>2000</td><td>1.750827</td></tr>\n",
       "\t<tr><td>11</td><td>0</td><td>45</td><td>2</td><td>12</td><td>2000</td><td>1.780450</td></tr>\n",
       "\t<tr><td>11</td><td>0</td><td>34</td><td>2</td><td>16</td><td>6000</td><td>1.711825</td></tr>\n",
       "\t<tr><td>11</td><td>1</td><td>43</td><td>8</td><td>10</td><td>1050</td><td>1.789012</td></tr>\n",
       "\t<tr><td>11</td><td>0</td><td>53</td><td>8</td><td>16</td><td>7000</td><td>1.673665</td></tr>\n",
       "\t<tr><td>11</td><td>0</td><td>57</td><td>2</td><td>12</td><td>2000</td><td>1.715138</td></tr>\n",
       "\t<tr><td>11</td><td>1</td><td>62</td><td>8</td><td>12</td><td>1150</td><td>1.765973</td></tr>\n",
       "\t<tr><td>11</td><td>0</td><td>69</td><td>8</td><td> 1</td><td>3030</td><td>1.746351</td></tr>\n",
       "\t<tr><td>11</td><td>1</td><td>41</td><td>8</td><td>16</td><td>4000</td><td>1.660873</td></tr>\n",
       "\t<tr><td>11</td><td>0</td><td>34</td><td>8</td><td> 5</td><td> 788</td><td>1.746048</td></tr>\n",
       "\t<tr><td>11</td><td>0</td><td>25</td><td>8</td><td>12</td><td>1000</td><td>1.726496</td></tr>\n",
       "\t<tr><td>11</td><td>0</td><td>33</td><td>8</td><td> 9</td><td> 800</td><td>1.778914</td></tr>\n",
       "\t<tr><td>11</td><td>1</td><td>44</td><td>8</td><td> 5</td><td> 788</td><td>1.668638</td></tr>\n",
       "\t<tr><td>11</td><td>0</td><td>33</td><td>2</td><td>16</td><td>1600</td><td>1.783771</td></tr>\n",
       "\t<tr><td>11</td><td>0</td><td>65</td><td>2</td><td>12</td><td>1700</td><td>1.873445</td></tr>\n",
       "\t<tr><td>11</td><td>0</td><td>33</td><td>8</td><td>14</td><td>2000</td><td>1.890250</td></tr>\n",
       "\t<tr><td>11</td><td>0</td><td>32</td><td>8</td><td>12</td><td>2400</td><td>1.660204</td></tr>\n",
       "\t<tr><td>...</td><td>...</td><td>...</td><td>...</td><td>...</td><td>...</td><td>...</td></tr>\n",
       "\t<tr><td>53</td><td>0</td><td>34</td><td>4</td><td>12</td><td> 2500</td><td>1.802241</td></tr>\n",
       "\t<tr><td>53</td><td>1</td><td>57</td><td>2</td><td>11</td><td> 1000</td><td>1.823047</td></tr>\n",
       "\t<tr><td>53</td><td>1</td><td>32</td><td>4</td><td>12</td><td>  788</td><td>1.681405</td></tr>\n",
       "\t<tr><td>53</td><td>0</td><td>35</td><td>4</td><td> 9</td><td> 2100</td><td>1.671112</td></tr>\n",
       "\t<tr><td>53</td><td>1</td><td>49</td><td>8</td><td>12</td><td> 5260</td><td>1.799319</td></tr>\n",
       "\t<tr><td>53</td><td>0</td><td>51</td><td>8</td><td> 1</td><td> 5000</td><td>1.599400</td></tr>\n",
       "\t<tr><td>53</td><td>0</td><td>37</td><td>8</td><td>12</td><td>  950</td><td>1.620497</td></tr>\n",
       "\t<tr><td>53</td><td>0</td><td>47</td><td>8</td><td>12</td><td> 1109</td><td>1.920274</td></tr>\n",
       "\t<tr><td>53</td><td>0</td><td>27</td><td>8</td><td>10</td><td>  850</td><td>1.793074</td></tr>\n",
       "\t<tr><td>53</td><td>1</td><td>49</td><td>8</td><td> 9</td><td>  788</td><td>1.695710</td></tr>\n",
       "\t<tr><td>53</td><td>1</td><td>27</td><td>8</td><td>12</td><td>  866</td><td>1.729035</td></tr>\n",
       "\t<tr><td>53</td><td>0</td><td>20</td><td>2</td><td> 8</td><td> 1300</td><td>1.660409</td></tr>\n",
       "\t<tr><td>53</td><td>0</td><td>49</td><td>8</td><td>12</td><td> 8700</td><td>1.775182</td></tr>\n",
       "\t<tr><td>53</td><td>0</td><td>43</td><td>8</td><td>10</td><td> 5000</td><td>1.584493</td></tr>\n",
       "\t<tr><td>53</td><td>0</td><td>64</td><td>2</td><td>12</td><td> 5000</td><td>1.717452</td></tr>\n",
       "\t<tr><td>53</td><td>0</td><td>55</td><td>2</td><td>16</td><td>13000</td><td>1.729995</td></tr>\n",
       "\t<tr><td>53</td><td>0</td><td>39</td><td>2</td><td>12</td><td> 6000</td><td>1.739046</td></tr>\n",
       "\t<tr><td>53</td><td>1</td><td>41</td><td>2</td><td>16</td><td>10000</td><td>1.696208</td></tr>\n",
       "\t<tr><td>53</td><td>0</td><td>62</td><td>2</td><td>16</td><td>10000</td><td>1.817097</td></tr>\n",
       "\t<tr><td>53</td><td>0</td><td>42</td><td>8</td><td>12</td><td>32000</td><td>1.788923</td></tr>\n",
       "\t<tr><td>53</td><td>0</td><td>62</td><td>2</td><td>16</td><td> 3500</td><td>1.725379</td></tr>\n",
       "\t<tr><td>53</td><td>1</td><td>44</td><td>2</td><td>16</td><td>30000</td><td>1.783962</td></tr>\n",
       "\t<tr><td>53</td><td>1</td><td>49</td><td>2</td><td>12</td><td> 5000</td><td>1.757146</td></tr>\n",
       "\t<tr><td>53</td><td>0</td><td>30</td><td>4</td><td> 6</td><td> 1900</td><td>1.662560</td></tr>\n",
       "\t<tr><td>53</td><td>1</td><td>35</td><td>4</td><td> 1</td><td> 1100</td><td>1.741089</td></tr>\n",
       "\t<tr><td>53</td><td>1</td><td>46</td><td>2</td><td>11</td><td>  812</td><td>1.687030</td></tr>\n",
       "\t<tr><td>53</td><td>0</td><td>30</td><td>4</td><td> 7</td><td> 1500</td><td>1.792934</td></tr>\n",
       "\t<tr><td>53</td><td>0</td><td>32</td><td>8</td><td>12</td><td> 1300</td><td>1.830587</td></tr>\n",
       "\t<tr><td>53</td><td>0</td><td>57</td><td>8</td><td> 4</td><td> 1500</td><td>1.726344</td></tr>\n",
       "\t<tr><td>53</td><td>0</td><td>38</td><td>8</td><td> 4</td><td>  900</td><td>1.658305</td></tr>\n",
       "</tbody>\n",
       "</table>\n"
      ],
      "text/latex": [
       "A data.frame: 76840 × 7\n",
       "\\begin{tabular}{lllllll}\n",
       " UF & Sexo & Idade & Cor & Anos.de.Estudo & Renda & Altura\\\\\n",
       " <int> & <int> & <int> & <int> & <int> & <int> & <dbl>\\\\\n",
       "\\hline\n",
       "\t 11 & 0 & 23 & 8 & 12 &  800 & 1.603808\\\\\n",
       "\t 11 & 1 & 23 & 2 & 12 & 1150 & 1.739790\\\\\n",
       "\t 11 & 1 & 35 & 8 & 15 &  880 & 1.760444\\\\\n",
       "\t 11 & 0 & 46 & 2 &  6 & 3500 & 1.783158\\\\\n",
       "\t 11 & 1 & 47 & 8 &  9 &  150 & 1.690631\\\\\n",
       "\t 11 & 1 & 34 & 8 & 12 &  790 & 1.637906\\\\\n",
       "\t 11 & 0 & 57 & 8 & 12 & 3150 & 1.570078\\\\\n",
       "\t 11 & 1 & 60 & 8 & 12 & 1700 & 1.608495\\\\\n",
       "\t 11 & 1 & 50 & 4 & 14 & 1800 & 1.780329\\\\\n",
       "\t 11 & 0 & 26 & 8 & 12 & 1150 & 1.793203\\\\\n",
       "\t 11 & 1 & 46 & 8 & 12 & 3000 & 1.787003\\\\\n",
       "\t 11 & 1 & 49 & 8 &  6 & 2500 & 1.712912\\\\\n",
       "\t 11 & 1 & 52 & 2 &  6 & 1200 & 1.736442\\\\\n",
       "\t 11 & 0 & 38 & 8 & 12 & 2000 & 1.750827\\\\\n",
       "\t 11 & 0 & 45 & 2 & 12 & 2000 & 1.780450\\\\\n",
       "\t 11 & 0 & 34 & 2 & 16 & 6000 & 1.711825\\\\\n",
       "\t 11 & 1 & 43 & 8 & 10 & 1050 & 1.789012\\\\\n",
       "\t 11 & 0 & 53 & 8 & 16 & 7000 & 1.673665\\\\\n",
       "\t 11 & 0 & 57 & 2 & 12 & 2000 & 1.715138\\\\\n",
       "\t 11 & 1 & 62 & 8 & 12 & 1150 & 1.765973\\\\\n",
       "\t 11 & 0 & 69 & 8 &  1 & 3030 & 1.746351\\\\\n",
       "\t 11 & 1 & 41 & 8 & 16 & 4000 & 1.660873\\\\\n",
       "\t 11 & 0 & 34 & 8 &  5 &  788 & 1.746048\\\\\n",
       "\t 11 & 0 & 25 & 8 & 12 & 1000 & 1.726496\\\\\n",
       "\t 11 & 0 & 33 & 8 &  9 &  800 & 1.778914\\\\\n",
       "\t 11 & 1 & 44 & 8 &  5 &  788 & 1.668638\\\\\n",
       "\t 11 & 0 & 33 & 2 & 16 & 1600 & 1.783771\\\\\n",
       "\t 11 & 0 & 65 & 2 & 12 & 1700 & 1.873445\\\\\n",
       "\t 11 & 0 & 33 & 8 & 14 & 2000 & 1.890250\\\\\n",
       "\t 11 & 0 & 32 & 8 & 12 & 2400 & 1.660204\\\\\n",
       "\t ... & ... & ... & ... & ... & ... & ...\\\\\n",
       "\t 53 & 0 & 34 & 4 & 12 &  2500 & 1.802241\\\\\n",
       "\t 53 & 1 & 57 & 2 & 11 &  1000 & 1.823047\\\\\n",
       "\t 53 & 1 & 32 & 4 & 12 &   788 & 1.681405\\\\\n",
       "\t 53 & 0 & 35 & 4 &  9 &  2100 & 1.671112\\\\\n",
       "\t 53 & 1 & 49 & 8 & 12 &  5260 & 1.799319\\\\\n",
       "\t 53 & 0 & 51 & 8 &  1 &  5000 & 1.599400\\\\\n",
       "\t 53 & 0 & 37 & 8 & 12 &   950 & 1.620497\\\\\n",
       "\t 53 & 0 & 47 & 8 & 12 &  1109 & 1.920274\\\\\n",
       "\t 53 & 0 & 27 & 8 & 10 &   850 & 1.793074\\\\\n",
       "\t 53 & 1 & 49 & 8 &  9 &   788 & 1.695710\\\\\n",
       "\t 53 & 1 & 27 & 8 & 12 &   866 & 1.729035\\\\\n",
       "\t 53 & 0 & 20 & 2 &  8 &  1300 & 1.660409\\\\\n",
       "\t 53 & 0 & 49 & 8 & 12 &  8700 & 1.775182\\\\\n",
       "\t 53 & 0 & 43 & 8 & 10 &  5000 & 1.584493\\\\\n",
       "\t 53 & 0 & 64 & 2 & 12 &  5000 & 1.717452\\\\\n",
       "\t 53 & 0 & 55 & 2 & 16 & 13000 & 1.729995\\\\\n",
       "\t 53 & 0 & 39 & 2 & 12 &  6000 & 1.739046\\\\\n",
       "\t 53 & 1 & 41 & 2 & 16 & 10000 & 1.696208\\\\\n",
       "\t 53 & 0 & 62 & 2 & 16 & 10000 & 1.817097\\\\\n",
       "\t 53 & 0 & 42 & 8 & 12 & 32000 & 1.788923\\\\\n",
       "\t 53 & 0 & 62 & 2 & 16 &  3500 & 1.725379\\\\\n",
       "\t 53 & 1 & 44 & 2 & 16 & 30000 & 1.783962\\\\\n",
       "\t 53 & 1 & 49 & 2 & 12 &  5000 & 1.757146\\\\\n",
       "\t 53 & 0 & 30 & 4 &  6 &  1900 & 1.662560\\\\\n",
       "\t 53 & 1 & 35 & 4 &  1 &  1100 & 1.741089\\\\\n",
       "\t 53 & 1 & 46 & 2 & 11 &   812 & 1.687030\\\\\n",
       "\t 53 & 0 & 30 & 4 &  7 &  1500 & 1.792934\\\\\n",
       "\t 53 & 0 & 32 & 8 & 12 &  1300 & 1.830587\\\\\n",
       "\t 53 & 0 & 57 & 8 &  4 &  1500 & 1.726344\\\\\n",
       "\t 53 & 0 & 38 & 8 &  4 &   900 & 1.658305\\\\\n",
       "\\end{tabular}\n"
      ],
      "text/markdown": [
       "\n",
       "A data.frame: 76840 × 7\n",
       "\n",
       "| UF &lt;int&gt; | Sexo &lt;int&gt; | Idade &lt;int&gt; | Cor &lt;int&gt; | Anos.de.Estudo &lt;int&gt; | Renda &lt;int&gt; | Altura &lt;dbl&gt; |\n",
       "|---|---|---|---|---|---|---|\n",
       "| 11 | 0 | 23 | 8 | 12 |  800 | 1.603808 |\n",
       "| 11 | 1 | 23 | 2 | 12 | 1150 | 1.739790 |\n",
       "| 11 | 1 | 35 | 8 | 15 |  880 | 1.760444 |\n",
       "| 11 | 0 | 46 | 2 |  6 | 3500 | 1.783158 |\n",
       "| 11 | 1 | 47 | 8 |  9 |  150 | 1.690631 |\n",
       "| 11 | 1 | 34 | 8 | 12 |  790 | 1.637906 |\n",
       "| 11 | 0 | 57 | 8 | 12 | 3150 | 1.570078 |\n",
       "| 11 | 1 | 60 | 8 | 12 | 1700 | 1.608495 |\n",
       "| 11 | 1 | 50 | 4 | 14 | 1800 | 1.780329 |\n",
       "| 11 | 0 | 26 | 8 | 12 | 1150 | 1.793203 |\n",
       "| 11 | 1 | 46 | 8 | 12 | 3000 | 1.787003 |\n",
       "| 11 | 1 | 49 | 8 |  6 | 2500 | 1.712912 |\n",
       "| 11 | 1 | 52 | 2 |  6 | 1200 | 1.736442 |\n",
       "| 11 | 0 | 38 | 8 | 12 | 2000 | 1.750827 |\n",
       "| 11 | 0 | 45 | 2 | 12 | 2000 | 1.780450 |\n",
       "| 11 | 0 | 34 | 2 | 16 | 6000 | 1.711825 |\n",
       "| 11 | 1 | 43 | 8 | 10 | 1050 | 1.789012 |\n",
       "| 11 | 0 | 53 | 8 | 16 | 7000 | 1.673665 |\n",
       "| 11 | 0 | 57 | 2 | 12 | 2000 | 1.715138 |\n",
       "| 11 | 1 | 62 | 8 | 12 | 1150 | 1.765973 |\n",
       "| 11 | 0 | 69 | 8 |  1 | 3030 | 1.746351 |\n",
       "| 11 | 1 | 41 | 8 | 16 | 4000 | 1.660873 |\n",
       "| 11 | 0 | 34 | 8 |  5 |  788 | 1.746048 |\n",
       "| 11 | 0 | 25 | 8 | 12 | 1000 | 1.726496 |\n",
       "| 11 | 0 | 33 | 8 |  9 |  800 | 1.778914 |\n",
       "| 11 | 1 | 44 | 8 |  5 |  788 | 1.668638 |\n",
       "| 11 | 0 | 33 | 2 | 16 | 1600 | 1.783771 |\n",
       "| 11 | 0 | 65 | 2 | 12 | 1700 | 1.873445 |\n",
       "| 11 | 0 | 33 | 8 | 14 | 2000 | 1.890250 |\n",
       "| 11 | 0 | 32 | 8 | 12 | 2400 | 1.660204 |\n",
       "| ... | ... | ... | ... | ... | ... | ... |\n",
       "| 53 | 0 | 34 | 4 | 12 |  2500 | 1.802241 |\n",
       "| 53 | 1 | 57 | 2 | 11 |  1000 | 1.823047 |\n",
       "| 53 | 1 | 32 | 4 | 12 |   788 | 1.681405 |\n",
       "| 53 | 0 | 35 | 4 |  9 |  2100 | 1.671112 |\n",
       "| 53 | 1 | 49 | 8 | 12 |  5260 | 1.799319 |\n",
       "| 53 | 0 | 51 | 8 |  1 |  5000 | 1.599400 |\n",
       "| 53 | 0 | 37 | 8 | 12 |   950 | 1.620497 |\n",
       "| 53 | 0 | 47 | 8 | 12 |  1109 | 1.920274 |\n",
       "| 53 | 0 | 27 | 8 | 10 |   850 | 1.793074 |\n",
       "| 53 | 1 | 49 | 8 |  9 |   788 | 1.695710 |\n",
       "| 53 | 1 | 27 | 8 | 12 |   866 | 1.729035 |\n",
       "| 53 | 0 | 20 | 2 |  8 |  1300 | 1.660409 |\n",
       "| 53 | 0 | 49 | 8 | 12 |  8700 | 1.775182 |\n",
       "| 53 | 0 | 43 | 8 | 10 |  5000 | 1.584493 |\n",
       "| 53 | 0 | 64 | 2 | 12 |  5000 | 1.717452 |\n",
       "| 53 | 0 | 55 | 2 | 16 | 13000 | 1.729995 |\n",
       "| 53 | 0 | 39 | 2 | 12 |  6000 | 1.739046 |\n",
       "| 53 | 1 | 41 | 2 | 16 | 10000 | 1.696208 |\n",
       "| 53 | 0 | 62 | 2 | 16 | 10000 | 1.817097 |\n",
       "| 53 | 0 | 42 | 8 | 12 | 32000 | 1.788923 |\n",
       "| 53 | 0 | 62 | 2 | 16 |  3500 | 1.725379 |\n",
       "| 53 | 1 | 44 | 2 | 16 | 30000 | 1.783962 |\n",
       "| 53 | 1 | 49 | 2 | 12 |  5000 | 1.757146 |\n",
       "| 53 | 0 | 30 | 4 |  6 |  1900 | 1.662560 |\n",
       "| 53 | 1 | 35 | 4 |  1 |  1100 | 1.741089 |\n",
       "| 53 | 1 | 46 | 2 | 11 |   812 | 1.687030 |\n",
       "| 53 | 0 | 30 | 4 |  7 |  1500 | 1.792934 |\n",
       "| 53 | 0 | 32 | 8 | 12 |  1300 | 1.830587 |\n",
       "| 53 | 0 | 57 | 8 |  4 |  1500 | 1.726344 |\n",
       "| 53 | 0 | 38 | 8 |  4 |   900 | 1.658305 |\n",
       "\n"
      ],
      "text/plain": [
       "      UF  Sexo Idade Cor Anos.de.Estudo Renda Altura  \n",
       "1     11  0    23    8   12              800  1.603808\n",
       "2     11  1    23    2   12             1150  1.739790\n",
       "3     11  1    35    8   15              880  1.760444\n",
       "4     11  0    46    2    6             3500  1.783158\n",
       "5     11  1    47    8    9              150  1.690631\n",
       "6     11  1    34    8   12              790  1.637906\n",
       "7     11  0    57    8   12             3150  1.570078\n",
       "8     11  1    60    8   12             1700  1.608495\n",
       "9     11  1    50    4   14             1800  1.780329\n",
       "10    11  0    26    8   12             1150  1.793203\n",
       "11    11  1    46    8   12             3000  1.787003\n",
       "12    11  1    49    8    6             2500  1.712912\n",
       "13    11  1    52    2    6             1200  1.736442\n",
       "14    11  0    38    8   12             2000  1.750827\n",
       "15    11  0    45    2   12             2000  1.780450\n",
       "16    11  0    34    2   16             6000  1.711825\n",
       "17    11  1    43    8   10             1050  1.789012\n",
       "18    11  0    53    8   16             7000  1.673665\n",
       "19    11  0    57    2   12             2000  1.715138\n",
       "20    11  1    62    8   12             1150  1.765973\n",
       "21    11  0    69    8    1             3030  1.746351\n",
       "22    11  1    41    8   16             4000  1.660873\n",
       "23    11  0    34    8    5              788  1.746048\n",
       "24    11  0    25    8   12             1000  1.726496\n",
       "25    11  0    33    8    9              800  1.778914\n",
       "26    11  1    44    8    5              788  1.668638\n",
       "27    11  0    33    2   16             1600  1.783771\n",
       "28    11  0    65    2   12             1700  1.873445\n",
       "29    11  0    33    8   14             2000  1.890250\n",
       "30    11  0    32    8   12             2400  1.660204\n",
       "...   ... ...  ...   ... ...            ...   ...     \n",
       "76811 53  0    34    4   12              2500 1.802241\n",
       "76812 53  1    57    2   11              1000 1.823047\n",
       "76813 53  1    32    4   12               788 1.681405\n",
       "76814 53  0    35    4    9              2100 1.671112\n",
       "76815 53  1    49    8   12              5260 1.799319\n",
       "76816 53  0    51    8    1              5000 1.599400\n",
       "76817 53  0    37    8   12               950 1.620497\n",
       "76818 53  0    47    8   12              1109 1.920274\n",
       "76819 53  0    27    8   10               850 1.793074\n",
       "76820 53  1    49    8    9               788 1.695710\n",
       "76821 53  1    27    8   12               866 1.729035\n",
       "76822 53  0    20    2    8              1300 1.660409\n",
       "76823 53  0    49    8   12              8700 1.775182\n",
       "76824 53  0    43    8   10              5000 1.584493\n",
       "76825 53  0    64    2   12              5000 1.717452\n",
       "76826 53  0    55    2   16             13000 1.729995\n",
       "76827 53  0    39    2   12              6000 1.739046\n",
       "76828 53  1    41    2   16             10000 1.696208\n",
       "76829 53  0    62    2   16             10000 1.817097\n",
       "76830 53  0    42    8   12             32000 1.788923\n",
       "76831 53  0    62    2   16              3500 1.725379\n",
       "76832 53  1    44    2   16             30000 1.783962\n",
       "76833 53  1    49    2   12              5000 1.757146\n",
       "76834 53  0    30    4    6              1900 1.662560\n",
       "76835 53  1    35    4    1              1100 1.741089\n",
       "76836 53  1    46    2   11               812 1.687030\n",
       "76837 53  0    30    4    7              1500 1.792934\n",
       "76838 53  0    32    8   12              1300 1.830587\n",
       "76839 53  0    57    8    4              1500 1.726344\n",
       "76840 53  0    38    8    4               900 1.658305"
      ]
     },
     "metadata": {},
     "output_type": "display_data"
    }
   ],
   "source": [
    "dados"
   ]
  },
  {
   "cell_type": "code",
   "execution_count": 7,
   "metadata": {
    "colab": {
     "base_uri": "https://localhost:8080/",
     "height": 204
    },
    "colab_type": "code",
    "id": "GsC_WhLFjQKq",
    "outputId": "5eef662c-f904-4e46-ee7a-159616d06554"
   },
   "outputs": [
    {
     "data": {
      "text/html": [
       "<table class=\"dataframe\">\n",
       "<caption>A data.frame: 5 × 7</caption>\n",
       "<thead>\n",
       "\t<tr><th></th><th scope=col>UF</th><th scope=col>Sexo</th><th scope=col>Idade</th><th scope=col>Cor</th><th scope=col>Anos.de.Estudo</th><th scope=col>Renda</th><th scope=col>Altura</th></tr>\n",
       "\t<tr><th></th><th scope=col>&lt;int&gt;</th><th scope=col>&lt;int&gt;</th><th scope=col>&lt;int&gt;</th><th scope=col>&lt;int&gt;</th><th scope=col>&lt;int&gt;</th><th scope=col>&lt;int&gt;</th><th scope=col>&lt;dbl&gt;</th></tr>\n",
       "</thead>\n",
       "<tbody>\n",
       "\t<tr><th scope=row>1</th><td>11</td><td>0</td><td>23</td><td>8</td><td>12</td><td> 800</td><td>1.603808</td></tr>\n",
       "\t<tr><th scope=row>2</th><td>11</td><td>1</td><td>23</td><td>2</td><td>12</td><td>1150</td><td>1.739790</td></tr>\n",
       "\t<tr><th scope=row>3</th><td>11</td><td>1</td><td>35</td><td>8</td><td>15</td><td> 880</td><td>1.760444</td></tr>\n",
       "\t<tr><th scope=row>4</th><td>11</td><td>0</td><td>46</td><td>2</td><td> 6</td><td>3500</td><td>1.783158</td></tr>\n",
       "\t<tr><th scope=row>5</th><td>11</td><td>1</td><td>47</td><td>8</td><td> 9</td><td> 150</td><td>1.690631</td></tr>\n",
       "</tbody>\n",
       "</table>\n"
      ],
      "text/latex": [
       "A data.frame: 5 × 7\n",
       "\\begin{tabular}{r|lllllll}\n",
       "  & UF & Sexo & Idade & Cor & Anos.de.Estudo & Renda & Altura\\\\\n",
       "  & <int> & <int> & <int> & <int> & <int> & <int> & <dbl>\\\\\n",
       "\\hline\n",
       "\t1 & 11 & 0 & 23 & 8 & 12 &  800 & 1.603808\\\\\n",
       "\t2 & 11 & 1 & 23 & 2 & 12 & 1150 & 1.739790\\\\\n",
       "\t3 & 11 & 1 & 35 & 8 & 15 &  880 & 1.760444\\\\\n",
       "\t4 & 11 & 0 & 46 & 2 &  6 & 3500 & 1.783158\\\\\n",
       "\t5 & 11 & 1 & 47 & 8 &  9 &  150 & 1.690631\\\\\n",
       "\\end{tabular}\n"
      ],
      "text/markdown": [
       "\n",
       "A data.frame: 5 × 7\n",
       "\n",
       "| <!--/--> | UF &lt;int&gt; | Sexo &lt;int&gt; | Idade &lt;int&gt; | Cor &lt;int&gt; | Anos.de.Estudo &lt;int&gt; | Renda &lt;int&gt; | Altura &lt;dbl&gt; |\n",
       "|---|---|---|---|---|---|---|---|\n",
       "| 1 | 11 | 0 | 23 | 8 | 12 |  800 | 1.603808 |\n",
       "| 2 | 11 | 1 | 23 | 2 | 12 | 1150 | 1.739790 |\n",
       "| 3 | 11 | 1 | 35 | 8 | 15 |  880 | 1.760444 |\n",
       "| 4 | 11 | 0 | 46 | 2 |  6 | 3500 | 1.783158 |\n",
       "| 5 | 11 | 1 | 47 | 8 |  9 |  150 | 1.690631 |\n",
       "\n"
      ],
      "text/plain": [
       "  UF Sexo Idade Cor Anos.de.Estudo Renda Altura  \n",
       "1 11 0    23    8   12              800  1.603808\n",
       "2 11 1    23    2   12             1150  1.739790\n",
       "3 11 1    35    8   15              880  1.760444\n",
       "4 11 0    46    2    6             3500  1.783158\n",
       "5 11 1    47    8    9              150  1.690631"
      ]
     },
     "metadata": {},
     "output_type": "display_data"
    }
   ],
   "source": [
    "head(dados, 5)"
   ]
  },
  {
   "cell_type": "markdown",
   "metadata": {
    "colab_type": "text",
    "id": "E3Mx0tVqjQKs"
   },
   "source": [
    "## <font color=green>1.2 Tipos de dados</font>\n",
    "***"
   ]
  },
  {
   "cell_type": "markdown",
   "metadata": {
    "colab_type": "text",
    "id": "oB4TCBFojQKt"
   },
   "source": [
    "### Variáveis qualitativas ordinais\n",
    "\n",
    "► Variáveis que podem ser ordenadas ou hierarquizardas"
   ]
  },
  {
   "cell_type": "markdown",
   "metadata": {
    "colab_type": "text",
    "id": "oB4TCBFojQKt"
   },
   "source": [
    "### <font color=red>Documentações:\n",
    "\n",
    "- [**select**](https://www.rdocumentation.org/packages/dplyr/versions/0.7.8/topics/select)\n",
    "- [**unique**](https://www.rdocumentation.org/packages/base/versions/3.6.1/topics/unique)\n",
    "- [**arrange**](https://www.rdocumentation.org/packages/dplyr/versions/0.7.8/topics/arrange)\n",
    "- [**c**](https://www.rdocumentation.org/packages/base/versions/3.6.1/topics/c)\n",
    "- [**sprintf**](https://www.rdocumentation.org/packages/base/versions/3.6.1/topics/sprintf)\n",
    "- [**glue**](https://www.rdocumentation.org/packages/glue/versions/1.3.1/topics/glue)\n",
    "- [**min e max**](https://www.rdocumentation.org/packages/base/versions/3.6.1/topics/Extremes)"
   ]
  },
  {
   "cell_type": "code",
   "execution_count": 8,
   "metadata": {
    "scrolled": true
   },
   "outputs": [
    {
     "data": {
      "text/html": [
       "<table class=\"dataframe\">\n",
       "<caption>A data.frame: 5 × 7</caption>\n",
       "<thead>\n",
       "\t<tr><th></th><th scope=col>UF</th><th scope=col>Sexo</th><th scope=col>Idade</th><th scope=col>Cor</th><th scope=col>Anos.de.Estudo</th><th scope=col>Renda</th><th scope=col>Altura</th></tr>\n",
       "\t<tr><th></th><th scope=col>&lt;int&gt;</th><th scope=col>&lt;int&gt;</th><th scope=col>&lt;int&gt;</th><th scope=col>&lt;int&gt;</th><th scope=col>&lt;int&gt;</th><th scope=col>&lt;int&gt;</th><th scope=col>&lt;dbl&gt;</th></tr>\n",
       "</thead>\n",
       "<tbody>\n",
       "\t<tr><th scope=row>1</th><td>11</td><td>0</td><td>23</td><td>8</td><td>12</td><td> 800</td><td>1.603808</td></tr>\n",
       "\t<tr><th scope=row>2</th><td>11</td><td>1</td><td>23</td><td>2</td><td>12</td><td>1150</td><td>1.739790</td></tr>\n",
       "\t<tr><th scope=row>3</th><td>11</td><td>1</td><td>35</td><td>8</td><td>15</td><td> 880</td><td>1.760444</td></tr>\n",
       "\t<tr><th scope=row>4</th><td>11</td><td>0</td><td>46</td><td>2</td><td> 6</td><td>3500</td><td>1.783158</td></tr>\n",
       "\t<tr><th scope=row>5</th><td>11</td><td>1</td><td>47</td><td>8</td><td> 9</td><td> 150</td><td>1.690631</td></tr>\n",
       "</tbody>\n",
       "</table>\n"
      ],
      "text/latex": [
       "A data.frame: 5 × 7\n",
       "\\begin{tabular}{r|lllllll}\n",
       "  & UF & Sexo & Idade & Cor & Anos.de.Estudo & Renda & Altura\\\\\n",
       "  & <int> & <int> & <int> & <int> & <int> & <int> & <dbl>\\\\\n",
       "\\hline\n",
       "\t1 & 11 & 0 & 23 & 8 & 12 &  800 & 1.603808\\\\\n",
       "\t2 & 11 & 1 & 23 & 2 & 12 & 1150 & 1.739790\\\\\n",
       "\t3 & 11 & 1 & 35 & 8 & 15 &  880 & 1.760444\\\\\n",
       "\t4 & 11 & 0 & 46 & 2 &  6 & 3500 & 1.783158\\\\\n",
       "\t5 & 11 & 1 & 47 & 8 &  9 &  150 & 1.690631\\\\\n",
       "\\end{tabular}\n"
      ],
      "text/markdown": [
       "\n",
       "A data.frame: 5 × 7\n",
       "\n",
       "| <!--/--> | UF &lt;int&gt; | Sexo &lt;int&gt; | Idade &lt;int&gt; | Cor &lt;int&gt; | Anos.de.Estudo &lt;int&gt; | Renda &lt;int&gt; | Altura &lt;dbl&gt; |\n",
       "|---|---|---|---|---|---|---|---|\n",
       "| 1 | 11 | 0 | 23 | 8 | 12 |  800 | 1.603808 |\n",
       "| 2 | 11 | 1 | 23 | 2 | 12 | 1150 | 1.739790 |\n",
       "| 3 | 11 | 1 | 35 | 8 | 15 |  880 | 1.760444 |\n",
       "| 4 | 11 | 0 | 46 | 2 |  6 | 3500 | 1.783158 |\n",
       "| 5 | 11 | 1 | 47 | 8 |  9 |  150 | 1.690631 |\n",
       "\n"
      ],
      "text/plain": [
       "  UF Sexo Idade Cor Anos.de.Estudo Renda Altura  \n",
       "1 11 0    23    8   12              800  1.603808\n",
       "2 11 1    23    2   12             1150  1.739790\n",
       "3 11 1    35    8   15              880  1.760444\n",
       "4 11 0    46    2    6             3500  1.783158\n",
       "5 11 1    47    8    9              150  1.690631"
      ]
     },
     "metadata": {},
     "output_type": "display_data"
    }
   ],
   "source": [
    "head(dados, 5)"
   ]
  },
  {
   "cell_type": "code",
   "execution_count": 9,
   "metadata": {
    "scrolled": true
   },
   "outputs": [
    {
     "data": {
      "text/html": [
       "<table class=\"dataframe\">\n",
       "<caption>A data.frame: 76840 × 1</caption>\n",
       "<thead>\n",
       "\t<tr><th scope=col>Anos.de.Estudo</th></tr>\n",
       "\t<tr><th scope=col>&lt;int&gt;</th></tr>\n",
       "</thead>\n",
       "<tbody>\n",
       "\t<tr><td>12</td></tr>\n",
       "\t<tr><td>12</td></tr>\n",
       "\t<tr><td>15</td></tr>\n",
       "\t<tr><td> 6</td></tr>\n",
       "\t<tr><td> 9</td></tr>\n",
       "\t<tr><td>12</td></tr>\n",
       "\t<tr><td>12</td></tr>\n",
       "\t<tr><td>12</td></tr>\n",
       "\t<tr><td>14</td></tr>\n",
       "\t<tr><td>12</td></tr>\n",
       "\t<tr><td>12</td></tr>\n",
       "\t<tr><td> 6</td></tr>\n",
       "\t<tr><td> 6</td></tr>\n",
       "\t<tr><td>12</td></tr>\n",
       "\t<tr><td>12</td></tr>\n",
       "\t<tr><td>16</td></tr>\n",
       "\t<tr><td>10</td></tr>\n",
       "\t<tr><td>16</td></tr>\n",
       "\t<tr><td>12</td></tr>\n",
       "\t<tr><td>12</td></tr>\n",
       "\t<tr><td> 1</td></tr>\n",
       "\t<tr><td>16</td></tr>\n",
       "\t<tr><td> 5</td></tr>\n",
       "\t<tr><td>12</td></tr>\n",
       "\t<tr><td> 9</td></tr>\n",
       "\t<tr><td> 5</td></tr>\n",
       "\t<tr><td>16</td></tr>\n",
       "\t<tr><td>12</td></tr>\n",
       "\t<tr><td>14</td></tr>\n",
       "\t<tr><td>12</td></tr>\n",
       "\t<tr><td>...</td></tr>\n",
       "\t<tr><td>12</td></tr>\n",
       "\t<tr><td>11</td></tr>\n",
       "\t<tr><td>12</td></tr>\n",
       "\t<tr><td> 9</td></tr>\n",
       "\t<tr><td>12</td></tr>\n",
       "\t<tr><td> 1</td></tr>\n",
       "\t<tr><td>12</td></tr>\n",
       "\t<tr><td>12</td></tr>\n",
       "\t<tr><td>10</td></tr>\n",
       "\t<tr><td> 9</td></tr>\n",
       "\t<tr><td>12</td></tr>\n",
       "\t<tr><td> 8</td></tr>\n",
       "\t<tr><td>12</td></tr>\n",
       "\t<tr><td>10</td></tr>\n",
       "\t<tr><td>12</td></tr>\n",
       "\t<tr><td>16</td></tr>\n",
       "\t<tr><td>12</td></tr>\n",
       "\t<tr><td>16</td></tr>\n",
       "\t<tr><td>16</td></tr>\n",
       "\t<tr><td>12</td></tr>\n",
       "\t<tr><td>16</td></tr>\n",
       "\t<tr><td>16</td></tr>\n",
       "\t<tr><td>12</td></tr>\n",
       "\t<tr><td> 6</td></tr>\n",
       "\t<tr><td> 1</td></tr>\n",
       "\t<tr><td>11</td></tr>\n",
       "\t<tr><td> 7</td></tr>\n",
       "\t<tr><td>12</td></tr>\n",
       "\t<tr><td> 4</td></tr>\n",
       "\t<tr><td> 4</td></tr>\n",
       "</tbody>\n",
       "</table>\n"
      ],
      "text/latex": [
       "A data.frame: 76840 × 1\n",
       "\\begin{tabular}{l}\n",
       " Anos.de.Estudo\\\\\n",
       " <int>\\\\\n",
       "\\hline\n",
       "\t 12\\\\\n",
       "\t 12\\\\\n",
       "\t 15\\\\\n",
       "\t  6\\\\\n",
       "\t  9\\\\\n",
       "\t 12\\\\\n",
       "\t 12\\\\\n",
       "\t 12\\\\\n",
       "\t 14\\\\\n",
       "\t 12\\\\\n",
       "\t 12\\\\\n",
       "\t  6\\\\\n",
       "\t  6\\\\\n",
       "\t 12\\\\\n",
       "\t 12\\\\\n",
       "\t 16\\\\\n",
       "\t 10\\\\\n",
       "\t 16\\\\\n",
       "\t 12\\\\\n",
       "\t 12\\\\\n",
       "\t  1\\\\\n",
       "\t 16\\\\\n",
       "\t  5\\\\\n",
       "\t 12\\\\\n",
       "\t  9\\\\\n",
       "\t  5\\\\\n",
       "\t 16\\\\\n",
       "\t 12\\\\\n",
       "\t 14\\\\\n",
       "\t 12\\\\\n",
       "\t ...\\\\\n",
       "\t 12\\\\\n",
       "\t 11\\\\\n",
       "\t 12\\\\\n",
       "\t  9\\\\\n",
       "\t 12\\\\\n",
       "\t  1\\\\\n",
       "\t 12\\\\\n",
       "\t 12\\\\\n",
       "\t 10\\\\\n",
       "\t  9\\\\\n",
       "\t 12\\\\\n",
       "\t  8\\\\\n",
       "\t 12\\\\\n",
       "\t 10\\\\\n",
       "\t 12\\\\\n",
       "\t 16\\\\\n",
       "\t 12\\\\\n",
       "\t 16\\\\\n",
       "\t 16\\\\\n",
       "\t 12\\\\\n",
       "\t 16\\\\\n",
       "\t 16\\\\\n",
       "\t 12\\\\\n",
       "\t  6\\\\\n",
       "\t  1\\\\\n",
       "\t 11\\\\\n",
       "\t  7\\\\\n",
       "\t 12\\\\\n",
       "\t  4\\\\\n",
       "\t  4\\\\\n",
       "\\end{tabular}\n"
      ],
      "text/markdown": [
       "\n",
       "A data.frame: 76840 × 1\n",
       "\n",
       "| Anos.de.Estudo &lt;int&gt; |\n",
       "|---|\n",
       "| 12 |\n",
       "| 12 |\n",
       "| 15 |\n",
       "|  6 |\n",
       "|  9 |\n",
       "| 12 |\n",
       "| 12 |\n",
       "| 12 |\n",
       "| 14 |\n",
       "| 12 |\n",
       "| 12 |\n",
       "|  6 |\n",
       "|  6 |\n",
       "| 12 |\n",
       "| 12 |\n",
       "| 16 |\n",
       "| 10 |\n",
       "| 16 |\n",
       "| 12 |\n",
       "| 12 |\n",
       "|  1 |\n",
       "| 16 |\n",
       "|  5 |\n",
       "| 12 |\n",
       "|  9 |\n",
       "|  5 |\n",
       "| 16 |\n",
       "| 12 |\n",
       "| 14 |\n",
       "| 12 |\n",
       "| ... |\n",
       "| 12 |\n",
       "| 11 |\n",
       "| 12 |\n",
       "|  9 |\n",
       "| 12 |\n",
       "|  1 |\n",
       "| 12 |\n",
       "| 12 |\n",
       "| 10 |\n",
       "|  9 |\n",
       "| 12 |\n",
       "|  8 |\n",
       "| 12 |\n",
       "| 10 |\n",
       "| 12 |\n",
       "| 16 |\n",
       "| 12 |\n",
       "| 16 |\n",
       "| 16 |\n",
       "| 12 |\n",
       "| 16 |\n",
       "| 16 |\n",
       "| 12 |\n",
       "|  6 |\n",
       "|  1 |\n",
       "| 11 |\n",
       "|  7 |\n",
       "| 12 |\n",
       "|  4 |\n",
       "|  4 |\n",
       "\n"
      ],
      "text/plain": [
       "      Anos.de.Estudo\n",
       "1     12            \n",
       "2     12            \n",
       "3     15            \n",
       "4      6            \n",
       "5      9            \n",
       "6     12            \n",
       "7     12            \n",
       "8     12            \n",
       "9     14            \n",
       "10    12            \n",
       "11    12            \n",
       "12     6            \n",
       "13     6            \n",
       "14    12            \n",
       "15    12            \n",
       "16    16            \n",
       "17    10            \n",
       "18    16            \n",
       "19    12            \n",
       "20    12            \n",
       "21     1            \n",
       "22    16            \n",
       "23     5            \n",
       "24    12            \n",
       "25     9            \n",
       "26     5            \n",
       "27    16            \n",
       "28    12            \n",
       "29    14            \n",
       "30    12            \n",
       "...   ...           \n",
       "76811 12            \n",
       "76812 11            \n",
       "76813 12            \n",
       "76814  9            \n",
       "76815 12            \n",
       "76816  1            \n",
       "76817 12            \n",
       "76818 12            \n",
       "76819 10            \n",
       "76820  9            \n",
       "76821 12            \n",
       "76822  8            \n",
       "76823 12            \n",
       "76824 10            \n",
       "76825 12            \n",
       "76826 16            \n",
       "76827 12            \n",
       "76828 16            \n",
       "76829 16            \n",
       "76830 12            \n",
       "76831 16            \n",
       "76832 16            \n",
       "76833 12            \n",
       "76834  6            \n",
       "76835  1            \n",
       "76836 11            \n",
       "76837  7            \n",
       "76838 12            \n",
       "76839  4            \n",
       "76840  4            "
      ]
     },
     "metadata": {},
     "output_type": "display_data"
    }
   ],
   "source": [
    "select(dados, Anos.de.Estudo)"
   ]
  },
  {
   "cell_type": "code",
   "execution_count": 10,
   "metadata": {
    "scrolled": true
   },
   "outputs": [
    {
     "data": {
      "text/html": [
       "<table class=\"dataframe\">\n",
       "<caption>A data.frame: 17 × 1</caption>\n",
       "<thead>\n",
       "\t<tr><th></th><th scope=col>Anos.de.Estudo</th></tr>\n",
       "\t<tr><th></th><th scope=col>&lt;int&gt;</th></tr>\n",
       "</thead>\n",
       "<tbody>\n",
       "\t<tr><th scope=row>1</th><td>12</td></tr>\n",
       "\t<tr><th scope=row>3</th><td>15</td></tr>\n",
       "\t<tr><th scope=row>4</th><td> 6</td></tr>\n",
       "\t<tr><th scope=row>5</th><td> 9</td></tr>\n",
       "\t<tr><th scope=row>9</th><td>14</td></tr>\n",
       "\t<tr><th scope=row>16</th><td>16</td></tr>\n",
       "\t<tr><th scope=row>17</th><td>10</td></tr>\n",
       "\t<tr><th scope=row>21</th><td> 1</td></tr>\n",
       "\t<tr><th scope=row>23</th><td> 5</td></tr>\n",
       "\t<tr><th scope=row>37</th><td> 7</td></tr>\n",
       "\t<tr><th scope=row>38</th><td> 3</td></tr>\n",
       "\t<tr><th scope=row>44</th><td> 2</td></tr>\n",
       "\t<tr><th scope=row>50</th><td> 4</td></tr>\n",
       "\t<tr><th scope=row>51</th><td> 8</td></tr>\n",
       "\t<tr><th scope=row>63</th><td>11</td></tr>\n",
       "\t<tr><th scope=row>75</th><td>17</td></tr>\n",
       "\t<tr><th scope=row>161</th><td>13</td></tr>\n",
       "</tbody>\n",
       "</table>\n"
      ],
      "text/latex": [
       "A data.frame: 17 × 1\n",
       "\\begin{tabular}{r|l}\n",
       "  & Anos.de.Estudo\\\\\n",
       "  & <int>\\\\\n",
       "\\hline\n",
       "\t1 & 12\\\\\n",
       "\t3 & 15\\\\\n",
       "\t4 &  6\\\\\n",
       "\t5 &  9\\\\\n",
       "\t9 & 14\\\\\n",
       "\t16 & 16\\\\\n",
       "\t17 & 10\\\\\n",
       "\t21 &  1\\\\\n",
       "\t23 &  5\\\\\n",
       "\t37 &  7\\\\\n",
       "\t38 &  3\\\\\n",
       "\t44 &  2\\\\\n",
       "\t50 &  4\\\\\n",
       "\t51 &  8\\\\\n",
       "\t63 & 11\\\\\n",
       "\t75 & 17\\\\\n",
       "\t161 & 13\\\\\n",
       "\\end{tabular}\n"
      ],
      "text/markdown": [
       "\n",
       "A data.frame: 17 × 1\n",
       "\n",
       "| <!--/--> | Anos.de.Estudo &lt;int&gt; |\n",
       "|---|---|\n",
       "| 1 | 12 |\n",
       "| 3 | 15 |\n",
       "| 4 |  6 |\n",
       "| 5 |  9 |\n",
       "| 9 | 14 |\n",
       "| 16 | 16 |\n",
       "| 17 | 10 |\n",
       "| 21 |  1 |\n",
       "| 23 |  5 |\n",
       "| 37 |  7 |\n",
       "| 38 |  3 |\n",
       "| 44 |  2 |\n",
       "| 50 |  4 |\n",
       "| 51 |  8 |\n",
       "| 63 | 11 |\n",
       "| 75 | 17 |\n",
       "| 161 | 13 |\n",
       "\n"
      ],
      "text/plain": [
       "    Anos.de.Estudo\n",
       "1   12            \n",
       "3   15            \n",
       "4    6            \n",
       "5    9            \n",
       "9   14            \n",
       "16  16            \n",
       "17  10            \n",
       "21   1            \n",
       "23   5            \n",
       "37   7            \n",
       "38   3            \n",
       "44   2            \n",
       "50   4            \n",
       "51   8            \n",
       "63  11            \n",
       "75  17            \n",
       "161 13            "
      ]
     },
     "metadata": {},
     "output_type": "display_data"
    }
   ],
   "source": [
    "unique(select(dados, Anos.de.Estudo))"
   ]
  },
  {
   "cell_type": "code",
   "execution_count": 11,
   "metadata": {
    "scrolled": true
   },
   "outputs": [
    {
     "data": {
      "text/html": [
       "<table class=\"dataframe\">\n",
       "<caption>A data.frame: 17 × 1</caption>\n",
       "<thead>\n",
       "\t<tr><th scope=col>Anos.de.Estudo</th></tr>\n",
       "\t<tr><th scope=col>&lt;int&gt;</th></tr>\n",
       "</thead>\n",
       "<tbody>\n",
       "\t<tr><td> 1</td></tr>\n",
       "\t<tr><td> 2</td></tr>\n",
       "\t<tr><td> 3</td></tr>\n",
       "\t<tr><td> 4</td></tr>\n",
       "\t<tr><td> 5</td></tr>\n",
       "\t<tr><td> 6</td></tr>\n",
       "\t<tr><td> 7</td></tr>\n",
       "\t<tr><td> 8</td></tr>\n",
       "\t<tr><td> 9</td></tr>\n",
       "\t<tr><td>10</td></tr>\n",
       "\t<tr><td>11</td></tr>\n",
       "\t<tr><td>12</td></tr>\n",
       "\t<tr><td>13</td></tr>\n",
       "\t<tr><td>14</td></tr>\n",
       "\t<tr><td>15</td></tr>\n",
       "\t<tr><td>16</td></tr>\n",
       "\t<tr><td>17</td></tr>\n",
       "</tbody>\n",
       "</table>\n"
      ],
      "text/latex": [
       "A data.frame: 17 × 1\n",
       "\\begin{tabular}{l}\n",
       " Anos.de.Estudo\\\\\n",
       " <int>\\\\\n",
       "\\hline\n",
       "\t  1\\\\\n",
       "\t  2\\\\\n",
       "\t  3\\\\\n",
       "\t  4\\\\\n",
       "\t  5\\\\\n",
       "\t  6\\\\\n",
       "\t  7\\\\\n",
       "\t  8\\\\\n",
       "\t  9\\\\\n",
       "\t 10\\\\\n",
       "\t 11\\\\\n",
       "\t 12\\\\\n",
       "\t 13\\\\\n",
       "\t 14\\\\\n",
       "\t 15\\\\\n",
       "\t 16\\\\\n",
       "\t 17\\\\\n",
       "\\end{tabular}\n"
      ],
      "text/markdown": [
       "\n",
       "A data.frame: 17 × 1\n",
       "\n",
       "| Anos.de.Estudo &lt;int&gt; |\n",
       "|---|\n",
       "|  1 |\n",
       "|  2 |\n",
       "|  3 |\n",
       "|  4 |\n",
       "|  5 |\n",
       "|  6 |\n",
       "|  7 |\n",
       "|  8 |\n",
       "|  9 |\n",
       "| 10 |\n",
       "| 11 |\n",
       "| 12 |\n",
       "| 13 |\n",
       "| 14 |\n",
       "| 15 |\n",
       "| 16 |\n",
       "| 17 |\n",
       "\n"
      ],
      "text/plain": [
       "   Anos.de.Estudo\n",
       "1   1            \n",
       "2   2            \n",
       "3   3            \n",
       "4   4            \n",
       "5   5            \n",
       "6   6            \n",
       "7   7            \n",
       "8   8            \n",
       "9   9            \n",
       "10 10            \n",
       "11 11            \n",
       "12 12            \n",
       "13 13            \n",
       "14 14            \n",
       "15 15            \n",
       "16 16            \n",
       "17 17            "
      ]
     },
     "metadata": {},
     "output_type": "display_data"
    }
   ],
   "source": [
    "arrange(unique(select(dados, Anos.de.Estudo)), Anos.de.Estudo)"
   ]
  },
  {
   "cell_type": "code",
   "execution_count": 12,
   "metadata": {},
   "outputs": [
    {
     "data": {
      "text/html": [
       "<strong>$Anos.de.Estudo</strong> = <style>\n",
       ".list-inline {list-style: none; margin:0; padding: 0}\n",
       ".list-inline>li {display: inline-block}\n",
       ".list-inline>li:not(:last-child)::after {content: \"\\00b7\"; padding: 0 .5ex}\n",
       "</style>\n",
       "<ol class=list-inline><li>1</li><li>2</li><li>3</li><li>4</li><li>5</li><li>6</li><li>7</li><li>8</li><li>9</li><li>10</li><li>11</li><li>12</li><li>13</li><li>14</li><li>15</li><li>16</li><li>17</li></ol>\n"
      ],
      "text/latex": [
       "\\textbf{\\$Anos.de.Estudo} = \\begin{enumerate*}\n",
       "\\item 1\n",
       "\\item 2\n",
       "\\item 3\n",
       "\\item 4\n",
       "\\item 5\n",
       "\\item 6\n",
       "\\item 7\n",
       "\\item 8\n",
       "\\item 9\n",
       "\\item 10\n",
       "\\item 11\n",
       "\\item 12\n",
       "\\item 13\n",
       "\\item 14\n",
       "\\item 15\n",
       "\\item 16\n",
       "\\item 17\n",
       "\\end{enumerate*}\n"
      ],
      "text/markdown": [
       "**$Anos.de.Estudo** = 1. 1\n",
       "2. 2\n",
       "3. 3\n",
       "4. 4\n",
       "5. 5\n",
       "6. 6\n",
       "7. 7\n",
       "8. 8\n",
       "9. 9\n",
       "10. 10\n",
       "11. 11\n",
       "12. 12\n",
       "13. 13\n",
       "14. 14\n",
       "15. 15\n",
       "16. 16\n",
       "17. 17\n",
       "\n",
       "\n"
      ],
      "text/plain": [
       "$Anos.de.Estudo\n",
       " [1]  1  2  3  4  5  6  7  8  9 10 11 12 13 14 15 16 17\n"
      ]
     },
     "metadata": {},
     "output_type": "display_data"
    }
   ],
   "source": [
    "c(arrange(unique(select(dados, Anos.de.Estudo)), Anos.de.Estudo))"
   ]
  },
  {
   "cell_type": "markdown",
   "metadata": {
    "colab_type": "text",
    "id": "i2mCIMyojQKv"
   },
   "source": [
    "### Variáveis qualitativas nominais\n",
    "\n",
    "► Variáveis que não podem ser ordenadas ou hierarquizardas"
   ]
  },
  {
   "cell_type": "code",
   "execution_count": 13,
   "metadata": {
    "scrolled": true
   },
   "outputs": [
    {
     "data": {
      "text/html": [
       "<strong>$UF</strong> = <style>\n",
       ".list-inline {list-style: none; margin:0; padding: 0}\n",
       ".list-inline>li {display: inline-block}\n",
       ".list-inline>li:not(:last-child)::after {content: \"\\00b7\"; padding: 0 .5ex}\n",
       "</style>\n",
       "<ol class=list-inline><li>11</li><li>12</li><li>13</li><li>14</li><li>15</li><li>16</li><li>17</li><li>21</li><li>22</li><li>23</li><li>24</li><li>25</li><li>26</li><li>27</li><li>28</li><li>29</li><li>31</li><li>32</li><li>33</li><li>35</li><li>41</li><li>42</li><li>43</li><li>50</li><li>51</li><li>52</li><li>53</li></ol>\n"
      ],
      "text/latex": [
       "\\textbf{\\$UF} = \\begin{enumerate*}\n",
       "\\item 11\n",
       "\\item 12\n",
       "\\item 13\n",
       "\\item 14\n",
       "\\item 15\n",
       "\\item 16\n",
       "\\item 17\n",
       "\\item 21\n",
       "\\item 22\n",
       "\\item 23\n",
       "\\item 24\n",
       "\\item 25\n",
       "\\item 26\n",
       "\\item 27\n",
       "\\item 28\n",
       "\\item 29\n",
       "\\item 31\n",
       "\\item 32\n",
       "\\item 33\n",
       "\\item 35\n",
       "\\item 41\n",
       "\\item 42\n",
       "\\item 43\n",
       "\\item 50\n",
       "\\item 51\n",
       "\\item 52\n",
       "\\item 53\n",
       "\\end{enumerate*}\n"
      ],
      "text/markdown": [
       "**$UF** = 1. 11\n",
       "2. 12\n",
       "3. 13\n",
       "4. 14\n",
       "5. 15\n",
       "6. 16\n",
       "7. 17\n",
       "8. 21\n",
       "9. 22\n",
       "10. 23\n",
       "11. 24\n",
       "12. 25\n",
       "13. 26\n",
       "14. 27\n",
       "15. 28\n",
       "16. 29\n",
       "17. 31\n",
       "18. 32\n",
       "19. 33\n",
       "20. 35\n",
       "21. 41\n",
       "22. 42\n",
       "23. 43\n",
       "24. 50\n",
       "25. 51\n",
       "26. 52\n",
       "27. 53\n",
       "\n",
       "\n"
      ],
      "text/plain": [
       "$UF\n",
       " [1] 11 12 13 14 15 16 17 21 22 23 24 25 26 27 28 29 31 32 33 35 41 42 43 50 51\n",
       "[26] 52 53\n"
      ]
     },
     "metadata": {},
     "output_type": "display_data"
    }
   ],
   "source": [
    "c(arrange(unique(select(dados, UF)), UF))"
   ]
  },
  {
   "cell_type": "code",
   "execution_count": 14,
   "metadata": {},
   "outputs": [
    {
     "data": {
      "text/html": [
       "<strong>$Sexo</strong> = <style>\n",
       ".list-inline {list-style: none; margin:0; padding: 0}\n",
       ".list-inline>li {display: inline-block}\n",
       ".list-inline>li:not(:last-child)::after {content: \"\\00b7\"; padding: 0 .5ex}\n",
       "</style>\n",
       "<ol class=list-inline><li>0</li><li>1</li></ol>\n"
      ],
      "text/latex": [
       "\\textbf{\\$Sexo} = \\begin{enumerate*}\n",
       "\\item 0\n",
       "\\item 1\n",
       "\\end{enumerate*}\n"
      ],
      "text/markdown": [
       "**$Sexo** = 1. 0\n",
       "2. 1\n",
       "\n",
       "\n"
      ],
      "text/plain": [
       "$Sexo\n",
       "[1] 0 1\n"
      ]
     },
     "metadata": {},
     "output_type": "display_data"
    }
   ],
   "source": [
    "c(arrange(unique(select(dados, Sexo)), Sexo))"
   ]
  },
  {
   "cell_type": "code",
   "execution_count": 15,
   "metadata": {},
   "outputs": [
    {
     "data": {
      "text/html": [
       "<strong>$Cor</strong> = <style>\n",
       ".list-inline {list-style: none; margin:0; padding: 0}\n",
       ".list-inline>li {display: inline-block}\n",
       ".list-inline>li:not(:last-child)::after {content: \"\\00b7\"; padding: 0 .5ex}\n",
       "</style>\n",
       "<ol class=list-inline><li>0</li><li>2</li><li>4</li><li>6</li><li>8</li></ol>\n"
      ],
      "text/latex": [
       "\\textbf{\\$Cor} = \\begin{enumerate*}\n",
       "\\item 0\n",
       "\\item 2\n",
       "\\item 4\n",
       "\\item 6\n",
       "\\item 8\n",
       "\\end{enumerate*}\n"
      ],
      "text/markdown": [
       "**$Cor** = 1. 0\n",
       "2. 2\n",
       "3. 4\n",
       "4. 6\n",
       "5. 8\n",
       "\n",
       "\n"
      ],
      "text/plain": [
       "$Cor\n",
       "[1] 0 2 4 6 8\n"
      ]
     },
     "metadata": {},
     "output_type": "display_data"
    }
   ],
   "source": [
    "c(arrange(unique(select(dados, Cor)), Cor))"
   ]
  },
  {
   "cell_type": "markdown",
   "metadata": {
    "colab_type": "text",
    "id": "FQhi81LsjQK5"
   },
   "source": [
    "### Variáveis quantitativas discretas\n",
    "\n",
    "► Variáveis que representam uma contagem onde os valores possíveis formam um conjunto finito ou enumerável."
   ]
  },
  {
   "cell_type": "code",
   "execution_count": 16,
   "metadata": {},
   "outputs": [
    {
     "data": {
      "text/html": [
       "'De 13 até 99 anos'"
      ],
      "text/latex": [
       "'De 13 até 99 anos'"
      ],
      "text/markdown": [
       "'De 13 até 99 anos'"
      ],
      "text/plain": [
       "[1] \"De 13 até 99 anos\""
      ]
     },
     "metadata": {},
     "output_type": "display_data"
    }
   ],
   "source": [
    "sprintf('De %s até %s anos', min(dados$Idade), max(dados$Idade))"
   ]
  },
  {
   "cell_type": "code",
   "execution_count": 17,
   "metadata": {},
   "outputs": [
    {
     "name": "stderr",
     "output_type": "stream",
     "text": [
      "\n",
      "Attaching package: 'glue'\n",
      "\n",
      "\n",
      "The following object is masked from 'package:dplyr':\n",
      "\n",
      "    collapse\n",
      "\n",
      "\n"
     ]
    }
   ],
   "source": [
    "library(glue)"
   ]
  },
  {
   "cell_type": "code",
   "execution_count": 18,
   "metadata": {},
   "outputs": [
    {
     "data": {
      "text/html": [
       "'De 13 até 99 anos'"
      ],
      "text/latex": [
       "'De 13 até 99 anos'"
      ],
      "text/markdown": [
       "'De 13 até 99 anos'"
      ],
      "text/plain": [
       "De 13 até 99 anos"
      ]
     },
     "metadata": {},
     "output_type": "display_data"
    }
   ],
   "source": [
    "glue('De {min(dados$Idade)} até {max(dados$Idade)} anos')"
   ]
  },
  {
   "cell_type": "markdown",
   "metadata": {
    "colab_type": "text",
    "id": "7mMXLTukjQK-"
   },
   "source": [
    "#### <font color='red'>Observação</font>\n",
    "***\n",
    "> A variável idade pode ser classificada de três formas distintas:\n",
    "> 1. <b>QUANTITATIVA DISCRETA</b> - quando representa anos completos (números inteiros);\n",
    "> 2. <b>QUANTITATIVA CONTÍNUA</b> - quando representa a idade exata, sendo representado por frações de anos; e\n",
    "> 3. <b>QUALITATIVA ORDINAL</b> - quando representa faixas de idade."
   ]
  },
  {
   "cell_type": "markdown",
   "metadata": {
    "colab_type": "text",
    "id": "J0L2OkaQjQK7"
   },
   "source": [
    "### Variáveis quantitativas contínuas\n",
    "\n",
    "► Variáveis que representam uma contagem ou mensuração que assumem valores em uma escala contínua (números reais)."
   ]
  },
  {
   "cell_type": "code",
   "execution_count": 19,
   "metadata": {},
   "outputs": [
    {
     "data": {
      "text/html": [
       "'De 1.339244614 até 2.028496765 metros'"
      ],
      "text/latex": [
       "'De 1.339244614 até 2.028496765 metros'"
      ],
      "text/markdown": [
       "'De 1.339244614 até 2.028496765 metros'"
      ],
      "text/plain": [
       "De 1.339244614 até 2.028496765 metros"
      ]
     },
     "metadata": {},
     "output_type": "display_data"
    }
   ],
   "source": [
    "glue('De {min(dados$Altura)} até {max(dados$Altura)} metros')"
   ]
  },
  {
   "cell_type": "markdown",
   "metadata": {
    "colab_type": "text",
    "id": "d_LW5gMIjQK_"
   },
   "source": [
    "### Classificação de uma variável\n",
    "<img src='https://caelum-online-public.s3.amazonaws.com/1177-estatistica-parte1/01/img001.png' width='70%'>"
   ]
  },
  {
   "cell_type": "markdown",
   "metadata": {
    "colab_type": "text",
    "id": "PNIg_4VEjQK_"
   },
   "source": [
    "# <font color=green>2 DISTRIBUIÇÃO DE FREQUÊNCIAS</font>\n",
    "***\n",
    "\n",
    "O primeiro passo em um trabalho de análise é o conhecimento do comportamento das variáveis envolvidas no estudo. Utilizando técnicas estatísticas como as análises das <b>DISTRIBUIÇÕES DE FREQUÊNCIAS</b> e <b>HISTOGRAMAS</b> podemos avaliar melhor a forma como os fenômenos em estudo se distribuem."
   ]
  },
  {
   "cell_type": "markdown",
   "metadata": {
    "colab_type": "text",
    "id": "JhpyjkEFjQLA"
   },
   "source": [
    "## <font color=green>2.1 Distribuição de frequências para variáveis qualitativas</font>\n",
    "***"
   ]
  },
  {
   "cell_type": "markdown",
   "metadata": {
    "colab_type": "text",
    "id": "SsN3ikjqjQLB"
   },
   "source": [
    "### Método 1"
   ]
  },
  {
   "cell_type": "markdown",
   "metadata": {
    "colab_type": "text",
    "id": "SsN3ikjqjQLB"
   },
   "source": [
    "### <font color=red>Documentações:\n",
    "\n",
    "- [**table**](https://www.rdocumentation.org/packages/base/versions/3.6.1/topics/table)\n",
    "- [**prop.table**](https://www.rdocumentation.org/packages/base/versions/3.6.1/topics/prop.table)\n",
    "- [**cbind**](https://www.rdocumentation.org/packages/base/versions/3.6.1/topics/cbind)\n",
    "- [**row+colnames**](https://www.rdocumentation.org/packages/base/versions/3.6.1/topics/row%2Bcolnames)"
   ]
  },
  {
   "cell_type": "code",
   "execution_count": 20,
   "metadata": {},
   "outputs": [
    {
     "data": {
      "text/plain": [
       "\n",
       "    0     1 \n",
       "53250 23590 "
      ]
     },
     "metadata": {},
     "output_type": "display_data"
    }
   ],
   "source": [
    "table(dados$Sexo)"
   ]
  },
  {
   "cell_type": "code",
   "execution_count": 21,
   "metadata": {},
   "outputs": [
    {
     "data": {
      "text/html": [
       "<table class=\"dataframe\">\n",
       "<caption>A matrix: 2 × 2 of type dbl</caption>\n",
       "<thead>\n",
       "\t<tr><th></th><th scope=col>freq</th><th scope=col>percent</th></tr>\n",
       "</thead>\n",
       "<tbody>\n",
       "\t<tr><th scope=row>0</th><td>53250</td><td>69.29984</td></tr>\n",
       "\t<tr><th scope=row>1</th><td>23590</td><td>30.70016</td></tr>\n",
       "</tbody>\n",
       "</table>\n"
      ],
      "text/latex": [
       "A matrix: 2 × 2 of type dbl\n",
       "\\begin{tabular}{r|ll}\n",
       "  & freq & percent\\\\\n",
       "\\hline\n",
       "\t0 & 53250 & 69.29984\\\\\n",
       "\t1 & 23590 & 30.70016\\\\\n",
       "\\end{tabular}\n"
      ],
      "text/markdown": [
       "\n",
       "A matrix: 2 × 2 of type dbl\n",
       "\n",
       "| <!--/--> | freq | percent |\n",
       "|---|---|---|\n",
       "| 0 | 53250 | 69.29984 |\n",
       "| 1 | 23590 | 30.70016 |\n",
       "\n"
      ],
      "text/plain": [
       "  freq  percent \n",
       "0 53250 69.29984\n",
       "1 23590 30.70016"
      ]
     },
     "metadata": {},
     "output_type": "display_data"
    }
   ],
   "source": [
    "dist_freq_qualitativas <- cbind(freq = table(dados$Sexo), percent = prop.table(table(dados$Sexo)) * 100)\n",
    "\n",
    "dist_freq_qualitativas"
   ]
  },
  {
   "cell_type": "code",
   "execution_count": 22,
   "metadata": {},
   "outputs": [
    {
     "data": {
      "text/html": [
       "<table class=\"dataframe\">\n",
       "<caption>A matrix: 2 × 2 of type dbl</caption>\n",
       "<thead>\n",
       "\t<tr><th></th><th scope=col>Frequência</th><th scope=col>Porcentagem (%)</th></tr>\n",
       "</thead>\n",
       "<tbody>\n",
       "\t<tr><th scope=row>0</th><td>53250</td><td>69.29984</td></tr>\n",
       "\t<tr><th scope=row>1</th><td>23590</td><td>30.70016</td></tr>\n",
       "</tbody>\n",
       "</table>\n"
      ],
      "text/latex": [
       "A matrix: 2 × 2 of type dbl\n",
       "\\begin{tabular}{r|ll}\n",
       "  & Frequência & Porcentagem (\\%)\\\\\n",
       "\\hline\n",
       "\t0 & 53250 & 69.29984\\\\\n",
       "\t1 & 23590 & 30.70016\\\\\n",
       "\\end{tabular}\n"
      ],
      "text/markdown": [
       "\n",
       "A matrix: 2 × 2 of type dbl\n",
       "\n",
       "| <!--/--> | Frequência | Porcentagem (%) |\n",
       "|---|---|---|\n",
       "| 0 | 53250 | 69.29984 |\n",
       "| 1 | 23590 | 30.70016 |\n",
       "\n"
      ],
      "text/plain": [
       "  Frequência Porcentagem (%)\n",
       "0 53250      69.29984       \n",
       "1 23590      30.70016       "
      ]
     },
     "metadata": {},
     "output_type": "display_data"
    }
   ],
   "source": [
    "colnames(dist_freq_qualitativas) <- c('Frequência', 'Porcentagem (%)')\n",
    "dist_freq_qualitativas"
   ]
  },
  {
   "cell_type": "code",
   "execution_count": 23,
   "metadata": {},
   "outputs": [
    {
     "data": {
      "text/html": [
       "<table class=\"dataframe\">\n",
       "<caption>A matrix: 2 × 2 of type dbl</caption>\n",
       "<thead>\n",
       "\t<tr><th></th><th scope=col>Frequência</th><th scope=col>Porcentagem (%)</th></tr>\n",
       "</thead>\n",
       "<tbody>\n",
       "\t<tr><th scope=row>Masculino</th><td>53250</td><td>69.29984</td></tr>\n",
       "\t<tr><th scope=row>Feminino</th><td>23590</td><td>30.70016</td></tr>\n",
       "</tbody>\n",
       "</table>\n"
      ],
      "text/latex": [
       "A matrix: 2 × 2 of type dbl\n",
       "\\begin{tabular}{r|ll}\n",
       "  & Frequência & Porcentagem (\\%)\\\\\n",
       "\\hline\n",
       "\tMasculino & 53250 & 69.29984\\\\\n",
       "\tFeminino & 23590 & 30.70016\\\\\n",
       "\\end{tabular}\n"
      ],
      "text/markdown": [
       "\n",
       "A matrix: 2 × 2 of type dbl\n",
       "\n",
       "| <!--/--> | Frequência | Porcentagem (%) |\n",
       "|---|---|---|\n",
       "| Masculino | 53250 | 69.29984 |\n",
       "| Feminino | 23590 | 30.70016 |\n",
       "\n"
      ],
      "text/plain": [
       "          Frequência Porcentagem (%)\n",
       "Masculino 53250      69.29984       \n",
       "Feminino  23590      30.70016       "
      ]
     },
     "metadata": {},
     "output_type": "display_data"
    }
   ],
   "source": [
    "rownames(dist_freq_qualitativas) <- c('Masculino', 'Feminino')\n",
    "dist_freq_qualitativas"
   ]
  },
  {
   "cell_type": "markdown",
   "metadata": {
    "colab_type": "text",
    "id": "D82ocp_djQLR"
   },
   "source": [
    "### Método 2"
   ]
  },
  {
   "cell_type": "markdown",
   "metadata": {
    "colab_type": "text",
    "id": "D82ocp_djQLR"
   },
   "source": [
    "### <font color=red>Documentações:\n",
    "\n",
    "- [**tapply**](https://www.rdocumentation.org/packages/base/versions/3.6.1/topics/tapply)"
   ]
  },
  {
   "cell_type": "code",
   "execution_count": 24,
   "metadata": {},
   "outputs": [
    {
     "data": {
      "text/plain": [
       "   \n",
       "        0     2     4     6     8\n",
       "  0   256 22194  5502   235 25063\n",
       "  1   101  9621  2889   117 10862"
      ]
     },
     "metadata": {},
     "output_type": "display_data"
    }
   ],
   "source": [
    "frequencia <- table(dados$Sexo, dados$Cor)\n",
    "frequencia"
   ]
  },
  {
   "cell_type": "code",
   "execution_count": 25,
   "metadata": {
    "colab": {},
    "colab_type": "code",
    "id": "d8XMZiEfjQLS"
   },
   "outputs": [
    {
     "data": {
      "text/html": [
       "<table class=\"dataframe\">\n",
       "<caption>A matrix: 2 × 5 of type int</caption>\n",
       "<thead>\n",
       "\t<tr><th></th><th scope=col>Indígena</th><th scope=col>Branca</th><th scope=col>Preta</th><th scope=col>Amarela</th><th scope=col>Parda</th></tr>\n",
       "</thead>\n",
       "<tbody>\n",
       "\t<tr><th scope=row>Masculino</th><td>256</td><td>22194</td><td>5502</td><td>235</td><td>25063</td></tr>\n",
       "\t<tr><th scope=row>Feminino</th><td>101</td><td> 9621</td><td>2889</td><td>117</td><td>10862</td></tr>\n",
       "</tbody>\n",
       "</table>\n"
      ],
      "text/latex": [
       "A matrix: 2 × 5 of type int\n",
       "\\begin{tabular}{r|lllll}\n",
       "  & Indígena & Branca & Preta & Amarela & Parda\\\\\n",
       "\\hline\n",
       "\tMasculino & 256 & 22194 & 5502 & 235 & 25063\\\\\n",
       "\tFeminino & 101 &  9621 & 2889 & 117 & 10862\\\\\n",
       "\\end{tabular}\n"
      ],
      "text/markdown": [
       "\n",
       "A matrix: 2 × 5 of type int\n",
       "\n",
       "| <!--/--> | Indígena | Branca | Preta | Amarela | Parda |\n",
       "|---|---|---|---|---|---|\n",
       "| Masculino | 256 | 22194 | 5502 | 235 | 25063 |\n",
       "| Feminino | 101 |  9621 | 2889 | 117 | 10862 |\n",
       "\n"
      ],
      "text/plain": [
       "          Indígena Branca Preta Amarela Parda\n",
       "Masculino 256      22194  5502  235     25063\n",
       "Feminino  101       9621  2889  117     10862"
      ]
     },
     "metadata": {},
     "output_type": "display_data"
    }
   ],
   "source": [
    "rownames(frequencia) <- c('Masculino', 'Feminino')\n",
    "colnames(frequencia) <- c('Indígena', 'Branca', 'Preta', 'Amarela', 'Parda')\n",
    "frequencia <- cbind(frequencia)\n",
    "frequencia"
   ]
  },
  {
   "cell_type": "code",
   "execution_count": 26,
   "metadata": {
    "colab": {
     "base_uri": "https://localhost:8080/",
     "height": 142
    },
    "colab_type": "code",
    "id": "YLCyOKYcjQLU",
    "outputId": "7edebb2b-4a25-4b77-f78a-f47adbc8b3d9"
   },
   "outputs": [
    {
     "data": {
      "text/html": [
       "<table class=\"dataframe\">\n",
       "<caption>A matrix: 2 × 5 of type dbl</caption>\n",
       "<thead>\n",
       "\t<tr><th></th><th scope=col>Indígena</th><th scope=col>Branca</th><th scope=col>Preta</th><th scope=col>Amarela</th><th scope=col>Parda</th></tr>\n",
       "</thead>\n",
       "<tbody>\n",
       "\t<tr><th scope=row>Masculino</th><td>0.3331598</td><td>28.88339</td><td>7.160333</td><td>0.3058303</td><td>32.61713</td></tr>\n",
       "\t<tr><th scope=row>Feminino</th><td>0.1314420</td><td>12.52082</td><td>3.759761</td><td>0.1522644</td><td>14.13587</td></tr>\n",
       "</tbody>\n",
       "</table>\n"
      ],
      "text/latex": [
       "A matrix: 2 × 5 of type dbl\n",
       "\\begin{tabular}{r|lllll}\n",
       "  & Indígena & Branca & Preta & Amarela & Parda\\\\\n",
       "\\hline\n",
       "\tMasculino & 0.3331598 & 28.88339 & 7.160333 & 0.3058303 & 32.61713\\\\\n",
       "\tFeminino & 0.1314420 & 12.52082 & 3.759761 & 0.1522644 & 14.13587\\\\\n",
       "\\end{tabular}\n"
      ],
      "text/markdown": [
       "\n",
       "A matrix: 2 × 5 of type dbl\n",
       "\n",
       "| <!--/--> | Indígena | Branca | Preta | Amarela | Parda |\n",
       "|---|---|---|---|---|---|\n",
       "| Masculino | 0.3331598 | 28.88339 | 7.160333 | 0.3058303 | 32.61713 |\n",
       "| Feminino | 0.1314420 | 12.52082 | 3.759761 | 0.1522644 | 14.13587 |\n",
       "\n"
      ],
      "text/plain": [
       "          Indígena  Branca   Preta    Amarela   Parda   \n",
       "Masculino 0.3331598 28.88339 7.160333 0.3058303 32.61713\n",
       "Feminino  0.1314420 12.52082 3.759761 0.1522644 14.13587"
      ]
     },
     "metadata": {},
     "output_type": "display_data"
    }
   ],
   "source": [
    "percentual <- prop.table(frequencia) * 100\n",
    "percentual"
   ]
  },
  {
   "cell_type": "code",
   "execution_count": 27,
   "metadata": {},
   "outputs": [
    {
     "data": {
      "text/html": [
       "<ol>\n",
       "\t<li><style>\n",
       ".list-inline {list-style: none; margin:0; padding: 0}\n",
       ".list-inline>li {display: inline-block}\n",
       ".list-inline>li:not(:last-child)::after {content: \"\\00b7\"; padding: 0 .5ex}\n",
       "</style>\n",
       "<ol class=list-inline><li>1</li><li>2</li><li>3</li><li>4</li></ol>\n",
       "</li>\n",
       "\t<li><style>\n",
       ".list-inline {list-style: none; margin:0; padding: 0}\n",
       ".list-inline>li {display: inline-block}\n",
       ".list-inline>li:not(:last-child)::after {content: \"\\00b7\"; padding: 0 .5ex}\n",
       "</style>\n",
       "<ol class=list-inline><li>5</li><li>6</li><li>7</li></ol>\n",
       "</li>\n",
       "</ol>\n"
      ],
      "text/latex": [
       "\\begin{enumerate}\n",
       "\\item \\begin{enumerate*}\n",
       "\\item 1\n",
       "\\item 2\n",
       "\\item 3\n",
       "\\item 4\n",
       "\\end{enumerate*}\n",
       "\n",
       "\\item \\begin{enumerate*}\n",
       "\\item 5\n",
       "\\item 6\n",
       "\\item 7\n",
       "\\end{enumerate*}\n",
       "\n",
       "\\end{enumerate}\n"
      ],
      "text/markdown": [
       "1. 1. 1\n",
       "2. 2\n",
       "3. 3\n",
       "4. 4\n",
       "\n",
       "\n",
       "\n",
       "2. 1. 5\n",
       "2. 6\n",
       "3. 7\n",
       "\n",
       "\n",
       "\n",
       "\n",
       "\n"
      ],
      "text/plain": [
       "[[1]]\n",
       "[1] 1 2 3 4\n",
       "\n",
       "[[2]]\n",
       "[1] 5 6 7\n"
      ]
     },
     "metadata": {},
     "output_type": "display_data"
    }
   ],
   "source": [
    "list(c(1,2,3,4), c(5,6,7))"
   ]
  },
  {
   "cell_type": "code",
   "execution_count": 28,
   "metadata": {},
   "outputs": [
    {
     "data": {
      "text/html": [
       "<table class=\"dataframe\">\n",
       "<caption>A matrix: 2 × 5 of type dbl</caption>\n",
       "<thead>\n",
       "\t<tr><th></th><th scope=col>Indígena</th><th scope=col>Branca</th><th scope=col>Preta</th><th scope=col>Amarela</th><th scope=col>Parda</th></tr>\n",
       "</thead>\n",
       "<tbody>\n",
       "\t<tr><th scope=row>Masculino</th><td>1081.711</td><td>2925.744</td><td>1603.862</td><td>4758.251</td><td>1659.577</td></tr>\n",
       "\t<tr><th scope=row>Feminino</th><td>2464.386</td><td>2109.867</td><td>1134.596</td><td>3027.342</td><td>1176.759</td></tr>\n",
       "</tbody>\n",
       "</table>\n"
      ],
      "text/latex": [
       "A matrix: 2 × 5 of type dbl\n",
       "\\begin{tabular}{r|lllll}\n",
       "  & Indígena & Branca & Preta & Amarela & Parda\\\\\n",
       "\\hline\n",
       "\tMasculino & 1081.711 & 2925.744 & 1603.862 & 4758.251 & 1659.577\\\\\n",
       "\tFeminino & 2464.386 & 2109.867 & 1134.596 & 3027.342 & 1176.759\\\\\n",
       "\\end{tabular}\n"
      ],
      "text/markdown": [
       "\n",
       "A matrix: 2 × 5 of type dbl\n",
       "\n",
       "| <!--/--> | Indígena | Branca | Preta | Amarela | Parda |\n",
       "|---|---|---|---|---|---|\n",
       "| Masculino | 1081.711 | 2925.744 | 1603.862 | 4758.251 | 1659.577 |\n",
       "| Feminino | 2464.386 | 2109.867 | 1134.596 | 3027.342 | 1176.759 |\n",
       "\n"
      ],
      "text/plain": [
       "          Indígena Branca   Preta    Amarela  Parda   \n",
       "Masculino 1081.711 2925.744 1603.862 4758.251 1659.577\n",
       "Feminino  2464.386 2109.867 1134.596 3027.342 1176.759"
      ]
     },
     "metadata": {},
     "output_type": "display_data"
    }
   ],
   "source": [
    "medias <- tapply(dados$Renda, list(dados$Sexo, dados$Cor), mean)\n",
    "\n",
    "rownames(medias) <- c('Masculino', 'Feminino')\n",
    "colnames(medias) <- c('Indígena', 'Branca', 'Preta', 'Amarela', 'Parda')\n",
    "medias"
   ]
  },
  {
   "cell_type": "markdown",
   "metadata": {
    "colab_type": "text",
    "id": "eaXQUxnXjQLa"
   },
   "source": [
    "## <font color=green>2.2 Distribuição de frequências para variáveis quantitativas (classes personalizadas)</font>\n",
    "***"
   ]
  },
  {
   "cell_type": "markdown",
   "metadata": {
    "colab_type": "text",
    "id": "eaXQUxnXjQLa"
   },
   "source": [
    "### <font color=red>Documentações:\n",
    "\n",
    "- [**cut**](https://www.rdocumentation.org/packages/base/versions/3.6.1/topics/cut)\n",
    "- [**order**](https://www.rdocumentation.org/packages/base/versions/3.6.1/topics/order)\n",
    "- [**row.names**](https://www.rdocumentation.org/packages/base/versions/3.6.1/topics/row.names)"
   ]
  },
  {
   "cell_type": "markdown",
   "metadata": {
    "colab_type": "text",
    "id": "wxsSD-VVjQLb"
   },
   "source": [
    "### Passo 1 - Especificar os limites de cada classe\n",
    "\n",
    "Utilizar a seguinte classificação:\n",
    "\n",
    "<b>A</b> ► Acima de 20 SM\n",
    "\n",
    "<b>B</b> ► De 10 a 20 SM\n",
    "\n",
    "<b>C</b> ► De 4 a 10 SM\n",
    "\n",
    "<b>D</b> ► De 2 a 4 SM\n",
    "\n",
    "<b>E</b> ► Até 2 SM\n",
    "\n",
    "onde <b>SM</b> é o valor do salário mínimo na época. Em nosso caso <b>R$ 788,00</b> (2015):\n",
    "\n",
    "<b>A</b> ► Acima de 15.760\n",
    "\n",
    "<b>B</b> ► De 7.880 a 15.760\n",
    "\n",
    "<b>C</b> ► De 3.152 a 7.880\n",
    "\n",
    "<b>D</b> ► De 1.576 a 3.152\n",
    "\n",
    "<b>E</b> ► Até 1.576\n"
   ]
  },
  {
   "cell_type": "code",
   "execution_count": 29,
   "metadata": {
    "colab": {
     "base_uri": "https://localhost:8080/",
     "height": 35
    },
    "colab_type": "code",
    "id": "Z08790GUjQLc",
    "outputId": "4a7bafb3-8440-42ee-fc60-a29080527059"
   },
   "outputs": [
    {
     "data": {
      "text/html": [
       "0"
      ],
      "text/latex": [
       "0"
      ],
      "text/markdown": [
       "0"
      ],
      "text/plain": [
       "[1] 0"
      ]
     },
     "metadata": {},
     "output_type": "display_data"
    }
   ],
   "source": [
    "min(dados$Renda)"
   ]
  },
  {
   "cell_type": "code",
   "execution_count": 30,
   "metadata": {
    "colab": {
     "base_uri": "https://localhost:8080/",
     "height": 35
    },
    "colab_type": "code",
    "id": "5q2V5-0FjQLe",
    "outputId": "4d3c65eb-f1b0-454d-eb93-09c82314e311"
   },
   "outputs": [
    {
     "data": {
      "text/html": [
       "200000"
      ],
      "text/latex": [
       "200000"
      ],
      "text/markdown": [
       "200000"
      ],
      "text/plain": [
       "[1] 200000"
      ]
     },
     "metadata": {},
     "output_type": "display_data"
    }
   ],
   "source": [
    "max(dados$Renda)"
   ]
  },
  {
   "cell_type": "code",
   "execution_count": 31,
   "metadata": {
    "colab": {},
    "colab_type": "code",
    "id": "Qt5F5w2UjQLg"
   },
   "outputs": [],
   "source": [
    "classes <- c(0, 1576, 3152, 7880, 15760, 200000)"
   ]
  },
  {
   "cell_type": "code",
   "execution_count": 32,
   "metadata": {
    "colab": {},
    "colab_type": "code",
    "id": "DKPIGOLLjQLi"
   },
   "outputs": [],
   "source": [
    "labels <- c('E', 'D', 'C', 'B', 'A')"
   ]
  },
  {
   "cell_type": "markdown",
   "metadata": {
    "colab_type": "text",
    "id": "IQhlvrQUjQLk"
   },
   "source": [
    "### Passo 2 - Criar a tabela de frequências"
   ]
  },
  {
   "cell_type": "code",
   "execution_count": 33,
   "metadata": {},
   "outputs": [
    {
     "data": {
      "text/plain": [
       "\n",
       "    E     D     C     B     A \n",
       "49755 16700  7599  2178   608 "
      ]
     },
     "metadata": {},
     "output_type": "display_data"
    }
   ],
   "source": [
    "frequencia <- table(\n",
    "    cut(\n",
    "        x = dados$Renda,\n",
    "        breaks = classes,\n",
    "        labels = labels,\n",
    "        include.lowest = TRUE\n",
    "    )\n",
    ")\n",
    "frequencia"
   ]
  },
  {
   "cell_type": "code",
   "execution_count": 34,
   "metadata": {
    "colab": {
     "base_uri": "https://localhost:8080/",
     "height": 125
    },
    "colab_type": "code",
    "id": "WrZ2m2GajQLo",
    "outputId": "363ba010-04c1-4f23-a08a-f5431372fcf4"
   },
   "outputs": [
    {
     "data": {
      "text/plain": [
       "\n",
       "         E          D          C          B          A \n",
       "64.7514315 21.7334721  9.8893805  2.8344612  0.7912546 "
      ]
     },
     "metadata": {},
     "output_type": "display_data"
    }
   ],
   "source": [
    "percentual <- prop.table(frequencia) * 100\n",
    "percentual"
   ]
  },
  {
   "cell_type": "code",
   "execution_count": 35,
   "metadata": {
    "colab": {
     "base_uri": "https://localhost:8080/",
     "height": 204
    },
    "colab_type": "code",
    "id": "btKoxJDujQLp",
    "outputId": "849e9644-dcf1-4c0f-88c8-9bd00f24a53b"
   },
   "outputs": [
    {
     "data": {
      "text/html": [
       "<table class=\"dataframe\">\n",
       "<caption>A matrix: 5 × 2 of type dbl</caption>\n",
       "<thead>\n",
       "\t<tr><th></th><th scope=col>Frequência</th><th scope=col>Porcentagem (%)</th></tr>\n",
       "</thead>\n",
       "<tbody>\n",
       "\t<tr><th scope=row>E</th><td>49755</td><td>64.7514315</td></tr>\n",
       "\t<tr><th scope=row>D</th><td>16700</td><td>21.7334721</td></tr>\n",
       "\t<tr><th scope=row>C</th><td> 7599</td><td> 9.8893805</td></tr>\n",
       "\t<tr><th scope=row>B</th><td> 2178</td><td> 2.8344612</td></tr>\n",
       "\t<tr><th scope=row>A</th><td>  608</td><td> 0.7912546</td></tr>\n",
       "</tbody>\n",
       "</table>\n"
      ],
      "text/latex": [
       "A matrix: 5 × 2 of type dbl\n",
       "\\begin{tabular}{r|ll}\n",
       "  & Frequência & Porcentagem (\\%)\\\\\n",
       "\\hline\n",
       "\tE & 49755 & 64.7514315\\\\\n",
       "\tD & 16700 & 21.7334721\\\\\n",
       "\tC &  7599 &  9.8893805\\\\\n",
       "\tB &  2178 &  2.8344612\\\\\n",
       "\tA &   608 &  0.7912546\\\\\n",
       "\\end{tabular}\n"
      ],
      "text/markdown": [
       "\n",
       "A matrix: 5 × 2 of type dbl\n",
       "\n",
       "| <!--/--> | Frequência | Porcentagem (%) |\n",
       "|---|---|---|\n",
       "| E | 49755 | 64.7514315 |\n",
       "| D | 16700 | 21.7334721 |\n",
       "| C |  7599 |  9.8893805 |\n",
       "| B |  2178 |  2.8344612 |\n",
       "| A |   608 |  0.7912546 |\n",
       "\n"
      ],
      "text/plain": [
       "  Frequência Porcentagem (%)\n",
       "E 49755      64.7514315     \n",
       "D 16700      21.7334721     \n",
       "C  7599       9.8893805     \n",
       "B  2178       2.8344612     \n",
       "A   608       0.7912546     "
      ]
     },
     "metadata": {},
     "output_type": "display_data"
    }
   ],
   "source": [
    "dist_freq_quantitaivas_personalizadas <- cbind('Frequência' = frequencia, 'Porcentagem (%)' = percentual)\n",
    "dist_freq_quantitaivas_personalizadas"
   ]
  },
  {
   "cell_type": "code",
   "execution_count": 36,
   "metadata": {
    "colab": {
     "base_uri": "https://localhost:8080/",
     "height": 204
    },
    "colab_type": "code",
    "id": "uTMEJXUHjQLs",
    "outputId": "ce17e408-9d56-44b2-fb26-a4037df3af00"
   },
   "outputs": [
    {
     "data": {
      "text/html": [
       "<table class=\"dataframe\">\n",
       "<caption>A matrix: 5 × 2 of type dbl</caption>\n",
       "<thead>\n",
       "\t<tr><th></th><th scope=col>Frequência</th><th scope=col>Porcentagem (%)</th></tr>\n",
       "</thead>\n",
       "<tbody>\n",
       "\t<tr><th scope=row>A</th><td>  608</td><td> 0.7912546</td></tr>\n",
       "\t<tr><th scope=row>B</th><td> 2178</td><td> 2.8344612</td></tr>\n",
       "\t<tr><th scope=row>C</th><td> 7599</td><td> 9.8893805</td></tr>\n",
       "\t<tr><th scope=row>D</th><td>16700</td><td>21.7334721</td></tr>\n",
       "\t<tr><th scope=row>E</th><td>49755</td><td>64.7514315</td></tr>\n",
       "</tbody>\n",
       "</table>\n"
      ],
      "text/latex": [
       "A matrix: 5 × 2 of type dbl\n",
       "\\begin{tabular}{r|ll}\n",
       "  & Frequência & Porcentagem (\\%)\\\\\n",
       "\\hline\n",
       "\tA &   608 &  0.7912546\\\\\n",
       "\tB &  2178 &  2.8344612\\\\\n",
       "\tC &  7599 &  9.8893805\\\\\n",
       "\tD & 16700 & 21.7334721\\\\\n",
       "\tE & 49755 & 64.7514315\\\\\n",
       "\\end{tabular}\n"
      ],
      "text/markdown": [
       "\n",
       "A matrix: 5 × 2 of type dbl\n",
       "\n",
       "| <!--/--> | Frequência | Porcentagem (%) |\n",
       "|---|---|---|\n",
       "| A |   608 |  0.7912546 |\n",
       "| B |  2178 |  2.8344612 |\n",
       "| C |  7599 |  9.8893805 |\n",
       "| D | 16700 | 21.7334721 |\n",
       "| E | 49755 | 64.7514315 |\n",
       "\n"
      ],
      "text/plain": [
       "  Frequência Porcentagem (%)\n",
       "A   608       0.7912546     \n",
       "B  2178       2.8344612     \n",
       "C  7599       9.8893805     \n",
       "D 16700      21.7334721     \n",
       "E 49755      64.7514315     "
      ]
     },
     "metadata": {},
     "output_type": "display_data"
    },
    {
     "data": {
      "text/html": [
       "<table class=\"dataframe\">\n",
       "<caption>A matrix: 5 × 2 of type dbl</caption>\n",
       "<thead>\n",
       "\t<tr><th></th><th scope=col>Frequência</th><th scope=col>Porcentagem (%)</th></tr>\n",
       "</thead>\n",
       "<tbody>\n",
       "\t<tr><th scope=row>E</th><td>49755</td><td>64.7514315</td></tr>\n",
       "\t<tr><th scope=row>D</th><td>16700</td><td>21.7334721</td></tr>\n",
       "\t<tr><th scope=row>C</th><td> 7599</td><td> 9.8893805</td></tr>\n",
       "\t<tr><th scope=row>B</th><td> 2178</td><td> 2.8344612</td></tr>\n",
       "\t<tr><th scope=row>A</th><td>  608</td><td> 0.7912546</td></tr>\n",
       "</tbody>\n",
       "</table>\n"
      ],
      "text/latex": [
       "A matrix: 5 × 2 of type dbl\n",
       "\\begin{tabular}{r|ll}\n",
       "  & Frequência & Porcentagem (\\%)\\\\\n",
       "\\hline\n",
       "\tE & 49755 & 64.7514315\\\\\n",
       "\tD & 16700 & 21.7334721\\\\\n",
       "\tC &  7599 &  9.8893805\\\\\n",
       "\tB &  2178 &  2.8344612\\\\\n",
       "\tA &   608 &  0.7912546\\\\\n",
       "\\end{tabular}\n"
      ],
      "text/markdown": [
       "\n",
       "A matrix: 5 × 2 of type dbl\n",
       "\n",
       "| <!--/--> | Frequência | Porcentagem (%) |\n",
       "|---|---|---|\n",
       "| E | 49755 | 64.7514315 |\n",
       "| D | 16700 | 21.7334721 |\n",
       "| C |  7599 |  9.8893805 |\n",
       "| B |  2178 |  2.8344612 |\n",
       "| A |   608 |  0.7912546 |\n",
       "\n"
      ],
      "text/plain": [
       "  Frequência Porcentagem (%)\n",
       "E 49755      64.7514315     \n",
       "D 16700      21.7334721     \n",
       "C  7599       9.8893805     \n",
       "B  2178       2.8344612     \n",
       "A   608       0.7912546     "
      ]
     },
     "metadata": {},
     "output_type": "display_data"
    }
   ],
   "source": [
    "dist_freq_quantitaivas_personalizadas[\n",
    "    order(row.names(dist_freq_quantitaivas_personalizadas)),\n",
    "]\n",
    "dist_freq_quantitaivas_personalizadas"
   ]
  },
  {
   "cell_type": "markdown",
   "metadata": {
    "colab_type": "text",
    "id": "ViJYvvjujQLu"
   },
   "source": [
    "## <font color=green>2.3 Distribuição de frequências para variáveis quantitativas (classes de amplitude fixa)</font>\n",
    "***"
   ]
  },
  {
   "cell_type": "markdown",
   "metadata": {
    "colab_type": "text",
    "id": "ViJYvvjujQLu"
   },
   "source": [
    "### <font color=red>Documentações:\n",
    "\n",
    "- [**nrow**](https://www.rdocumentation.org/packages/base/versions/3.6.1/topics/nrow)\n",
    "- [**log**](https://www.rdocumentation.org/packages/base/versions/3.6.1/topics/log)\n",
    "- [**round**](https://www.rdocumentation.org/packages/base/versions/3.6.1/topics/Round)"
   ]
  },
  {
   "cell_type": "markdown",
   "metadata": {
    "colab_type": "text",
    "id": "s9UGNaMzjQLy"
   },
   "source": [
    "### Passo 1 - Definindo o número de classes"
   ]
  },
  {
   "cell_type": "markdown",
   "metadata": {
    "colab_type": "text",
    "id": "p268tvNHjQLy"
   },
   "source": [
    "#### Regra de Sturges\n",
    "\n",
    "# $$k = 1 + \\frac {10}{3}\\log_{10}n$$"
   ]
  },
  {
   "cell_type": "code",
   "execution_count": 37,
   "metadata": {
    "colab": {
     "base_uri": "https://localhost:8080/",
     "height": 35
    },
    "colab_type": "code",
    "id": "wgLH6gGqjQLz",
    "outputId": "0cac691b-d35f-40a2-e1e7-31cfa0a5698a"
   },
   "outputs": [
    {
     "data": {
      "text/html": [
       "76840"
      ],
      "text/latex": [
       "76840"
      ],
      "text/markdown": [
       "76840"
      ],
      "text/plain": [
       "[1] 76840"
      ]
     },
     "metadata": {},
     "output_type": "display_data"
    }
   ],
   "source": [
    "n <- nrow(dados)\n",
    "n"
   ]
  },
  {
   "cell_type": "code",
   "execution_count": 38,
   "metadata": {
    "colab": {},
    "colab_type": "code",
    "id": "uTuVep-8jQL0"
   },
   "outputs": [
    {
     "data": {
      "text/html": [
       "17.2852911872989"
      ],
      "text/latex": [
       "17.2852911872989"
      ],
      "text/markdown": [
       "17.2852911872989"
      ],
      "text/plain": [
       "[1] 17.28529"
      ]
     },
     "metadata": {},
     "output_type": "display_data"
    }
   ],
   "source": [
    "k <- 1 + (10/3) * log10(n)\n",
    "k"
   ]
  },
  {
   "cell_type": "code",
   "execution_count": 39,
   "metadata": {
    "colab": {
     "base_uri": "https://localhost:8080/",
     "height": 35
    },
    "colab_type": "code",
    "id": "B_Y66_KFjQL4",
    "outputId": "b93f7e32-c1f3-46b0-86d2-4575bab25906"
   },
   "outputs": [
    {
     "data": {
      "text/html": [
       "17"
      ],
      "text/latex": [
       "17"
      ],
      "text/markdown": [
       "17"
      ],
      "text/plain": [
       "[1] 17"
      ]
     },
     "metadata": {},
     "output_type": "display_data"
    }
   ],
   "source": [
    "k <- round(k)\n",
    "k"
   ]
  },
  {
   "cell_type": "markdown",
   "metadata": {
    "colab_type": "text",
    "id": "5eO-RhaljQL6"
   },
   "source": [
    "### Passo 2 - Criar a tabela de frequências"
   ]
  },
  {
   "cell_type": "code",
   "execution_count": 40,
   "metadata": {},
   "outputs": [],
   "source": [
    "labels <- c(\n",
    "    '      0.00 |—|  11,764.70', \n",
    "    ' 11,764.70  —|  23,529.40', \n",
    "    ' 23,529.40  —|  35,294.10', \n",
    "    ' 35,294.10  —|  47,058.80', \n",
    "    ' 47,058.80  —|  58,823.50', \n",
    "    ' 58,823.50  —|  70,588.20', \n",
    "    ' 70,588.20  —|  82,352.90', \n",
    "    ' 82,352.90  —|  94,117.60', \n",
    "    ' 94,117.60  —| 105,882.00', \n",
    "    '105,882.00  —| 117,647.00', \n",
    "    '117,647.00  —| 129,412.00', \n",
    "    '129,412.00  —| 141,176.00', \n",
    "    '141,176.00  —| 152,941.00', \n",
    "    '152,941.00  —| 164,706.00', \n",
    "    '164,706.00  —| 176,471.00', \n",
    "    '176,471.00  —| 188,235.00', \n",
    "    '188,235.00  —| 200,000.00'\n",
    ")"
   ]
  },
  {
   "cell_type": "code",
   "execution_count": 41,
   "metadata": {
    "colab": {},
    "colab_type": "code",
    "id": "sVVA-jvDjQL7"
   },
   "outputs": [
    {
     "data": {
      "text/plain": [
       "\n",
       "      0.00 |—|  11,764.70  11,764.70  —|  23,529.40  23,529.40  —|  35,294.10 \n",
       "                    75594                      1022                       169 \n",
       " 35,294.10  —|  47,058.80  47,058.80  —|  58,823.50  58,823.50  —|  70,588.20 \n",
       "                       19                        16                         5 \n",
       " 70,588.20  —|  82,352.90  82,352.90  —|  94,117.60  94,117.60  —| 105,882.00 \n",
       "                        4                         1                         6 \n",
       "105,882.00  —| 117,647.00 117,647.00  —| 129,412.00 129,412.00  —| 141,176.00 \n",
       "                        0                         1                         0 \n",
       "141,176.00  —| 152,941.00 152,941.00  —| 164,706.00 164,706.00  —| 176,471.00 \n",
       "                        0                         0                         0 \n",
       "176,471.00  —| 188,235.00 188,235.00  —| 200,000.00 \n",
       "                        0                         3 "
      ]
     },
     "metadata": {},
     "output_type": "display_data"
    }
   ],
   "source": [
    "frequencia <- table(\n",
    "    cut(\n",
    "        x = dados$Renda,\n",
    "        breaks = k,\n",
    "        labels = labels,\n",
    "        include.lowest = TRUE\n",
    "    )\n",
    ")\n",
    "frequencia"
   ]
  },
  {
   "cell_type": "code",
   "execution_count": 42,
   "metadata": {
    "colab": {
     "base_uri": "https://localhost:8080/",
     "height": 341
    },
    "colab_type": "code",
    "id": "-ylxSip1jQL9",
    "outputId": "d362e353-a3c9-4721-efd3-2a8ff7c85ab5"
   },
   "outputs": [
    {
     "data": {
      "text/plain": [
       "\n",
       "      0.00 |—|  11,764.70  11,764.70  —|  23,529.40  23,529.40  —|  35,294.10 \n",
       "             98.378448725               1.330036439               0.219937533 \n",
       " 35,294.10  —|  47,058.80  47,058.80  —|  58,823.50  58,823.50  —|  70,588.20 \n",
       "              0.024726705               0.020822488               0.006507028 \n",
       " 70,588.20  —|  82,352.90  82,352.90  —|  94,117.60  94,117.60  —| 105,882.00 \n",
       "              0.005205622               0.001301406               0.007808433 \n",
       "105,882.00  —| 117,647.00 117,647.00  —| 129,412.00 129,412.00  —| 141,176.00 \n",
       "              0.000000000               0.001301406               0.000000000 \n",
       "141,176.00  —| 152,941.00 152,941.00  —| 164,706.00 164,706.00  —| 176,471.00 \n",
       "              0.000000000               0.000000000               0.000000000 \n",
       "176,471.00  —| 188,235.00 188,235.00  —| 200,000.00 \n",
       "              0.000000000               0.003904217 "
      ]
     },
     "metadata": {},
     "output_type": "display_data"
    }
   ],
   "source": [
    "percentual <- prop.table(frequencia) * 100\n",
    "percentual"
   ]
  },
  {
   "cell_type": "code",
   "execution_count": 43,
   "metadata": {
    "colab": {
     "base_uri": "https://localhost:8080/",
     "height": 576
    },
    "colab_type": "code",
    "id": "n9kkJ0WTjQL_",
    "outputId": "994669b3-9a10-424c-adab-6f934f87fd45"
   },
   "outputs": [
    {
     "data": {
      "text/html": [
       "<table class=\"dataframe\">\n",
       "<caption>A matrix: 17 × 2 of type dbl</caption>\n",
       "<thead>\n",
       "\t<tr><th></th><th scope=col>Frequência</th><th scope=col>Porcentagem (%)</th></tr>\n",
       "</thead>\n",
       "<tbody>\n",
       "\t<tr><th scope=row>      0.00 |—|  11,764.70</th><td>75594</td><td>98.378448725</td></tr>\n",
       "\t<tr><th scope=row> 11,764.70  —|  23,529.40</th><td> 1022</td><td> 1.330036439</td></tr>\n",
       "\t<tr><th scope=row> 23,529.40  —|  35,294.10</th><td>  169</td><td> 0.219937533</td></tr>\n",
       "\t<tr><th scope=row> 35,294.10  —|  47,058.80</th><td>   19</td><td> 0.024726705</td></tr>\n",
       "\t<tr><th scope=row> 47,058.80  —|  58,823.50</th><td>   16</td><td> 0.020822488</td></tr>\n",
       "\t<tr><th scope=row> 58,823.50  —|  70,588.20</th><td>    5</td><td> 0.006507028</td></tr>\n",
       "\t<tr><th scope=row> 70,588.20  —|  82,352.90</th><td>    4</td><td> 0.005205622</td></tr>\n",
       "\t<tr><th scope=row> 82,352.90  —|  94,117.60</th><td>    1</td><td> 0.001301406</td></tr>\n",
       "\t<tr><th scope=row> 94,117.60  —| 105,882.00</th><td>    6</td><td> 0.007808433</td></tr>\n",
       "\t<tr><th scope=row>105,882.00  —| 117,647.00</th><td>    0</td><td> 0.000000000</td></tr>\n",
       "\t<tr><th scope=row>117,647.00  —| 129,412.00</th><td>    1</td><td> 0.001301406</td></tr>\n",
       "\t<tr><th scope=row>129,412.00  —| 141,176.00</th><td>    0</td><td> 0.000000000</td></tr>\n",
       "\t<tr><th scope=row>141,176.00  —| 152,941.00</th><td>    0</td><td> 0.000000000</td></tr>\n",
       "\t<tr><th scope=row>152,941.00  —| 164,706.00</th><td>    0</td><td> 0.000000000</td></tr>\n",
       "\t<tr><th scope=row>164,706.00  —| 176,471.00</th><td>    0</td><td> 0.000000000</td></tr>\n",
       "\t<tr><th scope=row>176,471.00  —| 188,235.00</th><td>    0</td><td> 0.000000000</td></tr>\n",
       "\t<tr><th scope=row>188,235.00  —| 200,000.00</th><td>    3</td><td> 0.003904217</td></tr>\n",
       "</tbody>\n",
       "</table>\n"
      ],
      "text/latex": [
       "A matrix: 17 × 2 of type dbl\n",
       "\\begin{tabular}{r|ll}\n",
       "  & Frequência & Porcentagem (\\%)\\\\\n",
       "\\hline\n",
       "\t      0.00 \\textbar{}—\\textbar{}  11,764.70 & 75594 & 98.378448725\\\\\n",
       "\t 11,764.70  —\\textbar{}  23,529.40 &  1022 &  1.330036439\\\\\n",
       "\t 23,529.40  —\\textbar{}  35,294.10 &   169 &  0.219937533\\\\\n",
       "\t 35,294.10  —\\textbar{}  47,058.80 &    19 &  0.024726705\\\\\n",
       "\t 47,058.80  —\\textbar{}  58,823.50 &    16 &  0.020822488\\\\\n",
       "\t 58,823.50  —\\textbar{}  70,588.20 &     5 &  0.006507028\\\\\n",
       "\t 70,588.20  —\\textbar{}  82,352.90 &     4 &  0.005205622\\\\\n",
       "\t 82,352.90  —\\textbar{}  94,117.60 &     1 &  0.001301406\\\\\n",
       "\t 94,117.60  —\\textbar{} 105,882.00 &     6 &  0.007808433\\\\\n",
       "\t105,882.00  —\\textbar{} 117,647.00 &     0 &  0.000000000\\\\\n",
       "\t117,647.00  —\\textbar{} 129,412.00 &     1 &  0.001301406\\\\\n",
       "\t129,412.00  —\\textbar{} 141,176.00 &     0 &  0.000000000\\\\\n",
       "\t141,176.00  —\\textbar{} 152,941.00 &     0 &  0.000000000\\\\\n",
       "\t152,941.00  —\\textbar{} 164,706.00 &     0 &  0.000000000\\\\\n",
       "\t164,706.00  —\\textbar{} 176,471.00 &     0 &  0.000000000\\\\\n",
       "\t176,471.00  —\\textbar{} 188,235.00 &     0 &  0.000000000\\\\\n",
       "\t188,235.00  —\\textbar{} 200,000.00 &     3 &  0.003904217\\\\\n",
       "\\end{tabular}\n"
      ],
      "text/markdown": [
       "\n",
       "A matrix: 17 × 2 of type dbl\n",
       "\n",
       "| <!--/--> | Frequência | Porcentagem (%) |\n",
       "|---|---|---|\n",
       "|       0.00 |—|  11,764.70 | 75594 | 98.378448725 |\n",
       "|  11,764.70  —|  23,529.40 |  1022 |  1.330036439 |\n",
       "|  23,529.40  —|  35,294.10 |   169 |  0.219937533 |\n",
       "|  35,294.10  —|  47,058.80 |    19 |  0.024726705 |\n",
       "|  47,058.80  —|  58,823.50 |    16 |  0.020822488 |\n",
       "|  58,823.50  —|  70,588.20 |     5 |  0.006507028 |\n",
       "|  70,588.20  —|  82,352.90 |     4 |  0.005205622 |\n",
       "|  82,352.90  —|  94,117.60 |     1 |  0.001301406 |\n",
       "|  94,117.60  —| 105,882.00 |     6 |  0.007808433 |\n",
       "| 105,882.00  —| 117,647.00 |     0 |  0.000000000 |\n",
       "| 117,647.00  —| 129,412.00 |     1 |  0.001301406 |\n",
       "| 129,412.00  —| 141,176.00 |     0 |  0.000000000 |\n",
       "| 141,176.00  —| 152,941.00 |     0 |  0.000000000 |\n",
       "| 152,941.00  —| 164,706.00 |     0 |  0.000000000 |\n",
       "| 164,706.00  —| 176,471.00 |     0 |  0.000000000 |\n",
       "| 176,471.00  —| 188,235.00 |     0 |  0.000000000 |\n",
       "| 188,235.00  —| 200,000.00 |     3 |  0.003904217 |\n",
       "\n"
      ],
      "text/plain": [
       "                          Frequência Porcentagem (%)\n",
       "      0.00 |—|  11,764.70 75594      98.378448725   \n",
       " 11,764.70  —|  23,529.40  1022       1.330036439   \n",
       " 23,529.40  —|  35,294.10   169       0.219937533   \n",
       " 35,294.10  —|  47,058.80    19       0.024726705   \n",
       " 47,058.80  —|  58,823.50    16       0.020822488   \n",
       " 58,823.50  —|  70,588.20     5       0.006507028   \n",
       " 70,588.20  —|  82,352.90     4       0.005205622   \n",
       " 82,352.90  —|  94,117.60     1       0.001301406   \n",
       " 94,117.60  —| 105,882.00     6       0.007808433   \n",
       "105,882.00  —| 117,647.00     0       0.000000000   \n",
       "117,647.00  —| 129,412.00     1       0.001301406   \n",
       "129,412.00  —| 141,176.00     0       0.000000000   \n",
       "141,176.00  —| 152,941.00     0       0.000000000   \n",
       "152,941.00  —| 164,706.00     0       0.000000000   \n",
       "164,706.00  —| 176,471.00     0       0.000000000   \n",
       "176,471.00  —| 188,235.00     0       0.000000000   \n",
       "188,235.00  —| 200,000.00     3       0.003904217   "
      ]
     },
     "metadata": {},
     "output_type": "display_data"
    }
   ],
   "source": [
    "dist_freq_quantitaivas_amplitude_fixa <- cbind('Frequência' = frequencia, 'Porcentagem (%)' = percentual)\n",
    "dist_freq_quantitaivas_amplitude_fixa"
   ]
  },
  {
   "cell_type": "markdown",
   "metadata": {
    "colab_type": "text",
    "id": "Js9iLwNkjQME"
   },
   "source": [
    "## <font color=green>2.4 Histograma</font>\n",
    "***\n",
    "\n",
    "O <b>HISTOGRAMA</b> é a representação gráfica de uma distribuição de frequências. É um gráfico formado por um conjunto de retângulos colocados lado a lado, onde a área de cada retângulo é proporcional à frequência da classe que ele representa."
   ]
  },
  {
   "cell_type": "markdown",
   "metadata": {
    "colab_type": "text",
    "id": "Js9iLwNkjQME"
   },
   "source": [
    "### <font color=red>Documentações:\n",
    "\n",
    "- [***package* graphics**](https://www.rdocumentation.org/packages/graphics)\n",
    "- [**hist**](https://www.rdocumentation.org/packages/graphics/versions/3.6.1/topics/hist)\n",
    "- [***package* ggplot2**](https://www.rdocumentation.org/packages/ggplot2)\n",
    "- [**data.frame**](https://www.rdocumentation.org/packages/base/versions/3.6.1/topics/data.frame)"
   ]
  },
  {
   "cell_type": "code",
   "execution_count": 44,
   "metadata": {},
   "outputs": [],
   "source": [
    "options(repr.plot.width = 20, repr.plot.height = 10)"
   ]
  },
  {
   "cell_type": "code",
   "execution_count": 45,
   "metadata": {
    "colab": {},
    "colab_type": "code",
    "id": "PYRaBCnxjQME"
   },
   "outputs": [
    {
     "data": {
      "image/png": "[encoded data removed]",
      "text/plain": [
       "Plot with title \"Histogram of dados$Altura\""
      ]
     },
     "metadata": {
      "image/png": {
       "height": 600,
       "width": 1200
      }
     },
     "output_type": "display_data"
    }
   ],
   "source": [
    "hist(dados$Altura)"
   ]
  },
  {
   "cell_type": "code",
   "execution_count": 46,
   "metadata": {},
   "outputs": [
    {
     "data": {
      "image/png": "[encoded data removed]",
      "text/plain": [
       "Plot with title \"Histograma das Alturas\""
      ]
     },
     "metadata": {
      "image/png": {
       "height": 600,
       "width": 1200
      }
     },
     "output_type": "display_data"
    }
   ],
   "source": [
    "hist(\n",
    "    x = dados$Altura,\n",
    "    breaks = 'Sturges',\n",
    "    col = 'lightblue',\n",
    "    main = 'Histograma das Alturas',\n",
    "    xlab = 'Altura',\n",
    "    ylab = 'Frequências',\n",
    "    prob = TRUE,\n",
    "    las = 1\n",
    ")"
   ]
  },
  {
   "cell_type": "code",
   "execution_count": 47,
   "metadata": {},
   "outputs": [],
   "source": [
    "library(ggplot2)"
   ]
  },
  {
   "cell_type": "code",
   "execution_count": 48,
   "metadata": {},
   "outputs": [
    {
     "data": {
      "image/png": "[encoded data removed]",
      "text/plain": [
       "plot without title"
      ]
     },
     "metadata": {
      "image/png": {
       "height": 600,
       "width": 1200
      }
     },
     "output_type": "display_data"
    }
   ],
   "source": [
    "ggplot(dados, aes(x = Altura)) + \n",
    "    geom_histogram(binwidth = 0.02, color = \"black\", alpha = 0.9) + \n",
    "    ylab(\"Frequência\") + \n",
    "    xlab(\"Alturas\") + \n",
    "    ggtitle('Histograma das Alturas') +\n",
    "    theme(\n",
    "        plot.title = element_text(size = 14, hjust = 0.5),\n",
    "        axis.title.y = element_text(size = 12, vjust = +0.2),\n",
    "        axis.title.x = element_text(size = 12, vjust = -0.2),\n",
    "        axis.text.y = element_text(size = 10),\n",
    "        axis.text.x = element_text(size = 10)\n",
    "    )"
   ]
  },
  {
   "cell_type": "code",
   "execution_count": 49,
   "metadata": {},
   "outputs": [],
   "source": [
    "formatos <- theme(\n",
    "        plot.title = element_text(size = 14, hjust = 0.5),\n",
    "        axis.title.y = element_text(size = 12, vjust = +0.2),\n",
    "        axis.title.x = element_text(size = 12, vjust = -0.2),\n",
    "        axis.text.y = element_text(size = 10),\n",
    "        axis.text.x = element_text(size = 10)\n",
    "    )"
   ]
  },
  {
   "cell_type": "code",
   "execution_count": 50,
   "metadata": {},
   "outputs": [
    {
     "data": {
      "image/png": "[encoded data removed]",
      "text/plain": [
       "plot without title"
      ]
     },
     "metadata": {
      "image/png": {
       "height": 600,
       "width": 1200
      }
     },
     "output_type": "display_data"
    }
   ],
   "source": [
    "ggplot(dados, aes(x = Altura, y = ..density..)) + \n",
    "    geom_histogram(binwidth = 0.02, color = \"black\", alpha = 0.9) + \n",
    "    geom_density(color = 'green') +\n",
    "    ylab(\"Frequência\") + \n",
    "    xlab(\"Alturas\") + \n",
    "    ggtitle('Histograma das Alturas') +\n",
    "    formatos"
   ]
  },
  {
   "cell_type": "code",
   "execution_count": 51,
   "metadata": {
    "colab": {
     "base_uri": "https://localhost:8080/",
     "height": 204
    },
    "colab_type": "code",
    "id": "0HcLhLYtjQMM",
    "outputId": "45a291b3-4b7a-4ea8-c135-a873ad231c02"
   },
   "outputs": [
    {
     "data": {
      "text/html": [
       "<table class=\"dataframe\">\n",
       "<caption>A data.frame: 5 × 2</caption>\n",
       "<thead>\n",
       "\t<tr><th></th><th scope=col>Frequência</th><th scope=col>Porcentagem....</th></tr>\n",
       "\t<tr><th></th><th scope=col>&lt;dbl&gt;</th><th scope=col>&lt;dbl&gt;</th></tr>\n",
       "</thead>\n",
       "<tbody>\n",
       "\t<tr><th scope=row>E</th><td>49755</td><td>64.7514315</td></tr>\n",
       "\t<tr><th scope=row>D</th><td>16700</td><td>21.7334721</td></tr>\n",
       "\t<tr><th scope=row>C</th><td> 7599</td><td> 9.8893805</td></tr>\n",
       "\t<tr><th scope=row>B</th><td> 2178</td><td> 2.8344612</td></tr>\n",
       "\t<tr><th scope=row>A</th><td>  608</td><td> 0.7912546</td></tr>\n",
       "</tbody>\n",
       "</table>\n"
      ],
      "text/latex": [
       "A data.frame: 5 × 2\n",
       "\\begin{tabular}{r|ll}\n",
       "  & Frequência & Porcentagem....\\\\\n",
       "  & <dbl> & <dbl>\\\\\n",
       "\\hline\n",
       "\tE & 49755 & 64.7514315\\\\\n",
       "\tD & 16700 & 21.7334721\\\\\n",
       "\tC &  7599 &  9.8893805\\\\\n",
       "\tB &  2178 &  2.8344612\\\\\n",
       "\tA &   608 &  0.7912546\\\\\n",
       "\\end{tabular}\n"
      ],
      "text/markdown": [
       "\n",
       "A data.frame: 5 × 2\n",
       "\n",
       "| <!--/--> | Frequência &lt;dbl&gt; | Porcentagem.... &lt;dbl&gt; |\n",
       "|---|---|---|\n",
       "| E | 49755 | 64.7514315 |\n",
       "| D | 16700 | 21.7334721 |\n",
       "| C |  7599 |  9.8893805 |\n",
       "| B |  2178 |  2.8344612 |\n",
       "| A |   608 |  0.7912546 |\n",
       "\n"
      ],
      "text/plain": [
       "  Frequência Porcentagem....\n",
       "E 49755      64.7514315     \n",
       "D 16700      21.7334721     \n",
       "C  7599       9.8893805     \n",
       "B  2178       2.8344612     \n",
       "A   608       0.7912546     "
      ]
     },
     "metadata": {},
     "output_type": "display_data"
    }
   ],
   "source": [
    "bar_chart <- data.frame(dist_freq_quantitaivas_personalizadas)\n",
    "bar_chart"
   ]
  },
  {
   "cell_type": "code",
   "execution_count": 52,
   "metadata": {},
   "outputs": [
    {
     "name": "stderr",
     "output_type": "stream",
     "text": [
      "Warning message:\n",
      "\"Use of `bar_chart$Frequência` is discouraged. Use `Frequência` instead.\"\n"
     ]
    },
    {
     "data": {
      "image/png": "[encoded data removed]",
      "text/plain": [
       "plot without title"
      ]
     },
     "metadata": {
      "image/png": {
       "height": 600,
       "width": 1200
      }
     },
     "output_type": "display_data"
    }
   ],
   "source": [
    "ggplot(bar_chart, aes(x = row.names(bar_chart), y = bar_chart$Frequência)) + \n",
    "    geom_bar(stat = \"identity\") + \n",
    "    ylab(\"Frequência\") + \n",
    "    xlab(\"Classes de Renda\") + \n",
    "    ggtitle('Gráfico Classes de Renda') +\n",
    "    formatos"
   ]
  },
  {
   "cell_type": "markdown",
   "metadata": {
    "colab_type": "text",
    "id": "uIb17Es3jQMP"
   },
   "source": [
    "# <font color=green>3 MEDIDAS DE TENDÊNCIA CENTRAL</font>\n",
    "***"
   ]
  },
  {
   "cell_type": "markdown",
   "metadata": {
    "colab_type": "text",
    "id": "Wrya4suEX7H-"
   },
   "source": [
    "## DataFrame de exemplo"
   ]
  },
  {
   "cell_type": "code",
   "execution_count": 53,
   "metadata": {},
   "outputs": [],
   "source": [
    "materias <- c('Matemática', 'Português', 'Inglês', 'Geografia', 'História', 'Física', 'Química')\n",
    "Fulano <- c(8, 10, 4, 8, 6, 10, 8)\n",
    "Beltrano <- c(10, 2, 0.5, 1, 3, 9.5, 10)\n",
    "Sicrano <- c(7.5, 8, 7, 8, 8, 8.5, 7)"
   ]
  },
  {
   "cell_type": "code",
   "execution_count": 54,
   "metadata": {},
   "outputs": [
    {
     "data": {
      "text/html": [
       "<table class=\"dataframe\">\n",
       "<caption>A data.frame: 7 × 3</caption>\n",
       "<thead>\n",
       "\t<tr><th></th><th scope=col>Fulano</th><th scope=col>Beltrano</th><th scope=col>Sicrano</th></tr>\n",
       "\t<tr><th></th><th scope=col>&lt;dbl&gt;</th><th scope=col>&lt;dbl&gt;</th><th scope=col>&lt;dbl&gt;</th></tr>\n",
       "</thead>\n",
       "<tbody>\n",
       "\t<tr><th scope=row>Matemática</th><td> 8</td><td>10.0</td><td>7.5</td></tr>\n",
       "\t<tr><th scope=row>Português</th><td>10</td><td> 2.0</td><td>8.0</td></tr>\n",
       "\t<tr><th scope=row>Inglês</th><td> 4</td><td> 0.5</td><td>7.0</td></tr>\n",
       "\t<tr><th scope=row>Geografia</th><td> 8</td><td> 1.0</td><td>8.0</td></tr>\n",
       "\t<tr><th scope=row>História</th><td> 6</td><td> 3.0</td><td>8.0</td></tr>\n",
       "\t<tr><th scope=row>Física</th><td>10</td><td> 9.5</td><td>8.5</td></tr>\n",
       "\t<tr><th scope=row>Química</th><td> 8</td><td>10.0</td><td>7.0</td></tr>\n",
       "</tbody>\n",
       "</table>\n"
      ],
      "text/latex": [
       "A data.frame: 7 × 3\n",
       "\\begin{tabular}{r|lll}\n",
       "  & Fulano & Beltrano & Sicrano\\\\\n",
       "  & <dbl> & <dbl> & <dbl>\\\\\n",
       "\\hline\n",
       "\tMatemática &  8 & 10.0 & 7.5\\\\\n",
       "\tPortuguês & 10 &  2.0 & 8.0\\\\\n",
       "\tInglês &  4 &  0.5 & 7.0\\\\\n",
       "\tGeografia &  8 &  1.0 & 8.0\\\\\n",
       "\tHistória &  6 &  3.0 & 8.0\\\\\n",
       "\tFísica & 10 &  9.5 & 8.5\\\\\n",
       "\tQuímica &  8 & 10.0 & 7.0\\\\\n",
       "\\end{tabular}\n"
      ],
      "text/markdown": [
       "\n",
       "A data.frame: 7 × 3\n",
       "\n",
       "| <!--/--> | Fulano &lt;dbl&gt; | Beltrano &lt;dbl&gt; | Sicrano &lt;dbl&gt; |\n",
       "|---|---|---|---|\n",
       "| Matemática |  8 | 10.0 | 7.5 |\n",
       "| Português | 10 |  2.0 | 8.0 |\n",
       "| Inglês |  4 |  0.5 | 7.0 |\n",
       "| Geografia |  8 |  1.0 | 8.0 |\n",
       "| História |  6 |  3.0 | 8.0 |\n",
       "| Física | 10 |  9.5 | 8.5 |\n",
       "| Química |  8 | 10.0 | 7.0 |\n",
       "\n"
      ],
      "text/plain": [
       "           Fulano Beltrano Sicrano\n",
       "Matemática  8     10.0     7.5    \n",
       "Português  10      2.0     8.0    \n",
       "Inglês      4      0.5     7.0    \n",
       "Geografia   8      1.0     8.0    \n",
       "História    6      3.0     8.0    \n",
       "Física     10      9.5     8.5    \n",
       "Química     8     10.0     7.0    "
      ]
     },
     "metadata": {},
     "output_type": "display_data"
    }
   ],
   "source": [
    "df <- data.frame(Fulano, Beltrano, Sicrano, row.names = materias)\n",
    "df"
   ]
  },
  {
   "cell_type": "markdown",
   "metadata": {
    "colab_type": "text",
    "id": "kcHJFW-YjQMP"
   },
   "source": [
    "## <font color=green>3.1 Média aritmética</font>\n",
    "***\n",
    "\n",
    "É representada por $\\mu$ quando se refere à população e por $\\bar{X}$ quando se refere à amostra\n",
    "\n",
    "# $$\\mu = \\frac 1n\\sum_{i=1}^{n}X_i$$\n",
    "\n",
    "onde \n",
    "\n",
    "$n$ = número de observações (registros)\n",
    "\n",
    "$X_i$ = valor da i-ésima observação (registro)"
   ]
  },
  {
   "cell_type": "markdown",
   "metadata": {
    "colab_type": "text",
    "id": "kcHJFW-YjQMP"
   },
   "source": [
    "### <font color=red>Documentações:\n",
    "\n",
    "- [**mean**](https://www.rdocumentation.org/packages/base/versions/3.6.1/topics/mean)\n",
    "- [**aggregate**](https://www.rdocumentation.org/packages/stats/versions/3.6.1/topics/aggregate)\n",
    "- [**list**](https://www.rdocumentation.org/packages/base/versions/3.6.1/topics/list)"
   ]
  },
  {
   "cell_type": "code",
   "execution_count": 55,
   "metadata": {
    "colab": {
     "base_uri": "https://localhost:8080/",
     "height": 35
    },
    "colab_type": "code",
    "id": "QW4JPcBmX7IA",
    "outputId": "45810cfa-fba2-4bf3-b571-eddd9d8ebd09"
   },
   "outputs": [
    {
     "data": {
      "text/html": [
       "7.71428571428571"
      ],
      "text/latex": [
       "7.71428571428571"
      ],
      "text/markdown": [
       "7.71428571428571"
      ],
      "text/plain": [
       "[1] 7.714286"
      ]
     },
     "metadata": {},
     "output_type": "display_data"
    }
   ],
   "source": [
    "(8 + 10 + 4 + 8 + 6 + 10 + 8) / 7"
   ]
  },
  {
   "cell_type": "code",
   "execution_count": 56,
   "metadata": {
    "colab": {
     "base_uri": "https://localhost:8080/",
     "height": 35
    },
    "colab_type": "code",
    "id": "LuT8WNy5X7IB",
    "outputId": "1fde4b44-b250-41d9-ff02-70c9a0e05aca"
   },
   "outputs": [
    {
     "data": {
      "text/html": [
       "7.71428571428571"
      ],
      "text/latex": [
       "7.71428571428571"
      ],
      "text/markdown": [
       "7.71428571428571"
      ],
      "text/plain": [
       "[1] 7.714286"
      ]
     },
     "metadata": {},
     "output_type": "display_data"
    }
   ],
   "source": [
    "mean(df$Fulano)"
   ]
  },
  {
   "cell_type": "code",
   "execution_count": 57,
   "metadata": {},
   "outputs": [
    {
     "data": {
      "text/html": [
       "2000.38319885476"
      ],
      "text/latex": [
       "2000.38319885476"
      ],
      "text/markdown": [
       "2000.38319885476"
      ],
      "text/plain": [
       "[1] 2000.383"
      ]
     },
     "metadata": {},
     "output_type": "display_data"
    }
   ],
   "source": [
    "mean(dados$Renda)"
   ]
  },
  {
   "cell_type": "code",
   "execution_count": 58,
   "metadata": {},
   "outputs": [
    {
     "data": {
      "text/html": [
       "<table class=\"dataframe\">\n",
       "<caption>A data.frame: 2 × 2</caption>\n",
       "<thead>\n",
       "\t<tr><th scope=col>Sexo</th><th scope=col>Renda</th></tr>\n",
       "\t<tr><th scope=col>&lt;int&gt;</th><th scope=col>&lt;dbl&gt;</th></tr>\n",
       "</thead>\n",
       "<tbody>\n",
       "\t<tr><td>0</td><td>2192.442</td></tr>\n",
       "\t<tr><td>1</td><td>1566.847</td></tr>\n",
       "</tbody>\n",
       "</table>\n"
      ],
      "text/latex": [
       "A data.frame: 2 × 2\n",
       "\\begin{tabular}{ll}\n",
       " Sexo & Renda\\\\\n",
       " <int> & <dbl>\\\\\n",
       "\\hline\n",
       "\t 0 & 2192.442\\\\\n",
       "\t 1 & 1566.847\\\\\n",
       "\\end{tabular}\n"
      ],
      "text/markdown": [
       "\n",
       "A data.frame: 2 × 2\n",
       "\n",
       "| Sexo &lt;int&gt; | Renda &lt;dbl&gt; |\n",
       "|---|---|\n",
       "| 0 | 2192.442 |\n",
       "| 1 | 1566.847 |\n",
       "\n"
      ],
      "text/plain": [
       "  Sexo Renda   \n",
       "1 0    2192.442\n",
       "2 1    1566.847"
      ]
     },
     "metadata": {},
     "output_type": "display_data"
    }
   ],
   "source": [
    "aggregate(list(Renda = dados$Renda), list(Sexo = dados$Sexo), mean)"
   ]
  },
  {
   "cell_type": "markdown",
   "metadata": {
    "colab_type": "text",
    "id": "9geu3UcKjQMS"
   },
   "source": [
    "## <font color=green>3.2 Mediana</font>\n",
    "***\n",
    "\n",
    "Para obtermos a mediana de uma conjunto de dados devemos proceder da seguinte maneira:\n",
    "1. Ordenar o conjunto de dados;\n",
    "2. Identificar o número de observações (registros) do conjunto de dados ($n$);\n",
    "3. Identicar o elemento mediano:\n",
    "\n",
    "> Quando $n$ for ímpar, a posição do elemento mediano será obtida da seguinte forma:\n",
    "\n",
    "\n",
    "# $$Elemento_{Md} = \\frac{n+1}2$$\n",
    "\n",
    "> Quando $n$ for par, a posição do elemento mediano será obtida da seguinte forma:\n",
    "\n",
    "\n",
    "# $$Elemento_{Md} = \\frac{n}2$$\n",
    "\n",
    "4. Obter a mediana:\n",
    "\n",
    "> Quando $n$ for ímpar:\n",
    "\n",
    "\n",
    "# $$Md = X_{Elemento_{Md}}$$\n",
    "\n",
    "> Quando $n$ for par:\n",
    "\n",
    "\n",
    "# $$Md = \\frac{X_{Elemento_{Md}} + X_{Elemento_{Md}+1}}2$$\n",
    "***"
   ]
  },
  {
   "cell_type": "markdown",
   "metadata": {
    "colab_type": "text",
    "id": "9geu3UcKjQMS"
   },
   "source": [
    "### <font color=red>Documentações:\n",
    "\n",
    "- [**median**](https://www.rdocumentation.org/packages/stats/versions/3.6.1/topics/median)\n",
    "- [**set.seed**](https://www.rdocumentation.org/packages/simEd/versions/1.0.3/topics/set.seed)\n",
    "- [**sample**](https://www.rdocumentation.org/packages/base/versions/3.6.1/topics/sample)"
   ]
  },
  {
   "cell_type": "markdown",
   "metadata": {
    "colab_type": "text",
    "id": "e0IuYdJFjQMT"
   },
   "source": [
    "### Exemplo 1 - n ímpar\n",
    "\n",
    "<img src='https://caelum-online-public.s3.amazonaws.com/1177-estatistica-parte1/01/img002.png' width='40%' style=\"float:left\">"
   ]
  },
  {
   "cell_type": "code",
   "execution_count": 59,
   "metadata": {},
   "outputs": [
    {
     "data": {
      "text/html": [
       "<table class=\"dataframe\">\n",
       "<caption>A data.frame: 7 × 3</caption>\n",
       "<thead>\n",
       "\t<tr><th></th><th scope=col>Fulano</th><th scope=col>Beltrano</th><th scope=col>Sicrano</th></tr>\n",
       "\t<tr><th></th><th scope=col>&lt;dbl&gt;</th><th scope=col>&lt;dbl&gt;</th><th scope=col>&lt;dbl&gt;</th></tr>\n",
       "</thead>\n",
       "<tbody>\n",
       "\t<tr><th scope=row>Matemática</th><td> 8</td><td>10.0</td><td>7.5</td></tr>\n",
       "\t<tr><th scope=row>Português</th><td>10</td><td> 2.0</td><td>8.0</td></tr>\n",
       "\t<tr><th scope=row>Inglês</th><td> 4</td><td> 0.5</td><td>7.0</td></tr>\n",
       "\t<tr><th scope=row>Geografia</th><td> 8</td><td> 1.0</td><td>8.0</td></tr>\n",
       "\t<tr><th scope=row>História</th><td> 6</td><td> 3.0</td><td>8.0</td></tr>\n",
       "\t<tr><th scope=row>Física</th><td>10</td><td> 9.5</td><td>8.5</td></tr>\n",
       "\t<tr><th scope=row>Química</th><td> 8</td><td>10.0</td><td>7.0</td></tr>\n",
       "</tbody>\n",
       "</table>\n"
      ],
      "text/latex": [
       "A data.frame: 7 × 3\n",
       "\\begin{tabular}{r|lll}\n",
       "  & Fulano & Beltrano & Sicrano\\\\\n",
       "  & <dbl> & <dbl> & <dbl>\\\\\n",
       "\\hline\n",
       "\tMatemática &  8 & 10.0 & 7.5\\\\\n",
       "\tPortuguês & 10 &  2.0 & 8.0\\\\\n",
       "\tInglês &  4 &  0.5 & 7.0\\\\\n",
       "\tGeografia &  8 &  1.0 & 8.0\\\\\n",
       "\tHistória &  6 &  3.0 & 8.0\\\\\n",
       "\tFísica & 10 &  9.5 & 8.5\\\\\n",
       "\tQuímica &  8 & 10.0 & 7.0\\\\\n",
       "\\end{tabular}\n"
      ],
      "text/markdown": [
       "\n",
       "A data.frame: 7 × 3\n",
       "\n",
       "| <!--/--> | Fulano &lt;dbl&gt; | Beltrano &lt;dbl&gt; | Sicrano &lt;dbl&gt; |\n",
       "|---|---|---|---|\n",
       "| Matemática |  8 | 10.0 | 7.5 |\n",
       "| Português | 10 |  2.0 | 8.0 |\n",
       "| Inglês |  4 |  0.5 | 7.0 |\n",
       "| Geografia |  8 |  1.0 | 8.0 |\n",
       "| História |  6 |  3.0 | 8.0 |\n",
       "| Física | 10 |  9.5 | 8.5 |\n",
       "| Química |  8 | 10.0 | 7.0 |\n",
       "\n"
      ],
      "text/plain": [
       "           Fulano Beltrano Sicrano\n",
       "Matemática  8     10.0     7.5    \n",
       "Português  10      2.0     8.0    \n",
       "Inglês      4      0.5     7.0    \n",
       "Geografia   8      1.0     8.0    \n",
       "História    6      3.0     8.0    \n",
       "Física     10      9.5     8.5    \n",
       "Química     8     10.0     7.0    "
      ]
     },
     "metadata": {},
     "output_type": "display_data"
    }
   ],
   "source": [
    "df"
   ]
  },
  {
   "cell_type": "code",
   "execution_count": 60,
   "metadata": {},
   "outputs": [
    {
     "data": {
      "text/html": [
       "<table class=\"dataframe\">\n",
       "<caption>A data.frame: 7 × 3</caption>\n",
       "<thead>\n",
       "\t<tr><th></th><th scope=col>Fulano</th><th scope=col>Beltrano</th><th scope=col>Sicrano</th></tr>\n",
       "\t<tr><th></th><th scope=col>&lt;dbl&gt;</th><th scope=col>&lt;dbl&gt;</th><th scope=col>&lt;dbl&gt;</th></tr>\n",
       "</thead>\n",
       "<tbody>\n",
       "\t<tr><th scope=row>Inglês</th><td> 4</td><td> 0.5</td><td>7.0</td></tr>\n",
       "\t<tr><th scope=row>História</th><td> 6</td><td> 3.0</td><td>8.0</td></tr>\n",
       "\t<tr><th scope=row>Matemática</th><td> 8</td><td>10.0</td><td>7.5</td></tr>\n",
       "\t<tr><th scope=row>Geografia</th><td> 8</td><td> 1.0</td><td>8.0</td></tr>\n",
       "\t<tr><th scope=row>Química</th><td> 8</td><td>10.0</td><td>7.0</td></tr>\n",
       "\t<tr><th scope=row>Português</th><td>10</td><td> 2.0</td><td>8.0</td></tr>\n",
       "\t<tr><th scope=row>Física</th><td>10</td><td> 9.5</td><td>8.5</td></tr>\n",
       "</tbody>\n",
       "</table>\n"
      ],
      "text/latex": [
       "A data.frame: 7 × 3\n",
       "\\begin{tabular}{r|lll}\n",
       "  & Fulano & Beltrano & Sicrano\\\\\n",
       "  & <dbl> & <dbl> & <dbl>\\\\\n",
       "\\hline\n",
       "\tInglês &  4 &  0.5 & 7.0\\\\\n",
       "\tHistória &  6 &  3.0 & 8.0\\\\\n",
       "\tMatemática &  8 & 10.0 & 7.5\\\\\n",
       "\tGeografia &  8 &  1.0 & 8.0\\\\\n",
       "\tQuímica &  8 & 10.0 & 7.0\\\\\n",
       "\tPortuguês & 10 &  2.0 & 8.0\\\\\n",
       "\tFísica & 10 &  9.5 & 8.5\\\\\n",
       "\\end{tabular}\n"
      ],
      "text/markdown": [
       "\n",
       "A data.frame: 7 × 3\n",
       "\n",
       "| <!--/--> | Fulano &lt;dbl&gt; | Beltrano &lt;dbl&gt; | Sicrano &lt;dbl&gt; |\n",
       "|---|---|---|---|\n",
       "| Inglês |  4 |  0.5 | 7.0 |\n",
       "| História |  6 |  3.0 | 8.0 |\n",
       "| Matemática |  8 | 10.0 | 7.5 |\n",
       "| Geografia |  8 |  1.0 | 8.0 |\n",
       "| Química |  8 | 10.0 | 7.0 |\n",
       "| Português | 10 |  2.0 | 8.0 |\n",
       "| Física | 10 |  9.5 | 8.5 |\n",
       "\n"
      ],
      "text/plain": [
       "           Fulano Beltrano Sicrano\n",
       "Inglês      4      0.5     7.0    \n",
       "História    6      3.0     8.0    \n",
       "Matemática  8     10.0     7.5    \n",
       "Geografia   8      1.0     8.0    \n",
       "Química     8     10.0     7.0    \n",
       "Português  10      2.0     8.0    \n",
       "Física     10      9.5     8.5    "
      ]
     },
     "metadata": {},
     "output_type": "display_data"
    }
   ],
   "source": [
    "df_fulano <- df[order(df$Fulano),]\n",
    "df_fulano"
   ]
  },
  {
   "cell_type": "code",
   "execution_count": 61,
   "metadata": {},
   "outputs": [
    {
     "data": {
      "text/html": [
       "7"
      ],
      "text/latex": [
       "7"
      ],
      "text/markdown": [
       "7"
      ],
      "text/plain": [
       "[1] 7"
      ]
     },
     "metadata": {},
     "output_type": "display_data"
    }
   ],
   "source": [
    "n = nrow(df_fulano)\n",
    "n"
   ]
  },
  {
   "cell_type": "code",
   "execution_count": 62,
   "metadata": {
    "colab": {
     "base_uri": "https://localhost:8080/",
     "height": 35
    },
    "colab_type": "code",
    "id": "trC12MHxjQMY",
    "outputId": "917c6720-daa2-45be-a72d-3e0d63c67fd0"
   },
   "outputs": [
    {
     "data": {
      "text/html": [
       "4"
      ],
      "text/latex": [
       "4"
      ],
      "text/markdown": [
       "4"
      ],
      "text/plain": [
       "[1] 4"
      ]
     },
     "metadata": {},
     "output_type": "display_data"
    }
   ],
   "source": [
    "elemento_md <- (n + 1) / 2\n",
    "elemento_md"
   ]
  },
  {
   "cell_type": "code",
   "execution_count": 63,
   "metadata": {
    "colab": {
     "base_uri": "https://localhost:8080/",
     "height": 71
    },
    "colab_type": "code",
    "id": "NKccffcLjQMZ",
    "outputId": "46c1c33a-100b-4aca-e876-f3589b699b48"
   },
   "outputs": [
    {
     "data": {
      "text/html": [
       "<table class=\"dataframe\">\n",
       "<caption>A data.frame: 1 × 3</caption>\n",
       "<thead>\n",
       "\t<tr><th></th><th scope=col>Fulano</th><th scope=col>Beltrano</th><th scope=col>Sicrano</th></tr>\n",
       "\t<tr><th></th><th scope=col>&lt;dbl&gt;</th><th scope=col>&lt;dbl&gt;</th><th scope=col>&lt;dbl&gt;</th></tr>\n",
       "</thead>\n",
       "<tbody>\n",
       "\t<tr><th scope=row>Geografia</th><td>8</td><td>1</td><td>8</td></tr>\n",
       "</tbody>\n",
       "</table>\n"
      ],
      "text/latex": [
       "A data.frame: 1 × 3\n",
       "\\begin{tabular}{r|lll}\n",
       "  & Fulano & Beltrano & Sicrano\\\\\n",
       "  & <dbl> & <dbl> & <dbl>\\\\\n",
       "\\hline\n",
       "\tGeografia & 8 & 1 & 8\\\\\n",
       "\\end{tabular}\n"
      ],
      "text/markdown": [
       "\n",
       "A data.frame: 1 × 3\n",
       "\n",
       "| <!--/--> | Fulano &lt;dbl&gt; | Beltrano &lt;dbl&gt; | Sicrano &lt;dbl&gt; |\n",
       "|---|---|---|---|\n",
       "| Geografia | 8 | 1 | 8 |\n",
       "\n"
      ],
      "text/plain": [
       "          Fulano Beltrano Sicrano\n",
       "Geografia 8      1        8      "
      ]
     },
     "metadata": {},
     "output_type": "display_data"
    }
   ],
   "source": [
    "df_fulano[elemento_md,]"
   ]
  },
  {
   "cell_type": "code",
   "execution_count": 64,
   "metadata": {
    "colab": {
     "base_uri": "https://localhost:8080/",
     "height": 53
    },
    "colab_type": "code",
    "id": "ody5mfXLjQMb",
    "outputId": "d43b24b8-1d80-4780-a059-720cdc073353"
   },
   "outputs": [
    {
     "data": {
      "text/html": [
       "8"
      ],
      "text/latex": [
       "8"
      ],
      "text/markdown": [
       "8"
      ],
      "text/plain": [
       "[1] 8"
      ]
     },
     "metadata": {},
     "output_type": "display_data"
    }
   ],
   "source": [
    "median(df$Fulano)"
   ]
  },
  {
   "cell_type": "markdown",
   "metadata": {
    "colab_type": "text",
    "id": "hQHyjfLkjQMe"
   },
   "source": [
    "### Exemplo 2 - n par\n",
    "\n",
    "<img src='https://caelum-online-public.s3.amazonaws.com/1177-estatistica-parte1/01/img003.png' width='50%' style=\"float:left\">"
   ]
  },
  {
   "cell_type": "markdown",
   "metadata": {},
   "source": [
    "### Obtendo uma amostra aleatória dos dados"
   ]
  },
  {
   "cell_type": "code",
   "execution_count": 65,
   "metadata": {},
   "outputs": [
    {
     "data": {
      "text/html": [
       "<table class=\"dataframe\">\n",
       "<caption>A data.frame: 7 × 3</caption>\n",
       "<thead>\n",
       "\t<tr><th></th><th scope=col>Fulano</th><th scope=col>Beltrano</th><th scope=col>Sicrano</th></tr>\n",
       "\t<tr><th></th><th scope=col>&lt;dbl&gt;</th><th scope=col>&lt;dbl&gt;</th><th scope=col>&lt;dbl&gt;</th></tr>\n",
       "</thead>\n",
       "<tbody>\n",
       "\t<tr><th scope=row>Matemática</th><td> 8</td><td>10.0</td><td>7.5</td></tr>\n",
       "\t<tr><th scope=row>Português</th><td>10</td><td> 2.0</td><td>8.0</td></tr>\n",
       "\t<tr><th scope=row>Inglês</th><td> 4</td><td> 0.5</td><td>7.0</td></tr>\n",
       "\t<tr><th scope=row>Geografia</th><td> 8</td><td> 1.0</td><td>8.0</td></tr>\n",
       "\t<tr><th scope=row>História</th><td> 6</td><td> 3.0</td><td>8.0</td></tr>\n",
       "\t<tr><th scope=row>Física</th><td>10</td><td> 9.5</td><td>8.5</td></tr>\n",
       "\t<tr><th scope=row>Química</th><td> 8</td><td>10.0</td><td>7.0</td></tr>\n",
       "</tbody>\n",
       "</table>\n"
      ],
      "text/latex": [
       "A data.frame: 7 × 3\n",
       "\\begin{tabular}{r|lll}\n",
       "  & Fulano & Beltrano & Sicrano\\\\\n",
       "  & <dbl> & <dbl> & <dbl>\\\\\n",
       "\\hline\n",
       "\tMatemática &  8 & 10.0 & 7.5\\\\\n",
       "\tPortuguês & 10 &  2.0 & 8.0\\\\\n",
       "\tInglês &  4 &  0.5 & 7.0\\\\\n",
       "\tGeografia &  8 &  1.0 & 8.0\\\\\n",
       "\tHistória &  6 &  3.0 & 8.0\\\\\n",
       "\tFísica & 10 &  9.5 & 8.5\\\\\n",
       "\tQuímica &  8 & 10.0 & 7.0\\\\\n",
       "\\end{tabular}\n"
      ],
      "text/markdown": [
       "\n",
       "A data.frame: 7 × 3\n",
       "\n",
       "| <!--/--> | Fulano &lt;dbl&gt; | Beltrano &lt;dbl&gt; | Sicrano &lt;dbl&gt; |\n",
       "|---|---|---|---|\n",
       "| Matemática |  8 | 10.0 | 7.5 |\n",
       "| Português | 10 |  2.0 | 8.0 |\n",
       "| Inglês |  4 |  0.5 | 7.0 |\n",
       "| Geografia |  8 |  1.0 | 8.0 |\n",
       "| História |  6 |  3.0 | 8.0 |\n",
       "| Física | 10 |  9.5 | 8.5 |\n",
       "| Química |  8 | 10.0 | 7.0 |\n",
       "\n"
      ],
      "text/plain": [
       "           Fulano Beltrano Sicrano\n",
       "Matemática  8     10.0     7.5    \n",
       "Português  10      2.0     8.0    \n",
       "Inglês      4      0.5     7.0    \n",
       "Geografia   8      1.0     8.0    \n",
       "História    6      3.0     8.0    \n",
       "Física     10      9.5     8.5    \n",
       "Química     8     10.0     7.0    "
      ]
     },
     "metadata": {},
     "output_type": "display_data"
    }
   ],
   "source": [
    "df"
   ]
  },
  {
   "cell_type": "code",
   "execution_count": 66,
   "metadata": {},
   "outputs": [
    {
     "data": {
      "text/html": [
       "<style>\n",
       ".list-inline {list-style: none; margin:0; padding: 0}\n",
       ".list-inline>li {display: inline-block}\n",
       ".list-inline>li:not(:last-child)::after {content: \"\\00b7\"; padding: 0 .5ex}\n",
       "</style>\n",
       "<ol class=list-inline><li>1</li><li>7</li><li>6</li><li>2</li><li>3</li><li>5</li></ol>\n"
      ],
      "text/latex": [
       "\\begin{enumerate*}\n",
       "\\item 1\n",
       "\\item 7\n",
       "\\item 6\n",
       "\\item 2\n",
       "\\item 3\n",
       "\\item 5\n",
       "\\end{enumerate*}\n"
      ],
      "text/markdown": [
       "1. 1\n",
       "2. 7\n",
       "3. 6\n",
       "4. 2\n",
       "5. 3\n",
       "6. 5\n",
       "\n",
       "\n"
      ],
      "text/plain": [
       "[1] 1 7 6 2 3 5"
      ]
     },
     "metadata": {},
     "output_type": "display_data"
    }
   ],
   "source": [
    "set.seed(101)\n",
    "sample(nrow(df), 6)"
   ]
  },
  {
   "cell_type": "code",
   "execution_count": 67,
   "metadata": {},
   "outputs": [
    {
     "data": {
      "text/html": [
       "<table class=\"dataframe\">\n",
       "<caption>A data.frame: 6 × 3</caption>\n",
       "<thead>\n",
       "\t<tr><th></th><th scope=col>Fulano</th><th scope=col>Beltrano</th><th scope=col>Sicrano</th></tr>\n",
       "\t<tr><th></th><th scope=col>&lt;dbl&gt;</th><th scope=col>&lt;dbl&gt;</th><th scope=col>&lt;dbl&gt;</th></tr>\n",
       "</thead>\n",
       "<tbody>\n",
       "\t<tr><th scope=row>Matemática</th><td> 8</td><td>10.0</td><td>7.5</td></tr>\n",
       "\t<tr><th scope=row>Química</th><td> 8</td><td>10.0</td><td>7.0</td></tr>\n",
       "\t<tr><th scope=row>Física</th><td>10</td><td> 9.5</td><td>8.5</td></tr>\n",
       "\t<tr><th scope=row>Português</th><td>10</td><td> 2.0</td><td>8.0</td></tr>\n",
       "\t<tr><th scope=row>Inglês</th><td> 4</td><td> 0.5</td><td>7.0</td></tr>\n",
       "\t<tr><th scope=row>História</th><td> 6</td><td> 3.0</td><td>8.0</td></tr>\n",
       "</tbody>\n",
       "</table>\n"
      ],
      "text/latex": [
       "A data.frame: 6 × 3\n",
       "\\begin{tabular}{r|lll}\n",
       "  & Fulano & Beltrano & Sicrano\\\\\n",
       "  & <dbl> & <dbl> & <dbl>\\\\\n",
       "\\hline\n",
       "\tMatemática &  8 & 10.0 & 7.5\\\\\n",
       "\tQuímica &  8 & 10.0 & 7.0\\\\\n",
       "\tFísica & 10 &  9.5 & 8.5\\\\\n",
       "\tPortuguês & 10 &  2.0 & 8.0\\\\\n",
       "\tInglês &  4 &  0.5 & 7.0\\\\\n",
       "\tHistória &  6 &  3.0 & 8.0\\\\\n",
       "\\end{tabular}\n"
      ],
      "text/markdown": [
       "\n",
       "A data.frame: 6 × 3\n",
       "\n",
       "| <!--/--> | Fulano &lt;dbl&gt; | Beltrano &lt;dbl&gt; | Sicrano &lt;dbl&gt; |\n",
       "|---|---|---|---|\n",
       "| Matemática |  8 | 10.0 | 7.5 |\n",
       "| Química |  8 | 10.0 | 7.0 |\n",
       "| Física | 10 |  9.5 | 8.5 |\n",
       "| Português | 10 |  2.0 | 8.0 |\n",
       "| Inglês |  4 |  0.5 | 7.0 |\n",
       "| História |  6 |  3.0 | 8.0 |\n",
       "\n"
      ],
      "text/plain": [
       "           Fulano Beltrano Sicrano\n",
       "Matemática  8     10.0     7.5    \n",
       "Química     8     10.0     7.0    \n",
       "Física     10      9.5     8.5    \n",
       "Português  10      2.0     8.0    \n",
       "Inglês      4      0.5     7.0    \n",
       "História    6      3.0     8.0    "
      ]
     },
     "metadata": {},
     "output_type": "display_data"
    }
   ],
   "source": [
    "set.seed(101)\n",
    "df_beltrano <- df[sample(nrow(df), 6),]\n",
    "df_beltrano"
   ]
  },
  {
   "cell_type": "code",
   "execution_count": 68,
   "metadata": {},
   "outputs": [
    {
     "data": {
      "text/html": [
       "6"
      ],
      "text/latex": [
       "6"
      ],
      "text/markdown": [
       "6"
      ],
      "text/plain": [
       "[1] 6"
      ]
     },
     "metadata": {},
     "output_type": "display_data"
    }
   ],
   "source": [
    "n <- nrow(df_beltrano)\n",
    "n"
   ]
  },
  {
   "cell_type": "code",
   "execution_count": 69,
   "metadata": {
    "colab": {
     "base_uri": "https://localhost:8080/",
     "height": 35
    },
    "colab_type": "code",
    "id": "6wB1UztBjQMf",
    "outputId": "cbb15019-56a3-4c87-8b77-6e04371c3182"
   },
   "outputs": [
    {
     "data": {
      "text/html": [
       "<table class=\"dataframe\">\n",
       "<caption>A data.frame: 6 × 3</caption>\n",
       "<thead>\n",
       "\t<tr><th></th><th scope=col>Fulano</th><th scope=col>Beltrano</th><th scope=col>Sicrano</th></tr>\n",
       "\t<tr><th></th><th scope=col>&lt;dbl&gt;</th><th scope=col>&lt;dbl&gt;</th><th scope=col>&lt;dbl&gt;</th></tr>\n",
       "</thead>\n",
       "<tbody>\n",
       "\t<tr><th scope=row>Inglês</th><td> 4</td><td> 0.5</td><td>7.0</td></tr>\n",
       "\t<tr><th scope=row>Português</th><td>10</td><td> 2.0</td><td>8.0</td></tr>\n",
       "\t<tr><th scope=row>História</th><td> 6</td><td> 3.0</td><td>8.0</td></tr>\n",
       "\t<tr><th scope=row>Física</th><td>10</td><td> 9.5</td><td>8.5</td></tr>\n",
       "\t<tr><th scope=row>Matemática</th><td> 8</td><td>10.0</td><td>7.5</td></tr>\n",
       "\t<tr><th scope=row>Química</th><td> 8</td><td>10.0</td><td>7.0</td></tr>\n",
       "</tbody>\n",
       "</table>\n"
      ],
      "text/latex": [
       "A data.frame: 6 × 3\n",
       "\\begin{tabular}{r|lll}\n",
       "  & Fulano & Beltrano & Sicrano\\\\\n",
       "  & <dbl> & <dbl> & <dbl>\\\\\n",
       "\\hline\n",
       "\tInglês &  4 &  0.5 & 7.0\\\\\n",
       "\tPortuguês & 10 &  2.0 & 8.0\\\\\n",
       "\tHistória &  6 &  3.0 & 8.0\\\\\n",
       "\tFísica & 10 &  9.5 & 8.5\\\\\n",
       "\tMatemática &  8 & 10.0 & 7.5\\\\\n",
       "\tQuímica &  8 & 10.0 & 7.0\\\\\n",
       "\\end{tabular}\n"
      ],
      "text/markdown": [
       "\n",
       "A data.frame: 6 × 3\n",
       "\n",
       "| <!--/--> | Fulano &lt;dbl&gt; | Beltrano &lt;dbl&gt; | Sicrano &lt;dbl&gt; |\n",
       "|---|---|---|---|\n",
       "| Inglês |  4 |  0.5 | 7.0 |\n",
       "| Português | 10 |  2.0 | 8.0 |\n",
       "| História |  6 |  3.0 | 8.0 |\n",
       "| Física | 10 |  9.5 | 8.5 |\n",
       "| Matemática |  8 | 10.0 | 7.5 |\n",
       "| Química |  8 | 10.0 | 7.0 |\n",
       "\n"
      ],
      "text/plain": [
       "           Fulano Beltrano Sicrano\n",
       "Inglês      4      0.5     7.0    \n",
       "Português  10      2.0     8.0    \n",
       "História    6      3.0     8.0    \n",
       "Física     10      9.5     8.5    \n",
       "Matemática  8     10.0     7.5    \n",
       "Química     8     10.0     7.0    "
      ]
     },
     "metadata": {},
     "output_type": "display_data"
    }
   ],
   "source": [
    "df_beltrano <- df_beltrano[order(df_beltrano$Beltrano),]\n",
    "df_beltrano"
   ]
  },
  {
   "cell_type": "code",
   "execution_count": 70,
   "metadata": {
    "colab": {
     "base_uri": "https://localhost:8080/",
     "height": 35
    },
    "colab_type": "code",
    "id": "tEBVXl7CjQMh",
    "outputId": "499b28c7-6de7-40f4-cdd9-5fef5c5c084a"
   },
   "outputs": [
    {
     "data": {
      "text/html": [
       "3"
      ],
      "text/latex": [
       "3"
      ],
      "text/markdown": [
       "3"
      ],
      "text/plain": [
       "[1] 3"
      ]
     },
     "metadata": {},
     "output_type": "display_data"
    }
   ],
   "source": [
    "elemento_md = n / 2\n",
    "elemento_md"
   ]
  },
  {
   "cell_type": "code",
   "execution_count": 71,
   "metadata": {},
   "outputs": [
    {
     "data": {
      "text/html": [
       "6.25"
      ],
      "text/latex": [
       "6.25"
      ],
      "text/markdown": [
       "6.25"
      ],
      "text/plain": [
       "[1] 6.25"
      ]
     },
     "metadata": {},
     "output_type": "display_data"
    }
   ],
   "source": [
    "mean(df_beltrano[c(elemento_md, elemento_md+1), ]$Beltrano)"
   ]
  },
  {
   "cell_type": "code",
   "execution_count": 72,
   "metadata": {
    "colab": {
     "base_uri": "https://localhost:8080/",
     "height": 53
    },
    "colab_type": "code",
    "id": "IevBBtrRjQMj",
    "outputId": "6f299f8c-f0c1-4e44-9a0f-cd72834145ba"
   },
   "outputs": [
    {
     "data": {
      "text/html": [
       "6.25"
      ],
      "text/latex": [
       "6.25"
      ],
      "text/markdown": [
       "6.25"
      ],
      "text/plain": [
       "[1] 6.25"
      ]
     },
     "metadata": {},
     "output_type": "display_data"
    }
   ],
   "source": [
    "median(df_beltrano$Beltrano)"
   ]
  },
  {
   "cell_type": "markdown",
   "metadata": {
    "colab_type": "text",
    "id": "nK27TxrkjQMl"
   },
   "source": [
    "### Obtendo a mediana em nosso dataset"
   ]
  },
  {
   "cell_type": "code",
   "execution_count": 73,
   "metadata": {
    "colab": {
     "base_uri": "https://localhost:8080/",
     "height": 35
    },
    "colab_type": "code",
    "id": "dJznpnjUjQMl",
    "outputId": "f4728447-b763-4116-9076-9ac9c4d19d75"
   },
   "outputs": [
    {
     "data": {
      "text/html": [
       "1200"
      ],
      "text/latex": [
       "1200"
      ],
      "text/markdown": [
       "1200"
      ],
      "text/plain": [
       "[1] 1200"
      ]
     },
     "metadata": {},
     "output_type": "display_data"
    }
   ],
   "source": [
    "median(dados$Renda)"
   ]
  },
  {
   "cell_type": "markdown",
   "metadata": {
    "colab_type": "text",
    "id": "CmCu6BXQjQMo"
   },
   "source": [
    "## <font color=green>3.3 Moda</font>\n",
    "***\n",
    "\n",
    "Pode-se definir a moda como sendo o valor mais frequente de um conjunto de dados. A moda é bastante utilizada para dados qualitativos."
   ]
  },
  {
   "cell_type": "markdown",
   "metadata": {
    "colab_type": "text",
    "id": "CmCu6BXQjQMo"
   },
   "source": [
    "### <font color=red>Documentações:\n",
    "\n",
    "- [**function**](https://www.rdocumentation.org/packages/base/versions/3.6.1/topics/function)"
   ]
  },
  {
   "cell_type": "code",
   "execution_count": 74,
   "metadata": {
    "colab": {
     "base_uri": "https://localhost:8080/",
     "height": 266
    },
    "colab_type": "code",
    "id": "BHibMzw8X7Id",
    "outputId": "6b9375f3-1c22-4866-a40b-c28be3a01047"
   },
   "outputs": [
    {
     "data": {
      "text/html": [
       "<table class=\"dataframe\">\n",
       "<caption>A data.frame: 7 × 3</caption>\n",
       "<thead>\n",
       "\t<tr><th></th><th scope=col>Fulano</th><th scope=col>Beltrano</th><th scope=col>Sicrano</th></tr>\n",
       "\t<tr><th></th><th scope=col>&lt;dbl&gt;</th><th scope=col>&lt;dbl&gt;</th><th scope=col>&lt;dbl&gt;</th></tr>\n",
       "</thead>\n",
       "<tbody>\n",
       "\t<tr><th scope=row>Matemática</th><td> 8</td><td>10.0</td><td>7.5</td></tr>\n",
       "\t<tr><th scope=row>Português</th><td>10</td><td> 2.0</td><td>8.0</td></tr>\n",
       "\t<tr><th scope=row>Inglês</th><td> 4</td><td> 0.5</td><td>7.0</td></tr>\n",
       "\t<tr><th scope=row>Geografia</th><td> 8</td><td> 1.0</td><td>8.0</td></tr>\n",
       "\t<tr><th scope=row>História</th><td> 6</td><td> 3.0</td><td>8.0</td></tr>\n",
       "\t<tr><th scope=row>Física</th><td>10</td><td> 9.5</td><td>8.5</td></tr>\n",
       "\t<tr><th scope=row>Química</th><td> 8</td><td>10.0</td><td>7.0</td></tr>\n",
       "</tbody>\n",
       "</table>\n"
      ],
      "text/latex": [
       "A data.frame: 7 × 3\n",
       "\\begin{tabular}{r|lll}\n",
       "  & Fulano & Beltrano & Sicrano\\\\\n",
       "  & <dbl> & <dbl> & <dbl>\\\\\n",
       "\\hline\n",
       "\tMatemática &  8 & 10.0 & 7.5\\\\\n",
       "\tPortuguês & 10 &  2.0 & 8.0\\\\\n",
       "\tInglês &  4 &  0.5 & 7.0\\\\\n",
       "\tGeografia &  8 &  1.0 & 8.0\\\\\n",
       "\tHistória &  6 &  3.0 & 8.0\\\\\n",
       "\tFísica & 10 &  9.5 & 8.5\\\\\n",
       "\tQuímica &  8 & 10.0 & 7.0\\\\\n",
       "\\end{tabular}\n"
      ],
      "text/markdown": [
       "\n",
       "A data.frame: 7 × 3\n",
       "\n",
       "| <!--/--> | Fulano &lt;dbl&gt; | Beltrano &lt;dbl&gt; | Sicrano &lt;dbl&gt; |\n",
       "|---|---|---|---|\n",
       "| Matemática |  8 | 10.0 | 7.5 |\n",
       "| Português | 10 |  2.0 | 8.0 |\n",
       "| Inglês |  4 |  0.5 | 7.0 |\n",
       "| Geografia |  8 |  1.0 | 8.0 |\n",
       "| História |  6 |  3.0 | 8.0 |\n",
       "| Física | 10 |  9.5 | 8.5 |\n",
       "| Química |  8 | 10.0 | 7.0 |\n",
       "\n"
      ],
      "text/plain": [
       "           Fulano Beltrano Sicrano\n",
       "Matemática  8     10.0     7.5    \n",
       "Português  10      2.0     8.0    \n",
       "Inglês      4      0.5     7.0    \n",
       "Geografia   8      1.0     8.0    \n",
       "História    6      3.0     8.0    \n",
       "Física     10      9.5     8.5    \n",
       "Química     8     10.0     7.0    "
      ]
     },
     "metadata": {},
     "output_type": "display_data"
    }
   ],
   "source": [
    "df"
   ]
  },
  {
   "cell_type": "code",
   "execution_count": 75,
   "metadata": {},
   "outputs": [
    {
     "data": {
      "text/html": [
       "<style>\n",
       ".list-inline {list-style: none; margin:0; padding: 0}\n",
       ".list-inline>li {display: inline-block}\n",
       ".list-inline>li:not(:last-child)::after {content: \"\\00b7\"; padding: 0 .5ex}\n",
       "</style>\n",
       "<ol class=list-inline><li>1</li><li>2</li><li>2</li><li>4</li><li>4</li><li>5</li><li>6</li><li>7</li><li>7</li></ol>\n"
      ],
      "text/latex": [
       "\\begin{enumerate*}\n",
       "\\item 1\n",
       "\\item 2\n",
       "\\item 2\n",
       "\\item 4\n",
       "\\item 4\n",
       "\\item 5\n",
       "\\item 6\n",
       "\\item 7\n",
       "\\item 7\n",
       "\\end{enumerate*}\n"
      ],
      "text/markdown": [
       "1. 1\n",
       "2. 2\n",
       "3. 2\n",
       "4. 4\n",
       "5. 4\n",
       "6. 5\n",
       "7. 6\n",
       "8. 7\n",
       "9. 7\n",
       "\n",
       "\n"
      ],
      "text/plain": [
       "[1] 1 2 2 4 4 5 6 7 7"
      ]
     },
     "metadata": {},
     "output_type": "display_data"
    }
   ],
   "source": [
    "exemplo_moda <- c(1, 2, 2, 4, 4, 5, 6, 7, 7)\n",
    "exemplo_moda"
   ]
  },
  {
   "cell_type": "code",
   "execution_count": 76,
   "metadata": {},
   "outputs": [
    {
     "data": {
      "text/plain": [
       "exemplo_moda\n",
       "1 2 4 5 6 7 \n",
       "1 2 2 1 1 2 "
      ]
     },
     "metadata": {},
     "output_type": "display_data"
    }
   ],
   "source": [
    "freq <- table(exemplo_moda)\n",
    "freq"
   ]
  },
  {
   "cell_type": "code",
   "execution_count": 77,
   "metadata": {},
   "outputs": [
    {
     "data": {
      "text/plain": [
       "exemplo_moda\n",
       "2 4 7 \n",
       "2 2 2 "
      ]
     },
     "metadata": {},
     "output_type": "display_data"
    }
   ],
   "source": [
    "freq[freq == max(freq)]"
   ]
  },
  {
   "cell_type": "code",
   "execution_count": 78,
   "metadata": {},
   "outputs": [
    {
     "data": {
      "text/html": [
       "<style>\n",
       ".list-inline {list-style: none; margin:0; padding: 0}\n",
       ".list-inline>li {display: inline-block}\n",
       ".list-inline>li:not(:last-child)::after {content: \"\\00b7\"; padding: 0 .5ex}\n",
       "</style>\n",
       "<ol class=list-inline><li>'2'</li><li>'4'</li><li>'7'</li></ol>\n"
      ],
      "text/latex": [
       "\\begin{enumerate*}\n",
       "\\item '2'\n",
       "\\item '4'\n",
       "\\item '7'\n",
       "\\end{enumerate*}\n"
      ],
      "text/markdown": [
       "1. '2'\n",
       "2. '4'\n",
       "3. '7'\n",
       "\n",
       "\n"
      ],
      "text/plain": [
       "[1] \"2\" \"4\" \"7\""
      ]
     },
     "metadata": {},
     "output_type": "display_data"
    }
   ],
   "source": [
    "names(freq)[freq == max(freq)]"
   ]
  },
  {
   "cell_type": "code",
   "execution_count": 79,
   "metadata": {},
   "outputs": [],
   "source": [
    "Moda <- function(x) {\n",
    "    freq <- table(x)\n",
    "    return(\n",
    "        names(freq)[freq == max(freq)]\n",
    "    )\n",
    "}"
   ]
  },
  {
   "cell_type": "code",
   "execution_count": 80,
   "metadata": {},
   "outputs": [
    {
     "data": {
      "text/html": [
       "<style>\n",
       ".list-inline {list-style: none; margin:0; padding: 0}\n",
       ".list-inline>li {display: inline-block}\n",
       ".list-inline>li:not(:last-child)::after {content: \"\\00b7\"; padding: 0 .5ex}\n",
       "</style>\n",
       "<ol class=list-inline><li>'2'</li><li>'4'</li><li>'7'</li></ol>\n"
      ],
      "text/latex": [
       "\\begin{enumerate*}\n",
       "\\item '2'\n",
       "\\item '4'\n",
       "\\item '7'\n",
       "\\end{enumerate*}\n"
      ],
      "text/markdown": [
       "1. '2'\n",
       "2. '4'\n",
       "3. '7'\n",
       "\n",
       "\n"
      ],
      "text/plain": [
       "[1] \"2\" \"4\" \"7\""
      ]
     },
     "metadata": {},
     "output_type": "display_data"
    }
   ],
   "source": [
    "Moda(exemplo_moda)"
   ]
  },
  {
   "cell_type": "code",
   "execution_count": 81,
   "metadata": {},
   "outputs": [
    {
     "data": {
      "text/html": [
       "'8'"
      ],
      "text/latex": [
       "'8'"
      ],
      "text/markdown": [
       "'8'"
      ],
      "text/plain": [
       "[1] \"8\""
      ]
     },
     "metadata": {},
     "output_type": "display_data"
    }
   ],
   "source": [
    "Moda(df$Fulano)"
   ]
  },
  {
   "cell_type": "code",
   "execution_count": 82,
   "metadata": {},
   "outputs": [
    {
     "data": {
      "text/html": [
       "'10'"
      ],
      "text/latex": [
       "'10'"
      ],
      "text/markdown": [
       "'10'"
      ],
      "text/plain": [
       "[1] \"10\""
      ]
     },
     "metadata": {},
     "output_type": "display_data"
    }
   ],
   "source": [
    "Moda(df$Beltrano)"
   ]
  },
  {
   "cell_type": "code",
   "execution_count": 83,
   "metadata": {},
   "outputs": [
    {
     "data": {
      "text/html": [
       "'8'"
      ],
      "text/latex": [
       "'8'"
      ],
      "text/markdown": [
       "'8'"
      ],
      "text/plain": [
       "[1] \"8\""
      ]
     },
     "metadata": {},
     "output_type": "display_data"
    }
   ],
   "source": [
    "Moda(df$Sicrano)\n"
   ]
  },
  {
   "cell_type": "markdown",
   "metadata": {
    "colab_type": "text",
    "id": "YwhBwz-JjQMr"
   },
   "source": [
    "### Obtendo a moda em nosso dataset"
   ]
  },
  {
   "cell_type": "code",
   "execution_count": 84,
   "metadata": {},
   "outputs": [
    {
     "data": {
      "text/html": [
       "'788'"
      ],
      "text/latex": [
       "'788'"
      ],
      "text/markdown": [
       "'788'"
      ],
      "text/plain": [
       "[1] \"788\""
      ]
     },
     "metadata": {},
     "output_type": "display_data"
    }
   ],
   "source": [
    "Moda(dados$Renda)"
   ]
  },
  {
   "cell_type": "code",
   "execution_count": 85,
   "metadata": {},
   "outputs": [
    {
     "data": {
      "text/html": [
       "<style>\n",
       ".list-inline {list-style: none; margin:0; padding: 0}\n",
       ".list-inline>li {display: inline-block}\n",
       ".list-inline>li:not(:last-child)::after {content: \"\\00b7\"; padding: 0 .5ex}\n",
       "</style>\n",
       "<ol class=list-inline><li>'1.56812756'</li><li>'1.671224912'</li><li>'1.681659101'</li><li>'1.692976729'</li><li>'1.708162716'</li><li>'1.708369705'</li><li>'1.753841591'</li><li>'1.779072545'</li><li>'1.796462296'</li></ol>\n"
      ],
      "text/latex": [
       "\\begin{enumerate*}\n",
       "\\item '1.56812756'\n",
       "\\item '1.671224912'\n",
       "\\item '1.681659101'\n",
       "\\item '1.692976729'\n",
       "\\item '1.708162716'\n",
       "\\item '1.708369705'\n",
       "\\item '1.753841591'\n",
       "\\item '1.779072545'\n",
       "\\item '1.796462296'\n",
       "\\end{enumerate*}\n"
      ],
      "text/markdown": [
       "1. '1.56812756'\n",
       "2. '1.671224912'\n",
       "3. '1.681659101'\n",
       "4. '1.692976729'\n",
       "5. '1.708162716'\n",
       "6. '1.708369705'\n",
       "7. '1.753841591'\n",
       "8. '1.779072545'\n",
       "9. '1.796462296'\n",
       "\n",
       "\n"
      ],
      "text/plain": [
       "[1] \"1.56812756\"  \"1.671224912\" \"1.681659101\" \"1.692976729\" \"1.708162716\"\n",
       "[6] \"1.708369705\" \"1.753841591\" \"1.779072545\" \"1.796462296\""
      ]
     },
     "metadata": {},
     "output_type": "display_data"
    }
   ],
   "source": [
    "Moda(dados$Altura)"
   ]
  },
  {
   "cell_type": "markdown",
   "metadata": {
    "colab_type": "text",
    "id": "_-0gjQWFjQMu"
   },
   "source": [
    "## <font color=green>3.4 Relação entre média, mediana e moda</font>\n",
    "***"
   ]
  },
  {
   "cell_type": "markdown",
   "metadata": {
    "colab_type": "text",
    "id": "0S7pa_jLjQMu"
   },
   "source": [
    "<img src='https://caelum-online-public.s3.amazonaws.com/1177-estatistica-parte1/01/img004.png' width='80%'>"
   ]
  },
  {
   "cell_type": "markdown",
   "metadata": {},
   "source": [
    "### <font color=red>Documentações:\n",
    "    \n",
    "- [**as.numeric**](https://www.rdocumentation.org/packages/base/versions/3.6.1/topics/numeric)"
   ]
  },
  {
   "cell_type": "markdown",
   "metadata": {
    "colab_type": "text",
    "id": "b7ZchyFsjQMu"
   },
   "source": [
    "### Avaliando a variável RENDA"
   ]
  },
  {
   "cell_type": "code",
   "execution_count": 86,
   "metadata": {},
   "outputs": [
    {
     "data": {
      "image/png": "[encoded data removed]",
      "text/plain": [
       "plot without title"
      ]
     },
     "metadata": {
      "image/png": {
       "height": 600,
       "width": 1200
      }
     },
     "output_type": "display_data"
    }
   ],
   "source": [
    "ggplot(dados[dados$Renda < 20000, ], aes(x = Renda, y = ..density..)) + \n",
    "    geom_histogram(binwidth = 500) + \n",
    "    geom_density(color = 'green')"
   ]
  },
  {
   "cell_type": "code",
   "execution_count": 87,
   "metadata": {},
   "outputs": [
    {
     "data": {
      "text/html": [
       "788"
      ],
      "text/latex": [
       "788"
      ],
      "text/markdown": [
       "788"
      ],
      "text/plain": [
       "[1] 788"
      ]
     },
     "metadata": {},
     "output_type": "display_data"
    }
   ],
   "source": [
    "moda <- as.numeric(Moda(dados$Renda))\n",
    "moda"
   ]
  },
  {
   "cell_type": "code",
   "execution_count": 88,
   "metadata": {},
   "outputs": [
    {
     "data": {
      "text/html": [
       "1200"
      ],
      "text/latex": [
       "1200"
      ],
      "text/markdown": [
       "1200"
      ],
      "text/plain": [
       "[1] 1200"
      ]
     },
     "metadata": {},
     "output_type": "display_data"
    }
   ],
   "source": [
    "mediana <- median(dados$Renda)\n",
    "mediana"
   ]
  },
  {
   "cell_type": "code",
   "execution_count": 89,
   "metadata": {},
   "outputs": [
    {
     "data": {
      "text/html": [
       "2000.38319885476"
      ],
      "text/latex": [
       "2000.38319885476"
      ],
      "text/markdown": [
       "2000.38319885476"
      ],
      "text/plain": [
       "[1] 2000.383"
      ]
     },
     "metadata": {},
     "output_type": "display_data"
    }
   ],
   "source": [
    "media <- mean(dados$Renda)\n",
    "media"
   ]
  },
  {
   "cell_type": "code",
   "execution_count": null,
   "metadata": {
    "colab": {
     "base_uri": "https://localhost:8080/",
     "height": 35
    },
    "colab_type": "code",
    "id": "nX6lnCBujQM0",
    "outputId": "d4bd80b4-9eee-4ad2-f41d-29c12362580e"
   },
   "outputs": [],
   "source": []
  },
  {
   "cell_type": "markdown",
   "metadata": {
    "colab_type": "text",
    "id": "FnLQAxSijQM1"
   },
   "source": [
    "***"
   ]
  },
  {
   "cell_type": "markdown",
   "metadata": {
    "colab_type": "text",
    "id": "WazchssNjQM1"
   },
   "source": [
    "### Avaliando a variável ALTURA"
   ]
  },
  {
   "cell_type": "code",
   "execution_count": 90,
   "metadata": {
    "colab": {
     "base_uri": "https://localhost:8080/",
     "height": 406
    },
    "colab_type": "code",
    "id": "41uJsCk9jQM2",
    "outputId": "3f7aec0c-e6b0-4629-d235-8061ce3b25c4"
   },
   "outputs": [
    {
     "name": "stderr",
     "output_type": "stream",
     "text": [
      "`stat_bin()` using `bins = 30`. Pick better value with `binwidth`.\n",
      "\n"
     ]
    },
    {
     "data": {
      "image/png": "[encoded data removed]",
      "text/plain": [
       "plot without title"
      ]
     },
     "metadata": {
      "image/png": {
       "height": 600,
       "width": 1200
      }
     },
     "output_type": "display_data"
    }
   ],
   "source": [
    "ggplot(dados, aes(x = Altura, y = ..density..)) + \n",
    "    geom_histogram() + \n",
    "    geom_density(color = 'green')"
   ]
  },
  {
   "cell_type": "code",
   "execution_count": 91,
   "metadata": {
    "colab": {
     "base_uri": "https://localhost:8080/",
     "height": 197
    },
    "colab_type": "code",
    "id": "EkgerGuXjQM3",
    "outputId": "2966d112-76a5-4286-923c-bb01f02c6acf"
   },
   "outputs": [
    {
     "data": {
      "text/html": [
       "<style>\n",
       ".list-inline {list-style: none; margin:0; padding: 0}\n",
       ".list-inline>li {display: inline-block}\n",
       ".list-inline>li:not(:last-child)::after {content: \"\\00b7\"; padding: 0 .5ex}\n",
       "</style>\n",
       "<ol class=list-inline><li>1.56812756</li><li>1.671224912</li><li>1.681659101</li><li>1.692976729</li><li>1.708162716</li><li>1.708369705</li><li>1.753841591</li><li>1.779072545</li><li>1.796462296</li></ol>\n"
      ],
      "text/latex": [
       "\\begin{enumerate*}\n",
       "\\item 1.56812756\n",
       "\\item 1.671224912\n",
       "\\item 1.681659101\n",
       "\\item 1.692976729\n",
       "\\item 1.708162716\n",
       "\\item 1.708369705\n",
       "\\item 1.753841591\n",
       "\\item 1.779072545\n",
       "\\item 1.796462296\n",
       "\\end{enumerate*}\n"
      ],
      "text/markdown": [
       "1. 1.56812756\n",
       "2. 1.671224912\n",
       "3. 1.681659101\n",
       "4. 1.692976729\n",
       "5. 1.708162716\n",
       "6. 1.708369705\n",
       "7. 1.753841591\n",
       "8. 1.779072545\n",
       "9. 1.796462296\n",
       "\n",
       "\n"
      ],
      "text/plain": [
       "[1] 1.568128 1.671225 1.681659 1.692977 1.708163 1.708370 1.753842 1.779073\n",
       "[9] 1.796462"
      ]
     },
     "metadata": {},
     "output_type": "display_data"
    }
   ],
   "source": [
    "moda <- as.numeric(Moda(dados$Altura))\n",
    "moda"
   ]
  },
  {
   "cell_type": "code",
   "execution_count": 92,
   "metadata": {
    "colab": {
     "base_uri": "https://localhost:8080/",
     "height": 35
    },
    "colab_type": "code",
    "id": "Jj6MFUXbjQM4",
    "outputId": "ef153a71-fa7b-4165-b23c-136157955825"
   },
   "outputs": [
    {
     "data": {
      "text/html": [
       "1.6993247325"
      ],
      "text/latex": [
       "1.6993247325"
      ],
      "text/markdown": [
       "1.6993247325"
      ],
      "text/plain": [
       "[1] 1.699325"
      ]
     },
     "metadata": {},
     "output_type": "display_data"
    }
   ],
   "source": [
    "mediana <- median(dados$Altura)\n",
    "mediana"
   ]
  },
  {
   "cell_type": "code",
   "execution_count": 93,
   "metadata": {
    "colab": {
     "base_uri": "https://localhost:8080/",
     "height": 35
    },
    "colab_type": "code",
    "id": "84X-3AzvjQM5",
    "outputId": "c2b94040-6ef1-46d1-cac1-58c8f6ba0d53"
   },
   "outputs": [
    {
     "data": {
      "text/html": [
       "1.69951245405757"
      ],
      "text/latex": [
       "1.69951245405757"
      ],
      "text/markdown": [
       "1.69951245405757"
      ],
      "text/plain": [
       "[1] 1.699512"
      ]
     },
     "metadata": {},
     "output_type": "display_data"
    }
   ],
   "source": [
    "media <- mean(dados$Altura)\n",
    "media"
   ]
  },
  {
   "cell_type": "markdown",
   "metadata": {
    "colab_type": "text",
    "id": "PJIMB8i8jQM6"
   },
   "source": [
    "***"
   ]
  },
  {
   "cell_type": "markdown",
   "metadata": {
    "colab_type": "text",
    "id": "eS4I2H7jjQM7"
   },
   "source": [
    "### Avaliando a variável ANOS DE ESTUDO"
   ]
  },
  {
   "cell_type": "code",
   "execution_count": 94,
   "metadata": {
    "colab": {
     "base_uri": "https://localhost:8080/",
     "height": 407
    },
    "colab_type": "code",
    "id": "NPCcjXqPjQM8",
    "outputId": "e811449e-866e-4986-a20b-8f2d44ddb437"
   },
   "outputs": [
    {
     "name": "stderr",
     "output_type": "stream",
     "text": [
      "`stat_bin()` using `bins = 30`. Pick better value with `binwidth`.\n",
      "\n"
     ]
    },
    {
     "data": {
      "image/png": "[encoded data removed]",
      "text/plain": [
       "plot without title"
      ]
     },
     "metadata": {
      "image/png": {
       "height": 600,
       "width": 1200
      }
     },
     "output_type": "display_data"
    }
   ],
   "source": [
    "ggplot(dados, aes(x = Anos.de.Estudo, y = ..density..)) + \n",
    "    geom_histogram() + \n",
    "    geom_density(color = 'green')"
   ]
  },
  {
   "cell_type": "code",
   "execution_count": 95,
   "metadata": {
    "colab": {
     "base_uri": "https://localhost:8080/",
     "height": 35
    },
    "colab_type": "code",
    "id": "PjfvPYUajQM9",
    "outputId": "477cf5fc-d11a-4e6f-dc45-dade49eff315"
   },
   "outputs": [
    {
     "data": {
      "text/html": [
       "12"
      ],
      "text/latex": [
       "12"
      ],
      "text/markdown": [
       "12"
      ],
      "text/plain": [
       "[1] 12"
      ]
     },
     "metadata": {},
     "output_type": "display_data"
    }
   ],
   "source": [
    "moda <- as.numeric(Moda(dados$Anos.de.Estudo))\n",
    "moda"
   ]
  },
  {
   "cell_type": "code",
   "execution_count": 96,
   "metadata": {
    "colab": {
     "base_uri": "https://localhost:8080/",
     "height": 35
    },
    "colab_type": "code",
    "id": "VF_Bj8x2jQM-",
    "outputId": "70b0abb2-902e-4f80-b8c7-fe0f8c0e3140"
   },
   "outputs": [
    {
     "data": {
      "text/html": [
       "11"
      ],
      "text/latex": [
       "11"
      ],
      "text/markdown": [
       "11"
      ],
      "text/plain": [
       "[1] 11"
      ]
     },
     "metadata": {},
     "output_type": "display_data"
    }
   ],
   "source": [
    "mediana <- median(dados$Anos.de.Estudo)\n",
    "mediana"
   ]
  },
  {
   "cell_type": "code",
   "execution_count": 97,
   "metadata": {
    "colab": {
     "base_uri": "https://localhost:8080/",
     "height": 35
    },
    "colab_type": "code",
    "id": "ohqUZ5RsjQNA",
    "outputId": "286e2b23-ef56-453f-e92a-2c73887c1af4"
   },
   "outputs": [
    {
     "data": {
      "text/html": [
       "9.46966423737637"
      ],
      "text/latex": [
       "9.46966423737637"
      ],
      "text/markdown": [
       "9.46966423737637"
      ],
      "text/plain": [
       "[1] 9.469664"
      ]
     },
     "metadata": {},
     "output_type": "display_data"
    }
   ],
   "source": [
    "media = mean(dados$Anos.de.Estudo)\n",
    "media"
   ]
  },
  {
   "cell_type": "code",
   "execution_count": 98,
   "metadata": {
    "colab": {
     "base_uri": "https://localhost:8080/",
     "height": 35
    },
    "colab_type": "code",
    "id": "AwM8UvApjQNC",
    "outputId": "91f0c84b-13ff-43e1-cac0-46ce0527ddec"
   },
   "outputs": [
    {
     "data": {
      "text/html": [
       "TRUE"
      ],
      "text/latex": [
       "TRUE"
      ],
      "text/markdown": [
       "TRUE"
      ],
      "text/plain": [
       "[1] TRUE"
      ]
     },
     "metadata": {},
     "output_type": "display_data"
    },
    {
     "data": {
      "text/html": [
       "TRUE"
      ],
      "text/latex": [
       "TRUE"
      ],
      "text/markdown": [
       "TRUE"
      ],
      "text/plain": [
       "[1] TRUE"
      ]
     },
     "metadata": {},
     "output_type": "display_data"
    }
   ],
   "source": [
    "moda > mediana\n",
    "mediana > media"
   ]
  },
  {
   "cell_type": "markdown",
   "metadata": {
    "colab_type": "text",
    "id": "vcaIo45UjQND"
   },
   "source": [
    "# <font color=green>4 MEDIDAS SEPARATRIZES</font>\n",
    "***"
   ]
  },
  {
   "cell_type": "markdown",
   "metadata": {
    "colab_type": "text",
    "id": "f4XrApNxjQNE"
   },
   "source": [
    "## <font color=green>4.1 Quartis, decis e percentis</font>\n",
    "***\n",
    "\n",
    "Há uma série de medidas de posição semelhantes na sua concepção à mediana, embora não sejam medidas de tendência central. Como se sabe, a mediana divide a distribuição em duas partes iguais quanto ao número de elementos de cada parte. Já os quartis permitem dividir a distribuição em quatro partes iguais quanto ao número de elementos de cada uma; os decis em dez partes e os centis em cem partes iguais."
   ]
  },
  {
   "cell_type": "markdown",
   "metadata": {
    "colab_type": "text",
    "id": "f4XrApNxjQNE"
   },
   "source": [
    "### <font color=red>Documentações:\n",
    "\n",
    "- [**quantile**](https://www.rdocumentation.org/packages/stats/versions/3.6.1/topics/quantile)\n",
    "- [**for**](https://www.rdocumentation.org/packages/base/versions/3.6.1/topics/Control)\n",
    "- [**length**](https://www.rdocumentation.org/packages/base/versions/3.6.1/topics/length)"
   ]
  },
  {
   "cell_type": "code",
   "execution_count": 99,
   "metadata": {
    "colab": {
     "base_uri": "https://localhost:8080/",
     "height": 89
    },
    "colab_type": "code",
    "id": "VmbdUO-ujQNE",
    "outputId": "d7a091db-3901-45ae-95c9-2d1a6b840cb6"
   },
   "outputs": [
    {
     "data": {
      "text/html": [
       "<style>\n",
       ".dl-inline {width: auto; margin:0; padding: 0}\n",
       ".dl-inline>dt, .dl-inline>dd {float: none; width: auto; display: inline-block}\n",
       ".dl-inline>dt::after {content: \":\\0020\"; padding-right: .5ex}\n",
       ".dl-inline>dt:not(:first-of-type) {padding-left: .5ex}\n",
       "</style><dl class=dl-inline><dt>25%</dt><dd>788</dd><dt>50%</dt><dd>1200</dd><dt>75%</dt><dd>2000</dd></dl>\n"
      ],
      "text/latex": [
       "\\begin{description*}\n",
       "\\item[25\\textbackslash{}\\%] 788\n",
       "\\item[50\\textbackslash{}\\%] 1200\n",
       "\\item[75\\textbackslash{}\\%] 2000\n",
       "\\end{description*}\n"
      ],
      "text/markdown": [
       "25%\n",
       ":   78850%\n",
       ":   120075%\n",
       ":   2000\n",
       "\n"
      ],
      "text/plain": [
       " 25%  50%  75% \n",
       " 788 1200 2000 "
      ]
     },
     "metadata": {},
     "output_type": "display_data"
    }
   ],
   "source": [
    "quantile(dados$Renda, c(0.25, 0.5, 0.75))"
   ]
  },
  {
   "cell_type": "code",
   "execution_count": 100,
   "metadata": {},
   "outputs": [],
   "source": [
    "decis <- c()\n",
    "for(i in 1:9) {\n",
    "    decis <- c(decis, i / 10)\n",
    "}"
   ]
  },
  {
   "cell_type": "code",
   "execution_count": 101,
   "metadata": {
    "colab": {
     "base_uri": "https://localhost:8080/",
     "height": 197
    },
    "colab_type": "code",
    "id": "EpRKboV5jQNG",
    "outputId": "dfe7892e-35d2-4b99-a635-68a04967b84f"
   },
   "outputs": [
    {
     "data": {
      "text/html": [
       "<style>\n",
       ".dl-inline {width: auto; margin:0; padding: 0}\n",
       ".dl-inline>dt, .dl-inline>dd {float: none; width: auto; display: inline-block}\n",
       ".dl-inline>dt::after {content: \":\\0020\"; padding-right: .5ex}\n",
       ".dl-inline>dt:not(:first-of-type) {padding-left: .5ex}\n",
       "</style><dl class=dl-inline><dt>10%</dt><dd>350</dd><dt>20%</dt><dd>788</dd><dt>30%</dt><dd>800</dd><dt>40%</dt><dd>1000</dd><dt>50%</dt><dd>1200</dd><dt>60%</dt><dd>1500</dd><dt>70%</dt><dd>1900</dd><dt>80%</dt><dd>2500</dd><dt>90%</dt><dd>4000</dd></dl>\n"
      ],
      "text/latex": [
       "\\begin{description*}\n",
       "\\item[10\\textbackslash{}\\%] 350\n",
       "\\item[20\\textbackslash{}\\%] 788\n",
       "\\item[30\\textbackslash{}\\%] 800\n",
       "\\item[40\\textbackslash{}\\%] 1000\n",
       "\\item[50\\textbackslash{}\\%] 1200\n",
       "\\item[60\\textbackslash{}\\%] 1500\n",
       "\\item[70\\textbackslash{}\\%] 1900\n",
       "\\item[80\\textbackslash{}\\%] 2500\n",
       "\\item[90\\textbackslash{}\\%] 4000\n",
       "\\end{description*}\n"
      ],
      "text/markdown": [
       "10%\n",
       ":   35020%\n",
       ":   78830%\n",
       ":   80040%\n",
       ":   100050%\n",
       ":   120060%\n",
       ":   150070%\n",
       ":   190080%\n",
       ":   250090%\n",
       ":   4000\n",
       "\n"
      ],
      "text/plain": [
       " 10%  20%  30%  40%  50%  60%  70%  80%  90% \n",
       " 350  788  800 1000 1200 1500 1900 2500 4000 "
      ]
     },
     "metadata": {},
     "output_type": "display_data"
    }
   ],
   "source": [
    "quantile(dados$Renda, decis)"
   ]
  },
  {
   "cell_type": "code",
   "execution_count": 104,
   "metadata": {},
   "outputs": [
    {
     "data": {
      "text/html": [
       "<style>\n",
       ".dl-inline {width: auto; margin:0; padding: 0}\n",
       ".dl-inline>dt, .dl-inline>dd {float: none; width: auto; display: inline-block}\n",
       ".dl-inline>dt::after {content: \":\\0020\"; padding-right: .5ex}\n",
       ".dl-inline>dt:not(:first-of-type) {padding-left: .5ex}\n",
       "</style><dl class=dl-inline><dt>10%</dt><dd>350</dd><dt>20%</dt><dd>788</dd><dt>30%</dt><dd>800</dd><dt>40%</dt><dd>1000</dd><dt>50%</dt><dd>1200</dd><dt>60%</dt><dd>1500</dd><dt>70%</dt><dd>1900</dd><dt>80%</dt><dd>2500</dd><dt>90%</dt><dd>4000</dd><dt>99%</dt><dd>15000</dd></dl>\n"
      ],
      "text/latex": [
       "\\begin{description*}\n",
       "\\item[10\\textbackslash{}\\%] 350\n",
       "\\item[20\\textbackslash{}\\%] 788\n",
       "\\item[30\\textbackslash{}\\%] 800\n",
       "\\item[40\\textbackslash{}\\%] 1000\n",
       "\\item[50\\textbackslash{}\\%] 1200\n",
       "\\item[60\\textbackslash{}\\%] 1500\n",
       "\\item[70\\textbackslash{}\\%] 1900\n",
       "\\item[80\\textbackslash{}\\%] 2500\n",
       "\\item[90\\textbackslash{}\\%] 4000\n",
       "\\item[99\\textbackslash{}\\%] 15000\n",
       "\\end{description*}\n"
      ],
      "text/markdown": [
       "10%\n",
       ":   35020%\n",
       ":   78830%\n",
       ":   80040%\n",
       ":   100050%\n",
       ":   120060%\n",
       ":   150070%\n",
       ":   190080%\n",
       ":   250090%\n",
       ":   400099%\n",
       ":   15000\n",
       "\n"
      ],
      "text/plain": [
       "  10%   20%   30%   40%   50%   60%   70%   80%   90%   99% \n",
       "  350   788   800  1000  1200  1500  1900  2500  4000 15000 "
      ]
     },
     "metadata": {},
     "output_type": "display_data"
    }
   ],
   "source": [
    "centis <- c()\n",
    "for(i in 1:99) {\n",
    "    centis <- c(decis, i / 100)\n",
    "}\n",
    "quantile(dados$Renda, centis)"
   ]
  },
  {
   "cell_type": "code",
   "execution_count": 105,
   "metadata": {},
   "outputs": [
    {
     "name": "stderr",
     "output_type": "stream",
     "text": [
      "`stat_bin()` using `bins = 30`. Pick better value with `binwidth`.\n",
      "\n"
     ]
    },
    {
     "data": {
      "image/png": "[encoded data removed]",
      "text/plain": [
       "plot without title"
      ]
     },
     "metadata": {
      "image/png": {
       "height": 600,
       "width": 1200
      }
     },
     "output_type": "display_data"
    }
   ],
   "source": [
    "ggplot(data = dados, aes(x = Idade)) + \n",
    "    geom_histogram(\n",
    "        aes(y = cumsum(..count..)/sum(..count..)), \n",
    "        bins = 10\n",
    "    ) + \n",
    "    geom_freqpoly(\n",
    "        aes(y = cumsum(..count..)/sum(..count..)), \n",
    "        color = 'green'\n",
    "    )"
   ]
  },
  {
   "cell_type": "code",
   "execution_count": 106,
   "metadata": {},
   "outputs": [
    {
     "data": {
      "text/html": [
       "<style>\n",
       ".dl-inline {width: auto; margin:0; padding: 0}\n",
       ".dl-inline>dt, .dl-inline>dd {float: none; width: auto; display: inline-block}\n",
       ".dl-inline>dt::after {content: \":\\0020\"; padding-right: .5ex}\n",
       ".dl-inline>dt:not(:first-of-type) {padding-left: .5ex}\n",
       "</style><dl class=dl-inline><dt>10%</dt><dd>28</dd><dt>20%</dt><dd>33</dd><dt>30%</dt><dd>36</dd><dt>40%</dt><dd>40</dd><dt>50%</dt><dd>43</dd><dt>60%</dt><dd>47</dd><dt>70%</dt><dd>51</dd><dt>80%</dt><dd>55</dd><dt>90%</dt><dd>61</dd></dl>\n"
      ],
      "text/latex": [
       "\\begin{description*}\n",
       "\\item[10\\textbackslash{}\\%] 28\n",
       "\\item[20\\textbackslash{}\\%] 33\n",
       "\\item[30\\textbackslash{}\\%] 36\n",
       "\\item[40\\textbackslash{}\\%] 40\n",
       "\\item[50\\textbackslash{}\\%] 43\n",
       "\\item[60\\textbackslash{}\\%] 47\n",
       "\\item[70\\textbackslash{}\\%] 51\n",
       "\\item[80\\textbackslash{}\\%] 55\n",
       "\\item[90\\textbackslash{}\\%] 61\n",
       "\\end{description*}\n"
      ],
      "text/markdown": [
       "10%\n",
       ":   2820%\n",
       ":   3330%\n",
       ":   3640%\n",
       ":   4050%\n",
       ":   4360%\n",
       ":   4770%\n",
       ":   5180%\n",
       ":   5590%\n",
       ":   61\n",
       "\n"
      ],
      "text/plain": [
       "10% 20% 30% 40% 50% 60% 70% 80% 90% \n",
       " 28  33  36  40  43  47  51  55  61 "
      ]
     },
     "metadata": {},
     "output_type": "display_data"
    }
   ],
   "source": [
    "quantile(dados$Idade, decis)"
   ]
  },
  {
   "cell_type": "markdown",
   "metadata": {},
   "source": [
    "### Classificação percentual"
   ]
  },
  {
   "cell_type": "code",
   "execution_count": 107,
   "metadata": {},
   "outputs": [
    {
     "data": {
      "text/html": [
       "42.0757418011452"
      ],
      "text/latex": [
       "42.0757418011452"
      ],
      "text/markdown": [
       "42.0757418011452"
      ],
      "text/plain": [
       "[1] 42.07574"
      ]
     },
     "metadata": {},
     "output_type": "display_data"
    }
   ],
   "source": [
    "length(dados$Idade[dados$Idade <= 40]) / length(dados$Idade) * 100"
   ]
  },
  {
   "cell_type": "markdown",
   "metadata": {
    "colab_type": "text",
    "id": "6gIeZO_CjQNJ"
   },
   "source": [
    "## <font color=green>4.2 Box-plot</font>\n",
    "***\n",
    "\n",
    "O box plot dá uma idéia da posição, dispersão, assimetria, caudas e dados discrepantes (outliers). A posição central é dada pela mediana e a dispersão por $IIQ$. As posições relativas de $Q1$, $Mediana$ e $Q3$ dão uma noção da simetria da distribuição. Os comprimentos das cauda são dados pelas linhas que vão do retângulo aos valores remotos e pelos valores atípicos."
   ]
  },
  {
   "cell_type": "markdown",
   "metadata": {
    "colab_type": "text",
    "id": "6gIeZO_CjQNJ"
   },
   "source": [
    "#### <font color=red>Documentações:\n",
    "\n",
    "- [**geom_boxplot**](https://www.rdocumentation.org/packages/ggplot2/versions/3.2.1/topics/geom_boxplot)\n",
    "- [**factor**](https://www.rdocumentation.org/packages/base/versions/3.6.1/topics/factor)"
   ]
  },
  {
   "cell_type": "markdown",
   "metadata": {
    "colab_type": "text",
    "id": "VeiTE_gvjQNK"
   },
   "source": [
    "<img src='https://caelum-online-public.s3.amazonaws.com/1177-estatistica-parte1/01/img005.png' width='65%'>"
   ]
  },
  {
   "cell_type": "code",
   "execution_count": null,
   "metadata": {},
   "outputs": [],
   "source": [
    "sexo = c(\n",
    "    'Masculino', \n",
    "    'Feminino'\n",
    ")\n",
    "cor = c(\n",
    "    'Indígena', \n",
    "    'Branca', \n",
    "    'Preta', \n",
    "    'Amarela', \n",
    "    'Parda'\n",
    ")\n",
    "anos_de_estudo = c(\n",
    "    'Sem instrução e menos de 1 ano', \n",
    "    '1 ano', \n",
    "    '2 anos', \n",
    "    '3 anos', \n",
    "    '4 anos', \n",
    "    '5 anos', \n",
    "    '6 anos', \n",
    "    '7 anos', \n",
    "    '8 anos', \n",
    "    '9 anos', \n",
    "    '10 anos', \n",
    "    '11 anos', \n",
    "    '12 anos', \n",
    "    '13 anos', \n",
    "    '14 anos', \n",
    "    '15 anos ou mais', \n",
    "    'Não determinados'\n",
    ")"
   ]
  },
  {
   "cell_type": "code",
   "execution_count": null,
   "metadata": {},
   "outputs": [],
   "source": [
    "ggplot(data = \"#\", aes(x = \"#\", y = \"#\")) + \n",
    "    stat_boxplot(geom ='errorbar', width = 0.4) + \n",
    "    geom_boxplot(fill = '#3274A1') + \n",
    "    coord_flip() +\n",
    "    ylab(\"Metros\") + \n",
    "    xlab(\"\") + \n",
    "    ggtitle('Box-plot Alturas') +\n",
    "    formatos"
   ]
  },
  {
   "cell_type": "code",
   "execution_count": null,
   "metadata": {},
   "outputs": [],
   "source": [
    "ggplot(data = \"#\", aes(x = \"#\", y = \"#\", group = \"#\")) + \n",
    "    stat_boxplot(geom ='errorbar', width = 0.4) + \n",
    "    geom_boxplot(fill = c('#3274A1', \"orange\")) + \n",
    "    coord_flip() +\n",
    "    ylab(\"Metros\") + \n",
    "    xlab(\"Sexo\") + \n",
    "    ggtitle('Box-plot Alturas X Sexo') +\n",
    "    formatos"
   ]
  },
  {
   "cell_type": "code",
   "execution_count": null,
   "metadata": {},
   "outputs": [],
   "source": []
  },
  {
   "cell_type": "code",
   "execution_count": null,
   "metadata": {},
   "outputs": [],
   "source": []
  },
  {
   "cell_type": "code",
   "execution_count": null,
   "metadata": {},
   "outputs": [],
   "source": [
    "ggplot(data = \"#\", aes(x = \"#\", y = \"#\")) + \n",
    "    stat_boxplot(geom ='errorbar', width = 0.4) + \n",
    "    geom_boxplot(fill = c('#3274A1', \"orange\")) + \n",
    "    coord_flip() +\n",
    "    ylab(\"Metros\") + \n",
    "    xlab(\"Sexo\") + \n",
    "    ggtitle('Box-plot Alturas X Sexo') +\n",
    "    formatos"
   ]
  },
  {
   "cell_type": "code",
   "execution_count": null,
   "metadata": {},
   "outputs": [],
   "source": [
    "ggplot(data = \"#\", aes(x = \"#\", y = \"#\")) + \n",
    "    stat_boxplot(geom ='errorbar', width = 0.4) + \n",
    "    geom_boxplot(fill = '#3274A1') + \n",
    "    coord_flip() +\n",
    "    ylab(\"R$\") + \n",
    "    xlab(\"\") + \n",
    "    ggtitle('Box-plot Renda') +\n",
    "    formatos"
   ]
  },
  {
   "cell_type": "code",
   "execution_count": null,
   "metadata": {},
   "outputs": [],
   "source": [
    "ggplot(data = \"#\", aes(x = \"#\", y = \"#\")) + \n",
    "    stat_boxplot(geom ='errorbar', width = 0.4) + \n",
    "    geom_boxplot(fill = c('#3274A1', \"orange\")) + \n",
    "    coord_flip() +\n",
    "    ylab(\"R$\") + \n",
    "    xlab(\"Sexo\") + \n",
    "    ggtitle('Box-plot Renda X Sexo') +\n",
    "    formatos"
   ]
  },
  {
   "cell_type": "code",
   "execution_count": null,
   "metadata": {},
   "outputs": [],
   "source": []
  },
  {
   "cell_type": "code",
   "execution_count": null,
   "metadata": {},
   "outputs": [],
   "source": []
  },
  {
   "cell_type": "code",
   "execution_count": null,
   "metadata": {},
   "outputs": [],
   "source": [
    "ggplot(data = \"#\", aes(x = \"#\", y = \"#\")) + \n",
    "    stat_boxplot(geom ='errorbar', width = 0.4) + \n",
    "    geom_boxplot(fill = '#3274A1') + \n",
    "    coord_flip() +\n",
    "    ylab(\"Anos\") + \n",
    "    xlab(\"\") + \n",
    "    ggtitle('Box-plot Anos de Estudo') +\n",
    "    formatos"
   ]
  },
  {
   "cell_type": "code",
   "execution_count": null,
   "metadata": {},
   "outputs": [],
   "source": [
    "ggplot(data = \"#\", aes(x = \"#\", y = \"#\")) + \n",
    "    stat_boxplot(geom ='errorbar', width = 0.4) + \n",
    "    geom_boxplot(fill = c('#3274A1', \"orange\")) + \n",
    "    coord_flip() +\n",
    "    ylab(\"Anos\") + \n",
    "    xlab(\"Sexo\") + \n",
    "    ggtitle('Box-plot Anos de Estudo X Sexo') +\n",
    "    formatos"
   ]
  },
  {
   "cell_type": "markdown",
   "metadata": {
    "colab_type": "text",
    "id": "amloMZwVjQNN"
   },
   "source": [
    "<img src='https://caelum-online-public.s3.amazonaws.com/1177-estatistica-parte1/01/img006.png' width='80%'>"
   ]
  },
  {
   "cell_type": "markdown",
   "metadata": {
    "colab_type": "text",
    "id": "aJ6v_NI9jQNN"
   },
   "source": [
    "# <font color=green>5 MEDIDAS DE DISPERSÃO</font>\n",
    "***\n",
    "\n",
    "Embora as medidas de posição forneçam uma sumarização bastante importante dos dados, elas podem não ser suficientes para caracterizar conjuntos distintos, especialmente quando as observações de determinada distribuição apresentarem dados muito dispersos."
   ]
  },
  {
   "cell_type": "markdown",
   "metadata": {
    "colab_type": "text",
    "id": "D6xVxAQ7jQNO"
   },
   "source": [
    "## <font color=green>5.1 Desvio médio absoluto</font>\n",
    "***\n",
    "\n",
    "\n",
    "# $$DM = \\frac 1n\\sum_{i=1}^{n}|X_i-\\bar{X}|$$"
   ]
  },
  {
   "cell_type": "markdown",
   "metadata": {
    "colab_type": "text",
    "id": "D6xVxAQ7jQNO"
   },
   "source": [
    "### <font color=red>Documentações:\n",
    "\n",
    "- [**sum**](https://www.rdocumentation.org/packages/base/versions/3.6.1/topics/sum)\n",
    "- [**abs**](https://www.rdocumentation.org/packages/base/versions/3.6.1/topics/MathFun)\n",
    "- [**DescTools**](https://www.rdocumentation.org/packages/DescTools/versions/0.99.30)\n",
    "- [**MeanAD**](https://www.rdocumentation.org/packages/DescTools/versions/0.99.30/topics/MeanAD)"
   ]
  },
  {
   "cell_type": "code",
   "execution_count": null,
   "metadata": {
    "colab": {
     "base_uri": "https://localhost:8080/",
     "height": 266
    },
    "colab_type": "code",
    "id": "0sL31blV7nz3",
    "outputId": "5f44f5d3-88b4-40e2-810c-7e1e1a9bace0"
   },
   "outputs": [],
   "source": []
  },
  {
   "cell_type": "code",
   "execution_count": null,
   "metadata": {},
   "outputs": [],
   "source": []
  },
  {
   "cell_type": "code",
   "execution_count": null,
   "metadata": {
    "colab": {
     "base_uri": "https://localhost:8080/",
     "height": 35
    },
    "colab_type": "code",
    "id": "8_Q2tOTmjQNO",
    "outputId": "5c0d8214-aa63-4d0f-cfb1-f61bc171195f"
   },
   "outputs": [],
   "source": []
  },
  {
   "cell_type": "code",
   "execution_count": null,
   "metadata": {},
   "outputs": [],
   "source": []
  },
  {
   "cell_type": "code",
   "execution_count": null,
   "metadata": {
    "colab": {
     "base_uri": "https://localhost:8080/",
     "height": 35
    },
    "colab_type": "code",
    "id": "OiWDTw0ljQNQ",
    "outputId": "0123646d-ad0d-457e-cc5a-035bd6a843ec"
   },
   "outputs": [],
   "source": []
  },
  {
   "cell_type": "code",
   "execution_count": null,
   "metadata": {
    "colab": {
     "base_uri": "https://localhost:8080/",
     "height": 266
    },
    "colab_type": "code",
    "id": "qQbjktz5jQNR",
    "outputId": "d3649964-e345-457c-859c-e179e57e1468"
   },
   "outputs": [],
   "source": []
  },
  {
   "cell_type": "code",
   "execution_count": null,
   "metadata": {},
   "outputs": [],
   "source": [
    "ggplot(data = notas_fulano, aes(x = row.names(notas_fulano), y = Fulano)) + \n",
    "    geom_point() + \n",
    "    geom_hline(yintercept = mean(notas_fulano$Fulano), color = 'red') + \n",
    "    geom_segment(aes(x = 1, y = 10, xend = 1, yend = mean(notas_fulano$Fulano))) + \n",
    "    geom_segment(aes(x = 2, y = 8, xend = 2, yend = mean(notas_fulano$Fulano))) + \n",
    "    geom_segment(aes(x = 3, y = 6, xend = 3, yend = mean(notas_fulano$Fulano))) + \n",
    "    geom_segment(aes(x = 4, y = 4, xend = 4, yend = mean(notas_fulano$Fulano))) + \n",
    "    geom_segment(aes(x = 5, y = 8, xend = 5, yend = mean(notas_fulano$Fulano))) + \n",
    "    geom_segment(aes(x = 6, y = 10, xend = 6, yend = mean(notas_fulano$Fulano))) + \n",
    "    geom_segment(aes(x = 7, y = 8, xend = 7, yend = mean(notas_fulano$Fulano)))"
   ]
  },
  {
   "cell_type": "code",
   "execution_count": null,
   "metadata": {
    "colab": {
     "base_uri": "https://localhost:8080/",
     "height": 35
    },
    "colab_type": "code",
    "id": "m4buiQWF01xt",
    "outputId": "e166623b-e7a4-44f6-ecb1-2cfc0bc43ab1"
   },
   "outputs": [],
   "source": []
  },
  {
   "cell_type": "markdown",
   "metadata": {},
   "source": [
    "### Instalando o pacote DescTools"
   ]
  },
  {
   "cell_type": "code",
   "execution_count": null,
   "metadata": {},
   "outputs": [],
   "source": []
  },
  {
   "cell_type": "code",
   "execution_count": null,
   "metadata": {},
   "outputs": [],
   "source": []
  },
  {
   "cell_type": "code",
   "execution_count": null,
   "metadata": {
    "colab": {
     "base_uri": "https://localhost:8080/",
     "height": 35
    },
    "colab_type": "code",
    "id": "1PEJ_LUn01eV",
    "outputId": "ff37d20d-b3d1-408a-c300-79b81dafb398"
   },
   "outputs": [],
   "source": []
  },
  {
   "cell_type": "markdown",
   "metadata": {
    "colab_type": "text",
    "id": "jSKfnKwEjQNW"
   },
   "source": [
    "## <font color=green>5.2 Variância</font>\n",
    "***"
   ]
  },
  {
   "cell_type": "markdown",
   "metadata": {
    "colab_type": "text",
    "id": "tHD3yNqzjQNW"
   },
   "source": [
    "### Variância\n",
    "\n",
    "A variância é construída a partir das diferenças entre cada observação e a média dos dados, ou seja, o desvio em torno da média. No cálculo da variância, os desvios em torno da média são elevados ao quadrado."
   ]
  },
  {
   "cell_type": "markdown",
   "metadata": {
    "colab_type": "text",
    "id": "WrCn9hw0jQNX"
   },
   "source": [
    "### Variância populacional\n",
    "\n",
    "# $$\\sigma^2 = \\frac 1n\\sum_{i=1}^{n}(X_i-\\mu)^2$$"
   ]
  },
  {
   "cell_type": "markdown",
   "metadata": {
    "colab_type": "text",
    "id": "jV5mQT_djQNX"
   },
   "source": [
    "### Variância amostral\n",
    "\n",
    "# $$S^2 = \\frac 1{n-1}\\sum_{i=1}^{n}(X_i-\\bar{X})^2$$"
   ]
  },
  {
   "cell_type": "markdown",
   "metadata": {},
   "source": [
    "### <font color=red>Documentações:\n",
    "\n",
    "- [**var**](https://www.rdocumentation.org/packages/stats/versions/3.6.1/topics/cor)"
   ]
  },
  {
   "cell_type": "code",
   "execution_count": null,
   "metadata": {
    "colab": {
     "base_uri": "https://localhost:8080/",
     "height": 266
    },
    "colab_type": "code",
    "id": "4tlbCQeujQNZ",
    "outputId": "21e4a6b5-8a87-4338-8f94-b02ef2ea9e07"
   },
   "outputs": [],
   "source": []
  },
  {
   "cell_type": "code",
   "execution_count": null,
   "metadata": {
    "colab": {
     "base_uri": "https://localhost:8080/",
     "height": 35
    },
    "colab_type": "code",
    "id": "oCcAfoIOjQNa",
    "outputId": "e55249a4-6d91-4776-d89f-428f067a87ae"
   },
   "outputs": [],
   "source": []
  },
  {
   "cell_type": "code",
   "execution_count": null,
   "metadata": {
    "colab": {
     "base_uri": "https://localhost:8080/",
     "height": 35
    },
    "colab_type": "code",
    "id": "EyrfPHLtjQNb",
    "outputId": "a024839f-1c4a-4a91-b892-3966d7cc8f95"
   },
   "outputs": [],
   "source": []
  },
  {
   "cell_type": "markdown",
   "metadata": {
    "colab_type": "text",
    "id": "wQl_CsytjQNg"
   },
   "source": [
    "## <font color=green>5.3 Desvio padrão</font>\n",
    "***\n",
    "\n",
    "Uma das restrições da variância é o fato de fornecer medidas em quadrados das unidades originais - a variância de medidas de comprimento, por exemplo, é em unidades de área. Logo, o fato de as unidades serem diferentes dificulta a comparação da dispersão com as variáveis que a definem. Um modo de eliminar essa dificuldade é considerar sua raiz quadrada."
   ]
  },
  {
   "cell_type": "markdown",
   "metadata": {
    "colab_type": "text",
    "id": "X9w1Iqt3jQNg"
   },
   "source": [
    "### Desvio padrão populacional\n",
    "\n",
    "# $$\\sigma = \\sqrt{\\frac 1n\\sum_{i=1}^{n}(X_i-\\mu)^2} \\Longrightarrow \\sigma = \\sqrt{\\sigma^2}$$"
   ]
  },
  {
   "cell_type": "markdown",
   "metadata": {
    "colab_type": "text",
    "id": "D3J4MvMpjQNg"
   },
   "source": [
    "### Desvio padrão amostral\n",
    "\n",
    "# $$S = \\sqrt{\\frac 1{n-1}\\sum_{i=1}^{n}(X_i-\\bar{X})^2} \\Longrightarrow S = \\sqrt{S^2}$$"
   ]
  },
  {
   "cell_type": "markdown",
   "metadata": {},
   "source": [
    "### <font color=red>Documentações:\n",
    "\n",
    "- [**sd**](https://www.rdocumentation.org/packages/stats/versions/3.6.1/topics/sd)\n",
    "- [**summary**](https://www.rdocumentation.org/packages/base/versions/3.6.1/topics/summary)"
   ]
  },
  {
   "cell_type": "code",
   "execution_count": null,
   "metadata": {
    "colab": {
     "base_uri": "https://localhost:8080/",
     "height": 35
    },
    "colab_type": "code",
    "id": "2di6iLFaSPda",
    "outputId": "d4b3d928-0ef9-4412-8b97-a16724770f84"
   },
   "outputs": [],
   "source": []
  },
  {
   "cell_type": "code",
   "execution_count": null,
   "metadata": {
    "colab": {
     "base_uri": "https://localhost:8080/",
     "height": 35
    },
    "colab_type": "code",
    "id": "BMTx9yKHSPON",
    "outputId": "2a045e01-b0a6-4c42-96e8-18708617687d"
   },
   "outputs": [],
   "source": []
  },
  {
   "cell_type": "code",
   "execution_count": null,
   "metadata": {
    "colab": {
     "base_uri": "https://localhost:8080/",
     "height": 266
    },
    "colab_type": "code",
    "id": "_PeQtqbdjQNh",
    "outputId": "dd38bbe1-9fbc-4be6-85a5-8e481520bf85"
   },
   "outputs": [],
   "source": []
  },
  {
   "cell_type": "code",
   "execution_count": null,
   "metadata": {
    "colab": {
     "base_uri": "https://localhost:8080/",
     "height": 107
    },
    "colab_type": "code",
    "id": "5LYOKy25jQNi",
    "outputId": "c263cc75-8407-4546-ef00-64a6abd9a6a7"
   },
   "outputs": [],
   "source": []
  },
  {
   "cell_type": "code",
   "execution_count": null,
   "metadata": {
    "colab": {
     "base_uri": "https://localhost:8080/",
     "height": 80
    },
    "colab_type": "code",
    "id": "G8vorygCjQNk",
    "outputId": "39af6a22-deed-47eb-eeee-17e48ccf9a7f"
   },
   "outputs": [],
   "source": []
  },
  {
   "cell_type": "code",
   "execution_count": null,
   "metadata": {
    "colab": {
     "base_uri": "https://localhost:8080/",
     "height": 107
    },
    "colab_type": "code",
    "id": "01op3BEvjQNl",
    "outputId": "5b427605-ac79-4071-8b6f-4eee089337a0"
   },
   "outputs": [],
   "source": []
  },
  {
   "cell_type": "code",
   "execution_count": null,
   "metadata": {
    "colab": {},
    "colab_type": "code",
    "id": "aiUvZluhUx-0"
   },
   "outputs": [],
   "source": []
  }
 ],
 "metadata": {
  "colab": {
   "name": "Curso_de_Estatística_Parte_1.ipynb",
   "provenance": [],
   "toc_visible": true,
   "version": "0.3.2"
  },
  "kernelspec": {
   "display_name": "R",
   "language": "R",
   "name": "ir"
  },
  "language_info": {
   "codemirror_mode": "r",
   "file_extension": ".r",
   "mimetype": "text/x-r-source",
   "name": "R",
   "pygments_lexer": "r",
   "version": "4.1.1"
  }
 },
 "nbformat": 4,
 "nbformat_minor": 4
}
